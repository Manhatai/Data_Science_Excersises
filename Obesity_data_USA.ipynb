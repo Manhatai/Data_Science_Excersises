{
 "cells": [
  {
   "cell_type": "code",
   "execution_count": 26,
   "id": "initial_id",
   "metadata": {
    "collapsed": true,
    "ExecuteTime": {
     "end_time": "2024-02-27T21:45:08.029513Z",
     "start_time": "2024-02-27T21:45:08.010042100Z"
    }
   },
   "outputs": [],
   "source": [
    "import numpy as np\n",
    "import pandas as pd\n",
    "import plotly.express as px\n",
    "import matplotlib.pyplot as plt\n",
    "import seaborn as sns"
   ]
  },
  {
   "cell_type": "code",
   "execution_count": 27,
   "outputs": [
    {
     "data": {
      "text/plain": "    OBJECTID        NAME  Obesity   Shape__Area  Shape__Length\n0          1       Texas     32.4  7.672329e+12   1.540832e+07\n1          2  California     24.2  5.327809e+12   1.451870e+07\n2          3    Kentucky     34.6  1.128830e+12   6.346699e+06\n3          4     Georgia     30.7  1.652980e+12   5.795596e+06\n4          5   Wisconsin     30.7  1.567816e+12   6.806782e+06\n5          6      Oregon     30.1  3.178446e+12   7.976011e+06\n6          7    Virginia     29.2  1.158804e+12   7.710804e+06\n7          8   Tennessee     33.8  1.177054e+12   6.350377e+06\n8          9   Louisiana     36.2  1.355094e+12   7.383857e+06\n9         10    New York     25.0  1.411441e+12   7.981383e+06\n10        11    Michigan     31.2  1.657222e+12   1.240799e+07\n11        12       Idaho     28.6  2.593598e+12   9.081125e+06\n12        13     Florida     26.8  1.674411e+12   1.053393e+07\n13        14      Alaska     29.8  5.301139e+11   6.663727e+06\n14        15     Montana     23.6  4.371466e+12   9.745472e+06\n15        16   Minnesota     26.1  2.367875e+12   8.530250e+06\n16        17    Nebraska     31.4  2.207444e+12   6.921600e+06\n17        18  Washington     26.4  2.214215e+12   7.508967e+06\n18        19        Ohio     29.8  1.158016e+12   5.015485e+06\n19        20    Illinois     30.8  1.571568e+12   6.172531e+06",
      "text/html": "<div>\n<style scoped>\n    .dataframe tbody tr th:only-of-type {\n        vertical-align: middle;\n    }\n\n    .dataframe tbody tr th {\n        vertical-align: top;\n    }\n\n    .dataframe thead th {\n        text-align: right;\n    }\n</style>\n<table border=\"1\" class=\"dataframe\">\n  <thead>\n    <tr style=\"text-align: right;\">\n      <th></th>\n      <th>OBJECTID</th>\n      <th>NAME</th>\n      <th>Obesity</th>\n      <th>Shape__Area</th>\n      <th>Shape__Length</th>\n    </tr>\n  </thead>\n  <tbody>\n    <tr>\n      <th>0</th>\n      <td>1</td>\n      <td>Texas</td>\n      <td>32.4</td>\n      <td>7.672329e+12</td>\n      <td>1.540832e+07</td>\n    </tr>\n    <tr>\n      <th>1</th>\n      <td>2</td>\n      <td>California</td>\n      <td>24.2</td>\n      <td>5.327809e+12</td>\n      <td>1.451870e+07</td>\n    </tr>\n    <tr>\n      <th>2</th>\n      <td>3</td>\n      <td>Kentucky</td>\n      <td>34.6</td>\n      <td>1.128830e+12</td>\n      <td>6.346699e+06</td>\n    </tr>\n    <tr>\n      <th>3</th>\n      <td>4</td>\n      <td>Georgia</td>\n      <td>30.7</td>\n      <td>1.652980e+12</td>\n      <td>5.795596e+06</td>\n    </tr>\n    <tr>\n      <th>4</th>\n      <td>5</td>\n      <td>Wisconsin</td>\n      <td>30.7</td>\n      <td>1.567816e+12</td>\n      <td>6.806782e+06</td>\n    </tr>\n    <tr>\n      <th>5</th>\n      <td>6</td>\n      <td>Oregon</td>\n      <td>30.1</td>\n      <td>3.178446e+12</td>\n      <td>7.976011e+06</td>\n    </tr>\n    <tr>\n      <th>6</th>\n      <td>7</td>\n      <td>Virginia</td>\n      <td>29.2</td>\n      <td>1.158804e+12</td>\n      <td>7.710804e+06</td>\n    </tr>\n    <tr>\n      <th>7</th>\n      <td>8</td>\n      <td>Tennessee</td>\n      <td>33.8</td>\n      <td>1.177054e+12</td>\n      <td>6.350377e+06</td>\n    </tr>\n    <tr>\n      <th>8</th>\n      <td>9</td>\n      <td>Louisiana</td>\n      <td>36.2</td>\n      <td>1.355094e+12</td>\n      <td>7.383857e+06</td>\n    </tr>\n    <tr>\n      <th>9</th>\n      <td>10</td>\n      <td>New York</td>\n      <td>25.0</td>\n      <td>1.411441e+12</td>\n      <td>7.981383e+06</td>\n    </tr>\n    <tr>\n      <th>10</th>\n      <td>11</td>\n      <td>Michigan</td>\n      <td>31.2</td>\n      <td>1.657222e+12</td>\n      <td>1.240799e+07</td>\n    </tr>\n    <tr>\n      <th>11</th>\n      <td>12</td>\n      <td>Idaho</td>\n      <td>28.6</td>\n      <td>2.593598e+12</td>\n      <td>9.081125e+06</td>\n    </tr>\n    <tr>\n      <th>12</th>\n      <td>13</td>\n      <td>Florida</td>\n      <td>26.8</td>\n      <td>1.674411e+12</td>\n      <td>1.053393e+07</td>\n    </tr>\n    <tr>\n      <th>13</th>\n      <td>14</td>\n      <td>Alaska</td>\n      <td>29.8</td>\n      <td>5.301139e+11</td>\n      <td>6.663727e+06</td>\n    </tr>\n    <tr>\n      <th>14</th>\n      <td>15</td>\n      <td>Montana</td>\n      <td>23.6</td>\n      <td>4.371466e+12</td>\n      <td>9.745472e+06</td>\n    </tr>\n    <tr>\n      <th>15</th>\n      <td>16</td>\n      <td>Minnesota</td>\n      <td>26.1</td>\n      <td>2.367875e+12</td>\n      <td>8.530250e+06</td>\n    </tr>\n    <tr>\n      <th>16</th>\n      <td>17</td>\n      <td>Nebraska</td>\n      <td>31.4</td>\n      <td>2.207444e+12</td>\n      <td>6.921600e+06</td>\n    </tr>\n    <tr>\n      <th>17</th>\n      <td>18</td>\n      <td>Washington</td>\n      <td>26.4</td>\n      <td>2.214215e+12</td>\n      <td>7.508967e+06</td>\n    </tr>\n    <tr>\n      <th>18</th>\n      <td>19</td>\n      <td>Ohio</td>\n      <td>29.8</td>\n      <td>1.158016e+12</td>\n      <td>5.015485e+06</td>\n    </tr>\n    <tr>\n      <th>19</th>\n      <td>20</td>\n      <td>Illinois</td>\n      <td>30.8</td>\n      <td>1.571568e+12</td>\n      <td>6.172531e+06</td>\n    </tr>\n  </tbody>\n</table>\n</div>"
     },
     "execution_count": 27,
     "metadata": {},
     "output_type": "execute_result"
    }
   ],
   "source": [
    "df_raw = pd.read_csv('LakeCounty_Health.csv')\n",
    "df_raw.head(20) "
   ],
   "metadata": {
    "collapsed": false,
    "ExecuteTime": {
     "end_time": "2024-02-27T21:45:08.030519100Z",
     "start_time": "2024-02-27T21:45:08.013556400Z"
    }
   },
   "id": "860f4a23667262b8"
  },
  {
   "cell_type": "code",
   "execution_count": 28,
   "outputs": [
    {
     "data": {
      "text/plain": "    OBJECTID                  NAME  Obesity   Shape__Area  Shape__Length\n0          1                 Texas     32.4  7.672329e+12   1.540832e+07\n1          2            California     24.2  5.327809e+12   1.451870e+07\n2          3              Kentucky     34.6  1.128830e+12   6.346699e+06\n3          4               Georgia     30.7  1.652980e+12   5.795596e+06\n4          5             Wisconsin     30.7  1.567816e+12   6.806782e+06\n5          6                Oregon     30.1  3.178446e+12   7.976011e+06\n6          7              Virginia     29.2  1.158804e+12   7.710804e+06\n7          8             Tennessee     33.8  1.177054e+12   6.350377e+06\n8          9             Louisiana     36.2  1.355094e+12   7.383857e+06\n9         10              New York     25.0  1.411441e+12   7.981383e+06\n10        11              Michigan     31.2  1.657222e+12   1.240799e+07\n11        12                 Idaho     28.6  2.593598e+12   9.081125e+06\n12        13               Florida     26.8  1.674411e+12   1.053393e+07\n13        14                Alaska     29.8  5.301139e+11   6.663727e+06\n14        15               Montana     23.6  4.371466e+12   9.745472e+06\n15        16             Minnesota     26.1  2.367875e+12   8.530250e+06\n16        17              Nebraska     31.4  2.207444e+12   6.921600e+06\n17        18            Washington     26.4  2.214215e+12   7.508967e+06\n18        19                  Ohio     29.8  1.158016e+12   5.015485e+06\n19        20              Illinois     30.8  1.571568e+12   6.172531e+06\n20        21              Missouri     32.4  1.949021e+12   7.165633e+06\n21        22                  Iowa     32.1  1.575589e+12   5.558145e+06\n22        23          South Dakota     30.4  2.199053e+12   6.680911e+06\n23        24              Arkansas     34.5  1.488699e+12   5.707634e+06\n24        25           Mississippi     35.6  1.327853e+12   5.834202e+06\n25        26              Colorado     20.2  3.066879e+12   7.092296e+06\n26        27        North Carolina     30.1  1.495756e+12   6.714056e+06\n27        28                  Utah     24.5  2.614281e+12   6.798973e+06\n28        29              Oklahoma     33.9  1.982449e+12   7.857120e+06\n29        30               Wyoming     29.0  2.897400e+12   6.860971e+06\n30        31         West Virginia     35.6  6.851674e+11   5.374280e+06\n31        32               Indiana     31.3  1.010364e+12   4.858882e+06\n32        33         Massachusetts     24.3  2.472250e+11   4.197218e+06\n33        34                Nevada     26.7  3.564354e+12   8.240795e+06\n34        35           Connecticut     25.3  1.454219e+11   1.780631e+06\n35        36  District of Columbia     22.1  1.972102e+09   2.003250e+05\n36        37          Rhode Island     26.0  3.617808e+10   9.845246e+05\n37        38               Alabama     35.6  1.442807e+12   5.750658e+06\n38        39           Puerto Rico     29.5  1.147839e+11   2.136273e+06\n39        40        South Carolina     31.7  8.782704e+11   4.370941e+06\n40        41                 Maine     30.0  9.903849e+11   5.560035e+06\n41        42                Hawaii     22.7           NaN            NaN\n42        43               Arizona     28.4  3.562686e+12   8.044184e+06\n43        44            New Mexico     28.8  3.622933e+12   8.075167e+06\n44        45              Maryland     28.9  3.039432e+11   5.850363e+06\n45        46              Delaware     29.7  5.908110e+10   1.383604e+06\n46        47          Pennsylvania     30.0  1.288452e+12   5.024348e+06\n47        48                Kansas     34.2  2.340366e+12   6.540498e+06\n48        49               Vermont     25.1  2.789313e+11   2.653732e+06\n49        50            New Jersey     25.6  2.246065e+11   2.599119e+06\n50        51          North Dakota     31.0  2.013152e+12   5.872756e+06\n51        52         New Hampshire     26.3  2.705294e+11   2.674767e+06",
      "text/html": "<div>\n<style scoped>\n    .dataframe tbody tr th:only-of-type {\n        vertical-align: middle;\n    }\n\n    .dataframe tbody tr th {\n        vertical-align: top;\n    }\n\n    .dataframe thead th {\n        text-align: right;\n    }\n</style>\n<table border=\"1\" class=\"dataframe\">\n  <thead>\n    <tr style=\"text-align: right;\">\n      <th></th>\n      <th>OBJECTID</th>\n      <th>NAME</th>\n      <th>Obesity</th>\n      <th>Shape__Area</th>\n      <th>Shape__Length</th>\n    </tr>\n  </thead>\n  <tbody>\n    <tr>\n      <th>0</th>\n      <td>1</td>\n      <td>Texas</td>\n      <td>32.4</td>\n      <td>7.672329e+12</td>\n      <td>1.540832e+07</td>\n    </tr>\n    <tr>\n      <th>1</th>\n      <td>2</td>\n      <td>California</td>\n      <td>24.2</td>\n      <td>5.327809e+12</td>\n      <td>1.451870e+07</td>\n    </tr>\n    <tr>\n      <th>2</th>\n      <td>3</td>\n      <td>Kentucky</td>\n      <td>34.6</td>\n      <td>1.128830e+12</td>\n      <td>6.346699e+06</td>\n    </tr>\n    <tr>\n      <th>3</th>\n      <td>4</td>\n      <td>Georgia</td>\n      <td>30.7</td>\n      <td>1.652980e+12</td>\n      <td>5.795596e+06</td>\n    </tr>\n    <tr>\n      <th>4</th>\n      <td>5</td>\n      <td>Wisconsin</td>\n      <td>30.7</td>\n      <td>1.567816e+12</td>\n      <td>6.806782e+06</td>\n    </tr>\n    <tr>\n      <th>5</th>\n      <td>6</td>\n      <td>Oregon</td>\n      <td>30.1</td>\n      <td>3.178446e+12</td>\n      <td>7.976011e+06</td>\n    </tr>\n    <tr>\n      <th>6</th>\n      <td>7</td>\n      <td>Virginia</td>\n      <td>29.2</td>\n      <td>1.158804e+12</td>\n      <td>7.710804e+06</td>\n    </tr>\n    <tr>\n      <th>7</th>\n      <td>8</td>\n      <td>Tennessee</td>\n      <td>33.8</td>\n      <td>1.177054e+12</td>\n      <td>6.350377e+06</td>\n    </tr>\n    <tr>\n      <th>8</th>\n      <td>9</td>\n      <td>Louisiana</td>\n      <td>36.2</td>\n      <td>1.355094e+12</td>\n      <td>7.383857e+06</td>\n    </tr>\n    <tr>\n      <th>9</th>\n      <td>10</td>\n      <td>New York</td>\n      <td>25.0</td>\n      <td>1.411441e+12</td>\n      <td>7.981383e+06</td>\n    </tr>\n    <tr>\n      <th>10</th>\n      <td>11</td>\n      <td>Michigan</td>\n      <td>31.2</td>\n      <td>1.657222e+12</td>\n      <td>1.240799e+07</td>\n    </tr>\n    <tr>\n      <th>11</th>\n      <td>12</td>\n      <td>Idaho</td>\n      <td>28.6</td>\n      <td>2.593598e+12</td>\n      <td>9.081125e+06</td>\n    </tr>\n    <tr>\n      <th>12</th>\n      <td>13</td>\n      <td>Florida</td>\n      <td>26.8</td>\n      <td>1.674411e+12</td>\n      <td>1.053393e+07</td>\n    </tr>\n    <tr>\n      <th>13</th>\n      <td>14</td>\n      <td>Alaska</td>\n      <td>29.8</td>\n      <td>5.301139e+11</td>\n      <td>6.663727e+06</td>\n    </tr>\n    <tr>\n      <th>14</th>\n      <td>15</td>\n      <td>Montana</td>\n      <td>23.6</td>\n      <td>4.371466e+12</td>\n      <td>9.745472e+06</td>\n    </tr>\n    <tr>\n      <th>15</th>\n      <td>16</td>\n      <td>Minnesota</td>\n      <td>26.1</td>\n      <td>2.367875e+12</td>\n      <td>8.530250e+06</td>\n    </tr>\n    <tr>\n      <th>16</th>\n      <td>17</td>\n      <td>Nebraska</td>\n      <td>31.4</td>\n      <td>2.207444e+12</td>\n      <td>6.921600e+06</td>\n    </tr>\n    <tr>\n      <th>17</th>\n      <td>18</td>\n      <td>Washington</td>\n      <td>26.4</td>\n      <td>2.214215e+12</td>\n      <td>7.508967e+06</td>\n    </tr>\n    <tr>\n      <th>18</th>\n      <td>19</td>\n      <td>Ohio</td>\n      <td>29.8</td>\n      <td>1.158016e+12</td>\n      <td>5.015485e+06</td>\n    </tr>\n    <tr>\n      <th>19</th>\n      <td>20</td>\n      <td>Illinois</td>\n      <td>30.8</td>\n      <td>1.571568e+12</td>\n      <td>6.172531e+06</td>\n    </tr>\n    <tr>\n      <th>20</th>\n      <td>21</td>\n      <td>Missouri</td>\n      <td>32.4</td>\n      <td>1.949021e+12</td>\n      <td>7.165633e+06</td>\n    </tr>\n    <tr>\n      <th>21</th>\n      <td>22</td>\n      <td>Iowa</td>\n      <td>32.1</td>\n      <td>1.575589e+12</td>\n      <td>5.558145e+06</td>\n    </tr>\n    <tr>\n      <th>22</th>\n      <td>23</td>\n      <td>South Dakota</td>\n      <td>30.4</td>\n      <td>2.199053e+12</td>\n      <td>6.680911e+06</td>\n    </tr>\n    <tr>\n      <th>23</th>\n      <td>24</td>\n      <td>Arkansas</td>\n      <td>34.5</td>\n      <td>1.488699e+12</td>\n      <td>5.707634e+06</td>\n    </tr>\n    <tr>\n      <th>24</th>\n      <td>25</td>\n      <td>Mississippi</td>\n      <td>35.6</td>\n      <td>1.327853e+12</td>\n      <td>5.834202e+06</td>\n    </tr>\n    <tr>\n      <th>25</th>\n      <td>26</td>\n      <td>Colorado</td>\n      <td>20.2</td>\n      <td>3.066879e+12</td>\n      <td>7.092296e+06</td>\n    </tr>\n    <tr>\n      <th>26</th>\n      <td>27</td>\n      <td>North Carolina</td>\n      <td>30.1</td>\n      <td>1.495756e+12</td>\n      <td>6.714056e+06</td>\n    </tr>\n    <tr>\n      <th>27</th>\n      <td>28</td>\n      <td>Utah</td>\n      <td>24.5</td>\n      <td>2.614281e+12</td>\n      <td>6.798973e+06</td>\n    </tr>\n    <tr>\n      <th>28</th>\n      <td>29</td>\n      <td>Oklahoma</td>\n      <td>33.9</td>\n      <td>1.982449e+12</td>\n      <td>7.857120e+06</td>\n    </tr>\n    <tr>\n      <th>29</th>\n      <td>30</td>\n      <td>Wyoming</td>\n      <td>29.0</td>\n      <td>2.897400e+12</td>\n      <td>6.860971e+06</td>\n    </tr>\n    <tr>\n      <th>30</th>\n      <td>31</td>\n      <td>West Virginia</td>\n      <td>35.6</td>\n      <td>6.851674e+11</td>\n      <td>5.374280e+06</td>\n    </tr>\n    <tr>\n      <th>31</th>\n      <td>32</td>\n      <td>Indiana</td>\n      <td>31.3</td>\n      <td>1.010364e+12</td>\n      <td>4.858882e+06</td>\n    </tr>\n    <tr>\n      <th>32</th>\n      <td>33</td>\n      <td>Massachusetts</td>\n      <td>24.3</td>\n      <td>2.472250e+11</td>\n      <td>4.197218e+06</td>\n    </tr>\n    <tr>\n      <th>33</th>\n      <td>34</td>\n      <td>Nevada</td>\n      <td>26.7</td>\n      <td>3.564354e+12</td>\n      <td>8.240795e+06</td>\n    </tr>\n    <tr>\n      <th>34</th>\n      <td>35</td>\n      <td>Connecticut</td>\n      <td>25.3</td>\n      <td>1.454219e+11</td>\n      <td>1.780631e+06</td>\n    </tr>\n    <tr>\n      <th>35</th>\n      <td>36</td>\n      <td>District of Columbia</td>\n      <td>22.1</td>\n      <td>1.972102e+09</td>\n      <td>2.003250e+05</td>\n    </tr>\n    <tr>\n      <th>36</th>\n      <td>37</td>\n      <td>Rhode Island</td>\n      <td>26.0</td>\n      <td>3.617808e+10</td>\n      <td>9.845246e+05</td>\n    </tr>\n    <tr>\n      <th>37</th>\n      <td>38</td>\n      <td>Alabama</td>\n      <td>35.6</td>\n      <td>1.442807e+12</td>\n      <td>5.750658e+06</td>\n    </tr>\n    <tr>\n      <th>38</th>\n      <td>39</td>\n      <td>Puerto Rico</td>\n      <td>29.5</td>\n      <td>1.147839e+11</td>\n      <td>2.136273e+06</td>\n    </tr>\n    <tr>\n      <th>39</th>\n      <td>40</td>\n      <td>South Carolina</td>\n      <td>31.7</td>\n      <td>8.782704e+11</td>\n      <td>4.370941e+06</td>\n    </tr>\n    <tr>\n      <th>40</th>\n      <td>41</td>\n      <td>Maine</td>\n      <td>30.0</td>\n      <td>9.903849e+11</td>\n      <td>5.560035e+06</td>\n    </tr>\n    <tr>\n      <th>41</th>\n      <td>42</td>\n      <td>Hawaii</td>\n      <td>22.7</td>\n      <td>NaN</td>\n      <td>NaN</td>\n    </tr>\n    <tr>\n      <th>42</th>\n      <td>43</td>\n      <td>Arizona</td>\n      <td>28.4</td>\n      <td>3.562686e+12</td>\n      <td>8.044184e+06</td>\n    </tr>\n    <tr>\n      <th>43</th>\n      <td>44</td>\n      <td>New Mexico</td>\n      <td>28.8</td>\n      <td>3.622933e+12</td>\n      <td>8.075167e+06</td>\n    </tr>\n    <tr>\n      <th>44</th>\n      <td>45</td>\n      <td>Maryland</td>\n      <td>28.9</td>\n      <td>3.039432e+11</td>\n      <td>5.850363e+06</td>\n    </tr>\n    <tr>\n      <th>45</th>\n      <td>46</td>\n      <td>Delaware</td>\n      <td>29.7</td>\n      <td>5.908110e+10</td>\n      <td>1.383604e+06</td>\n    </tr>\n    <tr>\n      <th>46</th>\n      <td>47</td>\n      <td>Pennsylvania</td>\n      <td>30.0</td>\n      <td>1.288452e+12</td>\n      <td>5.024348e+06</td>\n    </tr>\n    <tr>\n      <th>47</th>\n      <td>48</td>\n      <td>Kansas</td>\n      <td>34.2</td>\n      <td>2.340366e+12</td>\n      <td>6.540498e+06</td>\n    </tr>\n    <tr>\n      <th>48</th>\n      <td>49</td>\n      <td>Vermont</td>\n      <td>25.1</td>\n      <td>2.789313e+11</td>\n      <td>2.653732e+06</td>\n    </tr>\n    <tr>\n      <th>49</th>\n      <td>50</td>\n      <td>New Jersey</td>\n      <td>25.6</td>\n      <td>2.246065e+11</td>\n      <td>2.599119e+06</td>\n    </tr>\n    <tr>\n      <th>50</th>\n      <td>51</td>\n      <td>North Dakota</td>\n      <td>31.0</td>\n      <td>2.013152e+12</td>\n      <td>5.872756e+06</td>\n    </tr>\n    <tr>\n      <th>51</th>\n      <td>52</td>\n      <td>New Hampshire</td>\n      <td>26.3</td>\n      <td>2.705294e+11</td>\n      <td>2.674767e+06</td>\n    </tr>\n  </tbody>\n</table>\n</div>"
     },
     "execution_count": 28,
     "metadata": {},
     "output_type": "execute_result"
    }
   ],
   "source": [
    "df = df_raw.copy()\n",
    "df"
   ],
   "metadata": {
    "collapsed": false,
    "ExecuteTime": {
     "end_time": "2024-02-27T21:45:08.071396600Z",
     "start_time": "2024-02-27T21:45:08.028008400Z"
    }
   },
   "id": "d7a0862b71397b60"
  },
  {
   "cell_type": "code",
   "execution_count": 29,
   "outputs": [
    {
     "data": {
      "text/plain": "    objectid                  name  obesity   shape__area  shape__length\n0          1                 Texas     32.4  7.672329e+12   1.540832e+07\n1          2            California     24.2  5.327809e+12   1.451870e+07\n2          3              Kentucky     34.6  1.128830e+12   6.346699e+06\n3          4               Georgia     30.7  1.652980e+12   5.795596e+06\n4          5             Wisconsin     30.7  1.567816e+12   6.806782e+06\n5          6                Oregon     30.1  3.178446e+12   7.976011e+06\n6          7              Virginia     29.2  1.158804e+12   7.710804e+06\n7          8             Tennessee     33.8  1.177054e+12   6.350377e+06\n8          9             Louisiana     36.2  1.355094e+12   7.383857e+06\n9         10              New York     25.0  1.411441e+12   7.981383e+06\n10        11              Michigan     31.2  1.657222e+12   1.240799e+07\n11        12                 Idaho     28.6  2.593598e+12   9.081125e+06\n12        13               Florida     26.8  1.674411e+12   1.053393e+07\n13        14                Alaska     29.8  5.301139e+11   6.663727e+06\n14        15               Montana     23.6  4.371466e+12   9.745472e+06\n15        16             Minnesota     26.1  2.367875e+12   8.530250e+06\n16        17              Nebraska     31.4  2.207444e+12   6.921600e+06\n17        18            Washington     26.4  2.214215e+12   7.508967e+06\n18        19                  Ohio     29.8  1.158016e+12   5.015485e+06\n19        20              Illinois     30.8  1.571568e+12   6.172531e+06\n20        21              Missouri     32.4  1.949021e+12   7.165633e+06\n21        22                  Iowa     32.1  1.575589e+12   5.558145e+06\n22        23          South Dakota     30.4  2.199053e+12   6.680911e+06\n23        24              Arkansas     34.5  1.488699e+12   5.707634e+06\n24        25           Mississippi     35.6  1.327853e+12   5.834202e+06\n25        26              Colorado     20.2  3.066879e+12   7.092296e+06\n26        27        North Carolina     30.1  1.495756e+12   6.714056e+06\n27        28                  Utah     24.5  2.614281e+12   6.798973e+06\n28        29              Oklahoma     33.9  1.982449e+12   7.857120e+06\n29        30               Wyoming     29.0  2.897400e+12   6.860971e+06\n30        31         West Virginia     35.6  6.851674e+11   5.374280e+06\n31        32               Indiana     31.3  1.010364e+12   4.858882e+06\n32        33         Massachusetts     24.3  2.472250e+11   4.197218e+06\n33        34                Nevada     26.7  3.564354e+12   8.240795e+06\n34        35           Connecticut     25.3  1.454219e+11   1.780631e+06\n35        36  District of Columbia     22.1  1.972102e+09   2.003250e+05\n36        37          Rhode Island     26.0  3.617808e+10   9.845246e+05\n37        38               Alabama     35.6  1.442807e+12   5.750658e+06\n38        39           Puerto Rico     29.5  1.147839e+11   2.136273e+06\n39        40        South Carolina     31.7  8.782704e+11   4.370941e+06\n40        41                 Maine     30.0  9.903849e+11   5.560035e+06\n41        42                Hawaii     22.7           NaN            NaN\n42        43               Arizona     28.4  3.562686e+12   8.044184e+06\n43        44            New Mexico     28.8  3.622933e+12   8.075167e+06\n44        45              Maryland     28.9  3.039432e+11   5.850363e+06\n45        46              Delaware     29.7  5.908110e+10   1.383604e+06\n46        47          Pennsylvania     30.0  1.288452e+12   5.024348e+06\n47        48                Kansas     34.2  2.340366e+12   6.540498e+06\n48        49               Vermont     25.1  2.789313e+11   2.653732e+06\n49        50            New Jersey     25.6  2.246065e+11   2.599119e+06\n50        51          North Dakota     31.0  2.013152e+12   5.872756e+06\n51        52         New Hampshire     26.3  2.705294e+11   2.674767e+06",
      "text/html": "<div>\n<style scoped>\n    .dataframe tbody tr th:only-of-type {\n        vertical-align: middle;\n    }\n\n    .dataframe tbody tr th {\n        vertical-align: top;\n    }\n\n    .dataframe thead th {\n        text-align: right;\n    }\n</style>\n<table border=\"1\" class=\"dataframe\">\n  <thead>\n    <tr style=\"text-align: right;\">\n      <th></th>\n      <th>objectid</th>\n      <th>name</th>\n      <th>obesity</th>\n      <th>shape__area</th>\n      <th>shape__length</th>\n    </tr>\n  </thead>\n  <tbody>\n    <tr>\n      <th>0</th>\n      <td>1</td>\n      <td>Texas</td>\n      <td>32.4</td>\n      <td>7.672329e+12</td>\n      <td>1.540832e+07</td>\n    </tr>\n    <tr>\n      <th>1</th>\n      <td>2</td>\n      <td>California</td>\n      <td>24.2</td>\n      <td>5.327809e+12</td>\n      <td>1.451870e+07</td>\n    </tr>\n    <tr>\n      <th>2</th>\n      <td>3</td>\n      <td>Kentucky</td>\n      <td>34.6</td>\n      <td>1.128830e+12</td>\n      <td>6.346699e+06</td>\n    </tr>\n    <tr>\n      <th>3</th>\n      <td>4</td>\n      <td>Georgia</td>\n      <td>30.7</td>\n      <td>1.652980e+12</td>\n      <td>5.795596e+06</td>\n    </tr>\n    <tr>\n      <th>4</th>\n      <td>5</td>\n      <td>Wisconsin</td>\n      <td>30.7</td>\n      <td>1.567816e+12</td>\n      <td>6.806782e+06</td>\n    </tr>\n    <tr>\n      <th>5</th>\n      <td>6</td>\n      <td>Oregon</td>\n      <td>30.1</td>\n      <td>3.178446e+12</td>\n      <td>7.976011e+06</td>\n    </tr>\n    <tr>\n      <th>6</th>\n      <td>7</td>\n      <td>Virginia</td>\n      <td>29.2</td>\n      <td>1.158804e+12</td>\n      <td>7.710804e+06</td>\n    </tr>\n    <tr>\n      <th>7</th>\n      <td>8</td>\n      <td>Tennessee</td>\n      <td>33.8</td>\n      <td>1.177054e+12</td>\n      <td>6.350377e+06</td>\n    </tr>\n    <tr>\n      <th>8</th>\n      <td>9</td>\n      <td>Louisiana</td>\n      <td>36.2</td>\n      <td>1.355094e+12</td>\n      <td>7.383857e+06</td>\n    </tr>\n    <tr>\n      <th>9</th>\n      <td>10</td>\n      <td>New York</td>\n      <td>25.0</td>\n      <td>1.411441e+12</td>\n      <td>7.981383e+06</td>\n    </tr>\n    <tr>\n      <th>10</th>\n      <td>11</td>\n      <td>Michigan</td>\n      <td>31.2</td>\n      <td>1.657222e+12</td>\n      <td>1.240799e+07</td>\n    </tr>\n    <tr>\n      <th>11</th>\n      <td>12</td>\n      <td>Idaho</td>\n      <td>28.6</td>\n      <td>2.593598e+12</td>\n      <td>9.081125e+06</td>\n    </tr>\n    <tr>\n      <th>12</th>\n      <td>13</td>\n      <td>Florida</td>\n      <td>26.8</td>\n      <td>1.674411e+12</td>\n      <td>1.053393e+07</td>\n    </tr>\n    <tr>\n      <th>13</th>\n      <td>14</td>\n      <td>Alaska</td>\n      <td>29.8</td>\n      <td>5.301139e+11</td>\n      <td>6.663727e+06</td>\n    </tr>\n    <tr>\n      <th>14</th>\n      <td>15</td>\n      <td>Montana</td>\n      <td>23.6</td>\n      <td>4.371466e+12</td>\n      <td>9.745472e+06</td>\n    </tr>\n    <tr>\n      <th>15</th>\n      <td>16</td>\n      <td>Minnesota</td>\n      <td>26.1</td>\n      <td>2.367875e+12</td>\n      <td>8.530250e+06</td>\n    </tr>\n    <tr>\n      <th>16</th>\n      <td>17</td>\n      <td>Nebraska</td>\n      <td>31.4</td>\n      <td>2.207444e+12</td>\n      <td>6.921600e+06</td>\n    </tr>\n    <tr>\n      <th>17</th>\n      <td>18</td>\n      <td>Washington</td>\n      <td>26.4</td>\n      <td>2.214215e+12</td>\n      <td>7.508967e+06</td>\n    </tr>\n    <tr>\n      <th>18</th>\n      <td>19</td>\n      <td>Ohio</td>\n      <td>29.8</td>\n      <td>1.158016e+12</td>\n      <td>5.015485e+06</td>\n    </tr>\n    <tr>\n      <th>19</th>\n      <td>20</td>\n      <td>Illinois</td>\n      <td>30.8</td>\n      <td>1.571568e+12</td>\n      <td>6.172531e+06</td>\n    </tr>\n    <tr>\n      <th>20</th>\n      <td>21</td>\n      <td>Missouri</td>\n      <td>32.4</td>\n      <td>1.949021e+12</td>\n      <td>7.165633e+06</td>\n    </tr>\n    <tr>\n      <th>21</th>\n      <td>22</td>\n      <td>Iowa</td>\n      <td>32.1</td>\n      <td>1.575589e+12</td>\n      <td>5.558145e+06</td>\n    </tr>\n    <tr>\n      <th>22</th>\n      <td>23</td>\n      <td>South Dakota</td>\n      <td>30.4</td>\n      <td>2.199053e+12</td>\n      <td>6.680911e+06</td>\n    </tr>\n    <tr>\n      <th>23</th>\n      <td>24</td>\n      <td>Arkansas</td>\n      <td>34.5</td>\n      <td>1.488699e+12</td>\n      <td>5.707634e+06</td>\n    </tr>\n    <tr>\n      <th>24</th>\n      <td>25</td>\n      <td>Mississippi</td>\n      <td>35.6</td>\n      <td>1.327853e+12</td>\n      <td>5.834202e+06</td>\n    </tr>\n    <tr>\n      <th>25</th>\n      <td>26</td>\n      <td>Colorado</td>\n      <td>20.2</td>\n      <td>3.066879e+12</td>\n      <td>7.092296e+06</td>\n    </tr>\n    <tr>\n      <th>26</th>\n      <td>27</td>\n      <td>North Carolina</td>\n      <td>30.1</td>\n      <td>1.495756e+12</td>\n      <td>6.714056e+06</td>\n    </tr>\n    <tr>\n      <th>27</th>\n      <td>28</td>\n      <td>Utah</td>\n      <td>24.5</td>\n      <td>2.614281e+12</td>\n      <td>6.798973e+06</td>\n    </tr>\n    <tr>\n      <th>28</th>\n      <td>29</td>\n      <td>Oklahoma</td>\n      <td>33.9</td>\n      <td>1.982449e+12</td>\n      <td>7.857120e+06</td>\n    </tr>\n    <tr>\n      <th>29</th>\n      <td>30</td>\n      <td>Wyoming</td>\n      <td>29.0</td>\n      <td>2.897400e+12</td>\n      <td>6.860971e+06</td>\n    </tr>\n    <tr>\n      <th>30</th>\n      <td>31</td>\n      <td>West Virginia</td>\n      <td>35.6</td>\n      <td>6.851674e+11</td>\n      <td>5.374280e+06</td>\n    </tr>\n    <tr>\n      <th>31</th>\n      <td>32</td>\n      <td>Indiana</td>\n      <td>31.3</td>\n      <td>1.010364e+12</td>\n      <td>4.858882e+06</td>\n    </tr>\n    <tr>\n      <th>32</th>\n      <td>33</td>\n      <td>Massachusetts</td>\n      <td>24.3</td>\n      <td>2.472250e+11</td>\n      <td>4.197218e+06</td>\n    </tr>\n    <tr>\n      <th>33</th>\n      <td>34</td>\n      <td>Nevada</td>\n      <td>26.7</td>\n      <td>3.564354e+12</td>\n      <td>8.240795e+06</td>\n    </tr>\n    <tr>\n      <th>34</th>\n      <td>35</td>\n      <td>Connecticut</td>\n      <td>25.3</td>\n      <td>1.454219e+11</td>\n      <td>1.780631e+06</td>\n    </tr>\n    <tr>\n      <th>35</th>\n      <td>36</td>\n      <td>District of Columbia</td>\n      <td>22.1</td>\n      <td>1.972102e+09</td>\n      <td>2.003250e+05</td>\n    </tr>\n    <tr>\n      <th>36</th>\n      <td>37</td>\n      <td>Rhode Island</td>\n      <td>26.0</td>\n      <td>3.617808e+10</td>\n      <td>9.845246e+05</td>\n    </tr>\n    <tr>\n      <th>37</th>\n      <td>38</td>\n      <td>Alabama</td>\n      <td>35.6</td>\n      <td>1.442807e+12</td>\n      <td>5.750658e+06</td>\n    </tr>\n    <tr>\n      <th>38</th>\n      <td>39</td>\n      <td>Puerto Rico</td>\n      <td>29.5</td>\n      <td>1.147839e+11</td>\n      <td>2.136273e+06</td>\n    </tr>\n    <tr>\n      <th>39</th>\n      <td>40</td>\n      <td>South Carolina</td>\n      <td>31.7</td>\n      <td>8.782704e+11</td>\n      <td>4.370941e+06</td>\n    </tr>\n    <tr>\n      <th>40</th>\n      <td>41</td>\n      <td>Maine</td>\n      <td>30.0</td>\n      <td>9.903849e+11</td>\n      <td>5.560035e+06</td>\n    </tr>\n    <tr>\n      <th>41</th>\n      <td>42</td>\n      <td>Hawaii</td>\n      <td>22.7</td>\n      <td>NaN</td>\n      <td>NaN</td>\n    </tr>\n    <tr>\n      <th>42</th>\n      <td>43</td>\n      <td>Arizona</td>\n      <td>28.4</td>\n      <td>3.562686e+12</td>\n      <td>8.044184e+06</td>\n    </tr>\n    <tr>\n      <th>43</th>\n      <td>44</td>\n      <td>New Mexico</td>\n      <td>28.8</td>\n      <td>3.622933e+12</td>\n      <td>8.075167e+06</td>\n    </tr>\n    <tr>\n      <th>44</th>\n      <td>45</td>\n      <td>Maryland</td>\n      <td>28.9</td>\n      <td>3.039432e+11</td>\n      <td>5.850363e+06</td>\n    </tr>\n    <tr>\n      <th>45</th>\n      <td>46</td>\n      <td>Delaware</td>\n      <td>29.7</td>\n      <td>5.908110e+10</td>\n      <td>1.383604e+06</td>\n    </tr>\n    <tr>\n      <th>46</th>\n      <td>47</td>\n      <td>Pennsylvania</td>\n      <td>30.0</td>\n      <td>1.288452e+12</td>\n      <td>5.024348e+06</td>\n    </tr>\n    <tr>\n      <th>47</th>\n      <td>48</td>\n      <td>Kansas</td>\n      <td>34.2</td>\n      <td>2.340366e+12</td>\n      <td>6.540498e+06</td>\n    </tr>\n    <tr>\n      <th>48</th>\n      <td>49</td>\n      <td>Vermont</td>\n      <td>25.1</td>\n      <td>2.789313e+11</td>\n      <td>2.653732e+06</td>\n    </tr>\n    <tr>\n      <th>49</th>\n      <td>50</td>\n      <td>New Jersey</td>\n      <td>25.6</td>\n      <td>2.246065e+11</td>\n      <td>2.599119e+06</td>\n    </tr>\n    <tr>\n      <th>50</th>\n      <td>51</td>\n      <td>North Dakota</td>\n      <td>31.0</td>\n      <td>2.013152e+12</td>\n      <td>5.872756e+06</td>\n    </tr>\n    <tr>\n      <th>51</th>\n      <td>52</td>\n      <td>New Hampshire</td>\n      <td>26.3</td>\n      <td>2.705294e+11</td>\n      <td>2.674767e+06</td>\n    </tr>\n  </tbody>\n</table>\n</div>"
     },
     "execution_count": 29,
     "metadata": {},
     "output_type": "execute_result"
    }
   ],
   "source": [
    "df.columns = [col.lower().replace(' ', '_') for col in df.columns]\n",
    "df"
   ],
   "metadata": {
    "collapsed": false,
    "ExecuteTime": {
     "end_time": "2024-02-27T21:45:08.108423Z",
     "start_time": "2024-02-27T21:45:08.043037500Z"
    }
   },
   "id": "4b78e147c01cb469"
  },
  {
   "cell_type": "code",
   "execution_count": 30,
   "outputs": [
    {
     "name": "stdout",
     "output_type": "stream",
     "text": [
      "<class 'pandas.core.frame.DataFrame'>\n",
      "RangeIndex: 52 entries, 0 to 51\n",
      "Data columns (total 5 columns):\n",
      " #   Column         Non-Null Count  Dtype  \n",
      "---  ------         --------------  -----  \n",
      " 0   objectid       52 non-null     int64  \n",
      " 1   name           52 non-null     object \n",
      " 2   obesity        52 non-null     float64\n",
      " 3   shape__area    51 non-null     float64\n",
      " 4   shape__length  51 non-null     float64\n",
      "dtypes: float64(3), int64(1), object(1)\n",
      "memory usage: 2.2+ KB\n"
     ]
    }
   ],
   "source": [
    "df.info()"
   ],
   "metadata": {
    "collapsed": false,
    "ExecuteTime": {
     "end_time": "2024-02-27T21:45:08.109423300Z",
     "start_time": "2024-02-27T21:45:08.057633100Z"
    }
   },
   "id": "c45be48cd7369c6a"
  },
  {
   "cell_type": "code",
   "execution_count": 31,
   "outputs": [
    {
     "data": {
      "text/plain": "                          name  obesity   shape__area  shape__length\nobjectid                                                            \n1                        Texas     32.4  7.672329e+12   1.540832e+07\n2                   California     24.2  5.327809e+12   1.451870e+07\n3                     Kentucky     34.6  1.128830e+12   6.346699e+06\n4                      Georgia     30.7  1.652980e+12   5.795596e+06\n5                    Wisconsin     30.7  1.567816e+12   6.806782e+06\n6                       Oregon     30.1  3.178446e+12   7.976011e+06\n7                     Virginia     29.2  1.158804e+12   7.710804e+06\n8                    Tennessee     33.8  1.177054e+12   6.350377e+06\n9                    Louisiana     36.2  1.355094e+12   7.383857e+06\n10                    New York     25.0  1.411441e+12   7.981383e+06\n11                    Michigan     31.2  1.657222e+12   1.240799e+07\n12                       Idaho     28.6  2.593598e+12   9.081125e+06\n13                     Florida     26.8  1.674411e+12   1.053393e+07\n14                      Alaska     29.8  5.301139e+11   6.663727e+06\n15                     Montana     23.6  4.371466e+12   9.745472e+06\n16                   Minnesota     26.1  2.367875e+12   8.530250e+06\n17                    Nebraska     31.4  2.207444e+12   6.921600e+06\n18                  Washington     26.4  2.214215e+12   7.508967e+06\n19                        Ohio     29.8  1.158016e+12   5.015485e+06\n20                    Illinois     30.8  1.571568e+12   6.172531e+06\n21                    Missouri     32.4  1.949021e+12   7.165633e+06\n22                        Iowa     32.1  1.575589e+12   5.558145e+06\n23                South Dakota     30.4  2.199053e+12   6.680911e+06\n24                    Arkansas     34.5  1.488699e+12   5.707634e+06\n25                 Mississippi     35.6  1.327853e+12   5.834202e+06\n26                    Colorado     20.2  3.066879e+12   7.092296e+06\n27              North Carolina     30.1  1.495756e+12   6.714056e+06\n28                        Utah     24.5  2.614281e+12   6.798973e+06\n29                    Oklahoma     33.9  1.982449e+12   7.857120e+06\n30                     Wyoming     29.0  2.897400e+12   6.860971e+06\n31               West Virginia     35.6  6.851674e+11   5.374280e+06\n32                     Indiana     31.3  1.010364e+12   4.858882e+06\n33               Massachusetts     24.3  2.472250e+11   4.197218e+06\n34                      Nevada     26.7  3.564354e+12   8.240795e+06\n35                 Connecticut     25.3  1.454219e+11   1.780631e+06\n36        District of Columbia     22.1  1.972102e+09   2.003250e+05\n37                Rhode Island     26.0  3.617808e+10   9.845246e+05\n38                     Alabama     35.6  1.442807e+12   5.750658e+06\n39                 Puerto Rico     29.5  1.147839e+11   2.136273e+06\n40              South Carolina     31.7  8.782704e+11   4.370941e+06\n41                       Maine     30.0  9.903849e+11   5.560035e+06\n42                      Hawaii     22.7           NaN            NaN\n43                     Arizona     28.4  3.562686e+12   8.044184e+06\n44                  New Mexico     28.8  3.622933e+12   8.075167e+06\n45                    Maryland     28.9  3.039432e+11   5.850363e+06\n46                    Delaware     29.7  5.908110e+10   1.383604e+06\n47                Pennsylvania     30.0  1.288452e+12   5.024348e+06\n48                      Kansas     34.2  2.340366e+12   6.540498e+06\n49                     Vermont     25.1  2.789313e+11   2.653732e+06\n50                  New Jersey     25.6  2.246065e+11   2.599119e+06\n51                North Dakota     31.0  2.013152e+12   5.872756e+06\n52               New Hampshire     26.3  2.705294e+11   2.674767e+06",
      "text/html": "<div>\n<style scoped>\n    .dataframe tbody tr th:only-of-type {\n        vertical-align: middle;\n    }\n\n    .dataframe tbody tr th {\n        vertical-align: top;\n    }\n\n    .dataframe thead th {\n        text-align: right;\n    }\n</style>\n<table border=\"1\" class=\"dataframe\">\n  <thead>\n    <tr style=\"text-align: right;\">\n      <th></th>\n      <th>name</th>\n      <th>obesity</th>\n      <th>shape__area</th>\n      <th>shape__length</th>\n    </tr>\n    <tr>\n      <th>objectid</th>\n      <th></th>\n      <th></th>\n      <th></th>\n      <th></th>\n    </tr>\n  </thead>\n  <tbody>\n    <tr>\n      <th>1</th>\n      <td>Texas</td>\n      <td>32.4</td>\n      <td>7.672329e+12</td>\n      <td>1.540832e+07</td>\n    </tr>\n    <tr>\n      <th>2</th>\n      <td>California</td>\n      <td>24.2</td>\n      <td>5.327809e+12</td>\n      <td>1.451870e+07</td>\n    </tr>\n    <tr>\n      <th>3</th>\n      <td>Kentucky</td>\n      <td>34.6</td>\n      <td>1.128830e+12</td>\n      <td>6.346699e+06</td>\n    </tr>\n    <tr>\n      <th>4</th>\n      <td>Georgia</td>\n      <td>30.7</td>\n      <td>1.652980e+12</td>\n      <td>5.795596e+06</td>\n    </tr>\n    <tr>\n      <th>5</th>\n      <td>Wisconsin</td>\n      <td>30.7</td>\n      <td>1.567816e+12</td>\n      <td>6.806782e+06</td>\n    </tr>\n    <tr>\n      <th>6</th>\n      <td>Oregon</td>\n      <td>30.1</td>\n      <td>3.178446e+12</td>\n      <td>7.976011e+06</td>\n    </tr>\n    <tr>\n      <th>7</th>\n      <td>Virginia</td>\n      <td>29.2</td>\n      <td>1.158804e+12</td>\n      <td>7.710804e+06</td>\n    </tr>\n    <tr>\n      <th>8</th>\n      <td>Tennessee</td>\n      <td>33.8</td>\n      <td>1.177054e+12</td>\n      <td>6.350377e+06</td>\n    </tr>\n    <tr>\n      <th>9</th>\n      <td>Louisiana</td>\n      <td>36.2</td>\n      <td>1.355094e+12</td>\n      <td>7.383857e+06</td>\n    </tr>\n    <tr>\n      <th>10</th>\n      <td>New York</td>\n      <td>25.0</td>\n      <td>1.411441e+12</td>\n      <td>7.981383e+06</td>\n    </tr>\n    <tr>\n      <th>11</th>\n      <td>Michigan</td>\n      <td>31.2</td>\n      <td>1.657222e+12</td>\n      <td>1.240799e+07</td>\n    </tr>\n    <tr>\n      <th>12</th>\n      <td>Idaho</td>\n      <td>28.6</td>\n      <td>2.593598e+12</td>\n      <td>9.081125e+06</td>\n    </tr>\n    <tr>\n      <th>13</th>\n      <td>Florida</td>\n      <td>26.8</td>\n      <td>1.674411e+12</td>\n      <td>1.053393e+07</td>\n    </tr>\n    <tr>\n      <th>14</th>\n      <td>Alaska</td>\n      <td>29.8</td>\n      <td>5.301139e+11</td>\n      <td>6.663727e+06</td>\n    </tr>\n    <tr>\n      <th>15</th>\n      <td>Montana</td>\n      <td>23.6</td>\n      <td>4.371466e+12</td>\n      <td>9.745472e+06</td>\n    </tr>\n    <tr>\n      <th>16</th>\n      <td>Minnesota</td>\n      <td>26.1</td>\n      <td>2.367875e+12</td>\n      <td>8.530250e+06</td>\n    </tr>\n    <tr>\n      <th>17</th>\n      <td>Nebraska</td>\n      <td>31.4</td>\n      <td>2.207444e+12</td>\n      <td>6.921600e+06</td>\n    </tr>\n    <tr>\n      <th>18</th>\n      <td>Washington</td>\n      <td>26.4</td>\n      <td>2.214215e+12</td>\n      <td>7.508967e+06</td>\n    </tr>\n    <tr>\n      <th>19</th>\n      <td>Ohio</td>\n      <td>29.8</td>\n      <td>1.158016e+12</td>\n      <td>5.015485e+06</td>\n    </tr>\n    <tr>\n      <th>20</th>\n      <td>Illinois</td>\n      <td>30.8</td>\n      <td>1.571568e+12</td>\n      <td>6.172531e+06</td>\n    </tr>\n    <tr>\n      <th>21</th>\n      <td>Missouri</td>\n      <td>32.4</td>\n      <td>1.949021e+12</td>\n      <td>7.165633e+06</td>\n    </tr>\n    <tr>\n      <th>22</th>\n      <td>Iowa</td>\n      <td>32.1</td>\n      <td>1.575589e+12</td>\n      <td>5.558145e+06</td>\n    </tr>\n    <tr>\n      <th>23</th>\n      <td>South Dakota</td>\n      <td>30.4</td>\n      <td>2.199053e+12</td>\n      <td>6.680911e+06</td>\n    </tr>\n    <tr>\n      <th>24</th>\n      <td>Arkansas</td>\n      <td>34.5</td>\n      <td>1.488699e+12</td>\n      <td>5.707634e+06</td>\n    </tr>\n    <tr>\n      <th>25</th>\n      <td>Mississippi</td>\n      <td>35.6</td>\n      <td>1.327853e+12</td>\n      <td>5.834202e+06</td>\n    </tr>\n    <tr>\n      <th>26</th>\n      <td>Colorado</td>\n      <td>20.2</td>\n      <td>3.066879e+12</td>\n      <td>7.092296e+06</td>\n    </tr>\n    <tr>\n      <th>27</th>\n      <td>North Carolina</td>\n      <td>30.1</td>\n      <td>1.495756e+12</td>\n      <td>6.714056e+06</td>\n    </tr>\n    <tr>\n      <th>28</th>\n      <td>Utah</td>\n      <td>24.5</td>\n      <td>2.614281e+12</td>\n      <td>6.798973e+06</td>\n    </tr>\n    <tr>\n      <th>29</th>\n      <td>Oklahoma</td>\n      <td>33.9</td>\n      <td>1.982449e+12</td>\n      <td>7.857120e+06</td>\n    </tr>\n    <tr>\n      <th>30</th>\n      <td>Wyoming</td>\n      <td>29.0</td>\n      <td>2.897400e+12</td>\n      <td>6.860971e+06</td>\n    </tr>\n    <tr>\n      <th>31</th>\n      <td>West Virginia</td>\n      <td>35.6</td>\n      <td>6.851674e+11</td>\n      <td>5.374280e+06</td>\n    </tr>\n    <tr>\n      <th>32</th>\n      <td>Indiana</td>\n      <td>31.3</td>\n      <td>1.010364e+12</td>\n      <td>4.858882e+06</td>\n    </tr>\n    <tr>\n      <th>33</th>\n      <td>Massachusetts</td>\n      <td>24.3</td>\n      <td>2.472250e+11</td>\n      <td>4.197218e+06</td>\n    </tr>\n    <tr>\n      <th>34</th>\n      <td>Nevada</td>\n      <td>26.7</td>\n      <td>3.564354e+12</td>\n      <td>8.240795e+06</td>\n    </tr>\n    <tr>\n      <th>35</th>\n      <td>Connecticut</td>\n      <td>25.3</td>\n      <td>1.454219e+11</td>\n      <td>1.780631e+06</td>\n    </tr>\n    <tr>\n      <th>36</th>\n      <td>District of Columbia</td>\n      <td>22.1</td>\n      <td>1.972102e+09</td>\n      <td>2.003250e+05</td>\n    </tr>\n    <tr>\n      <th>37</th>\n      <td>Rhode Island</td>\n      <td>26.0</td>\n      <td>3.617808e+10</td>\n      <td>9.845246e+05</td>\n    </tr>\n    <tr>\n      <th>38</th>\n      <td>Alabama</td>\n      <td>35.6</td>\n      <td>1.442807e+12</td>\n      <td>5.750658e+06</td>\n    </tr>\n    <tr>\n      <th>39</th>\n      <td>Puerto Rico</td>\n      <td>29.5</td>\n      <td>1.147839e+11</td>\n      <td>2.136273e+06</td>\n    </tr>\n    <tr>\n      <th>40</th>\n      <td>South Carolina</td>\n      <td>31.7</td>\n      <td>8.782704e+11</td>\n      <td>4.370941e+06</td>\n    </tr>\n    <tr>\n      <th>41</th>\n      <td>Maine</td>\n      <td>30.0</td>\n      <td>9.903849e+11</td>\n      <td>5.560035e+06</td>\n    </tr>\n    <tr>\n      <th>42</th>\n      <td>Hawaii</td>\n      <td>22.7</td>\n      <td>NaN</td>\n      <td>NaN</td>\n    </tr>\n    <tr>\n      <th>43</th>\n      <td>Arizona</td>\n      <td>28.4</td>\n      <td>3.562686e+12</td>\n      <td>8.044184e+06</td>\n    </tr>\n    <tr>\n      <th>44</th>\n      <td>New Mexico</td>\n      <td>28.8</td>\n      <td>3.622933e+12</td>\n      <td>8.075167e+06</td>\n    </tr>\n    <tr>\n      <th>45</th>\n      <td>Maryland</td>\n      <td>28.9</td>\n      <td>3.039432e+11</td>\n      <td>5.850363e+06</td>\n    </tr>\n    <tr>\n      <th>46</th>\n      <td>Delaware</td>\n      <td>29.7</td>\n      <td>5.908110e+10</td>\n      <td>1.383604e+06</td>\n    </tr>\n    <tr>\n      <th>47</th>\n      <td>Pennsylvania</td>\n      <td>30.0</td>\n      <td>1.288452e+12</td>\n      <td>5.024348e+06</td>\n    </tr>\n    <tr>\n      <th>48</th>\n      <td>Kansas</td>\n      <td>34.2</td>\n      <td>2.340366e+12</td>\n      <td>6.540498e+06</td>\n    </tr>\n    <tr>\n      <th>49</th>\n      <td>Vermont</td>\n      <td>25.1</td>\n      <td>2.789313e+11</td>\n      <td>2.653732e+06</td>\n    </tr>\n    <tr>\n      <th>50</th>\n      <td>New Jersey</td>\n      <td>25.6</td>\n      <td>2.246065e+11</td>\n      <td>2.599119e+06</td>\n    </tr>\n    <tr>\n      <th>51</th>\n      <td>North Dakota</td>\n      <td>31.0</td>\n      <td>2.013152e+12</td>\n      <td>5.872756e+06</td>\n    </tr>\n    <tr>\n      <th>52</th>\n      <td>New Hampshire</td>\n      <td>26.3</td>\n      <td>2.705294e+11</td>\n      <td>2.674767e+06</td>\n    </tr>\n  </tbody>\n</table>\n</div>"
     },
     "execution_count": 31,
     "metadata": {},
     "output_type": "execute_result"
    }
   ],
   "source": [
    "df = df.set_index('objectid')\n",
    "df"
   ],
   "metadata": {
    "collapsed": false,
    "ExecuteTime": {
     "end_time": "2024-02-27T21:45:08.124296500Z",
     "start_time": "2024-02-27T21:45:08.063872500Z"
    }
   },
   "id": "5bb386eb75f916ba"
  },
  {
   "cell_type": "code",
   "execution_count": 32,
   "outputs": [
    {
     "data": {
      "text/plain": "                          name  obesity_percentage    shape_area  shape_length\nobjectid                                                                      \n1                        Texas                32.4  7.672329e+12  1.540832e+07\n2                   California                24.2  5.327809e+12  1.451870e+07\n3                     Kentucky                34.6  1.128830e+12  6.346699e+06\n4                      Georgia                30.7  1.652980e+12  5.795596e+06\n5                    Wisconsin                30.7  1.567816e+12  6.806782e+06\n6                       Oregon                30.1  3.178446e+12  7.976011e+06\n7                     Virginia                29.2  1.158804e+12  7.710804e+06\n8                    Tennessee                33.8  1.177054e+12  6.350377e+06\n9                    Louisiana                36.2  1.355094e+12  7.383857e+06\n10                    New York                25.0  1.411441e+12  7.981383e+06\n11                    Michigan                31.2  1.657222e+12  1.240799e+07\n12                       Idaho                28.6  2.593598e+12  9.081125e+06\n13                     Florida                26.8  1.674411e+12  1.053393e+07\n14                      Alaska                29.8  5.301139e+11  6.663727e+06\n15                     Montana                23.6  4.371466e+12  9.745472e+06\n16                   Minnesota                26.1  2.367875e+12  8.530250e+06\n17                    Nebraska                31.4  2.207444e+12  6.921600e+06\n18                  Washington                26.4  2.214215e+12  7.508967e+06\n19                        Ohio                29.8  1.158016e+12  5.015485e+06\n20                    Illinois                30.8  1.571568e+12  6.172531e+06\n21                    Missouri                32.4  1.949021e+12  7.165633e+06\n22                        Iowa                32.1  1.575589e+12  5.558145e+06\n23                South Dakota                30.4  2.199053e+12  6.680911e+06\n24                    Arkansas                34.5  1.488699e+12  5.707634e+06\n25                 Mississippi                35.6  1.327853e+12  5.834202e+06\n26                    Colorado                20.2  3.066879e+12  7.092296e+06\n27              North Carolina                30.1  1.495756e+12  6.714056e+06\n28                        Utah                24.5  2.614281e+12  6.798973e+06\n29                    Oklahoma                33.9  1.982449e+12  7.857120e+06\n30                     Wyoming                29.0  2.897400e+12  6.860971e+06\n31               West Virginia                35.6  6.851674e+11  5.374280e+06\n32                     Indiana                31.3  1.010364e+12  4.858882e+06\n33               Massachusetts                24.3  2.472250e+11  4.197218e+06\n34                      Nevada                26.7  3.564354e+12  8.240795e+06\n35                 Connecticut                25.3  1.454219e+11  1.780631e+06\n36        District of Columbia                22.1  1.972102e+09  2.003250e+05\n37                Rhode Island                26.0  3.617808e+10  9.845246e+05\n38                     Alabama                35.6  1.442807e+12  5.750658e+06\n39                 Puerto Rico                29.5  1.147839e+11  2.136273e+06\n40              South Carolina                31.7  8.782704e+11  4.370941e+06\n41                       Maine                30.0  9.903849e+11  5.560035e+06\n42                      Hawaii                22.7           NaN           NaN\n43                     Arizona                28.4  3.562686e+12  8.044184e+06\n44                  New Mexico                28.8  3.622933e+12  8.075167e+06\n45                    Maryland                28.9  3.039432e+11  5.850363e+06\n46                    Delaware                29.7  5.908110e+10  1.383604e+06\n47                Pennsylvania                30.0  1.288452e+12  5.024348e+06\n48                      Kansas                34.2  2.340366e+12  6.540498e+06\n49                     Vermont                25.1  2.789313e+11  2.653732e+06\n50                  New Jersey                25.6  2.246065e+11  2.599119e+06\n51                North Dakota                31.0  2.013152e+12  5.872756e+06\n52               New Hampshire                26.3  2.705294e+11  2.674767e+06",
      "text/html": "<div>\n<style scoped>\n    .dataframe tbody tr th:only-of-type {\n        vertical-align: middle;\n    }\n\n    .dataframe tbody tr th {\n        vertical-align: top;\n    }\n\n    .dataframe thead th {\n        text-align: right;\n    }\n</style>\n<table border=\"1\" class=\"dataframe\">\n  <thead>\n    <tr style=\"text-align: right;\">\n      <th></th>\n      <th>name</th>\n      <th>obesity_percentage</th>\n      <th>shape_area</th>\n      <th>shape_length</th>\n    </tr>\n    <tr>\n      <th>objectid</th>\n      <th></th>\n      <th></th>\n      <th></th>\n      <th></th>\n    </tr>\n  </thead>\n  <tbody>\n    <tr>\n      <th>1</th>\n      <td>Texas</td>\n      <td>32.4</td>\n      <td>7.672329e+12</td>\n      <td>1.540832e+07</td>\n    </tr>\n    <tr>\n      <th>2</th>\n      <td>California</td>\n      <td>24.2</td>\n      <td>5.327809e+12</td>\n      <td>1.451870e+07</td>\n    </tr>\n    <tr>\n      <th>3</th>\n      <td>Kentucky</td>\n      <td>34.6</td>\n      <td>1.128830e+12</td>\n      <td>6.346699e+06</td>\n    </tr>\n    <tr>\n      <th>4</th>\n      <td>Georgia</td>\n      <td>30.7</td>\n      <td>1.652980e+12</td>\n      <td>5.795596e+06</td>\n    </tr>\n    <tr>\n      <th>5</th>\n      <td>Wisconsin</td>\n      <td>30.7</td>\n      <td>1.567816e+12</td>\n      <td>6.806782e+06</td>\n    </tr>\n    <tr>\n      <th>6</th>\n      <td>Oregon</td>\n      <td>30.1</td>\n      <td>3.178446e+12</td>\n      <td>7.976011e+06</td>\n    </tr>\n    <tr>\n      <th>7</th>\n      <td>Virginia</td>\n      <td>29.2</td>\n      <td>1.158804e+12</td>\n      <td>7.710804e+06</td>\n    </tr>\n    <tr>\n      <th>8</th>\n      <td>Tennessee</td>\n      <td>33.8</td>\n      <td>1.177054e+12</td>\n      <td>6.350377e+06</td>\n    </tr>\n    <tr>\n      <th>9</th>\n      <td>Louisiana</td>\n      <td>36.2</td>\n      <td>1.355094e+12</td>\n      <td>7.383857e+06</td>\n    </tr>\n    <tr>\n      <th>10</th>\n      <td>New York</td>\n      <td>25.0</td>\n      <td>1.411441e+12</td>\n      <td>7.981383e+06</td>\n    </tr>\n    <tr>\n      <th>11</th>\n      <td>Michigan</td>\n      <td>31.2</td>\n      <td>1.657222e+12</td>\n      <td>1.240799e+07</td>\n    </tr>\n    <tr>\n      <th>12</th>\n      <td>Idaho</td>\n      <td>28.6</td>\n      <td>2.593598e+12</td>\n      <td>9.081125e+06</td>\n    </tr>\n    <tr>\n      <th>13</th>\n      <td>Florida</td>\n      <td>26.8</td>\n      <td>1.674411e+12</td>\n      <td>1.053393e+07</td>\n    </tr>\n    <tr>\n      <th>14</th>\n      <td>Alaska</td>\n      <td>29.8</td>\n      <td>5.301139e+11</td>\n      <td>6.663727e+06</td>\n    </tr>\n    <tr>\n      <th>15</th>\n      <td>Montana</td>\n      <td>23.6</td>\n      <td>4.371466e+12</td>\n      <td>9.745472e+06</td>\n    </tr>\n    <tr>\n      <th>16</th>\n      <td>Minnesota</td>\n      <td>26.1</td>\n      <td>2.367875e+12</td>\n      <td>8.530250e+06</td>\n    </tr>\n    <tr>\n      <th>17</th>\n      <td>Nebraska</td>\n      <td>31.4</td>\n      <td>2.207444e+12</td>\n      <td>6.921600e+06</td>\n    </tr>\n    <tr>\n      <th>18</th>\n      <td>Washington</td>\n      <td>26.4</td>\n      <td>2.214215e+12</td>\n      <td>7.508967e+06</td>\n    </tr>\n    <tr>\n      <th>19</th>\n      <td>Ohio</td>\n      <td>29.8</td>\n      <td>1.158016e+12</td>\n      <td>5.015485e+06</td>\n    </tr>\n    <tr>\n      <th>20</th>\n      <td>Illinois</td>\n      <td>30.8</td>\n      <td>1.571568e+12</td>\n      <td>6.172531e+06</td>\n    </tr>\n    <tr>\n      <th>21</th>\n      <td>Missouri</td>\n      <td>32.4</td>\n      <td>1.949021e+12</td>\n      <td>7.165633e+06</td>\n    </tr>\n    <tr>\n      <th>22</th>\n      <td>Iowa</td>\n      <td>32.1</td>\n      <td>1.575589e+12</td>\n      <td>5.558145e+06</td>\n    </tr>\n    <tr>\n      <th>23</th>\n      <td>South Dakota</td>\n      <td>30.4</td>\n      <td>2.199053e+12</td>\n      <td>6.680911e+06</td>\n    </tr>\n    <tr>\n      <th>24</th>\n      <td>Arkansas</td>\n      <td>34.5</td>\n      <td>1.488699e+12</td>\n      <td>5.707634e+06</td>\n    </tr>\n    <tr>\n      <th>25</th>\n      <td>Mississippi</td>\n      <td>35.6</td>\n      <td>1.327853e+12</td>\n      <td>5.834202e+06</td>\n    </tr>\n    <tr>\n      <th>26</th>\n      <td>Colorado</td>\n      <td>20.2</td>\n      <td>3.066879e+12</td>\n      <td>7.092296e+06</td>\n    </tr>\n    <tr>\n      <th>27</th>\n      <td>North Carolina</td>\n      <td>30.1</td>\n      <td>1.495756e+12</td>\n      <td>6.714056e+06</td>\n    </tr>\n    <tr>\n      <th>28</th>\n      <td>Utah</td>\n      <td>24.5</td>\n      <td>2.614281e+12</td>\n      <td>6.798973e+06</td>\n    </tr>\n    <tr>\n      <th>29</th>\n      <td>Oklahoma</td>\n      <td>33.9</td>\n      <td>1.982449e+12</td>\n      <td>7.857120e+06</td>\n    </tr>\n    <tr>\n      <th>30</th>\n      <td>Wyoming</td>\n      <td>29.0</td>\n      <td>2.897400e+12</td>\n      <td>6.860971e+06</td>\n    </tr>\n    <tr>\n      <th>31</th>\n      <td>West Virginia</td>\n      <td>35.6</td>\n      <td>6.851674e+11</td>\n      <td>5.374280e+06</td>\n    </tr>\n    <tr>\n      <th>32</th>\n      <td>Indiana</td>\n      <td>31.3</td>\n      <td>1.010364e+12</td>\n      <td>4.858882e+06</td>\n    </tr>\n    <tr>\n      <th>33</th>\n      <td>Massachusetts</td>\n      <td>24.3</td>\n      <td>2.472250e+11</td>\n      <td>4.197218e+06</td>\n    </tr>\n    <tr>\n      <th>34</th>\n      <td>Nevada</td>\n      <td>26.7</td>\n      <td>3.564354e+12</td>\n      <td>8.240795e+06</td>\n    </tr>\n    <tr>\n      <th>35</th>\n      <td>Connecticut</td>\n      <td>25.3</td>\n      <td>1.454219e+11</td>\n      <td>1.780631e+06</td>\n    </tr>\n    <tr>\n      <th>36</th>\n      <td>District of Columbia</td>\n      <td>22.1</td>\n      <td>1.972102e+09</td>\n      <td>2.003250e+05</td>\n    </tr>\n    <tr>\n      <th>37</th>\n      <td>Rhode Island</td>\n      <td>26.0</td>\n      <td>3.617808e+10</td>\n      <td>9.845246e+05</td>\n    </tr>\n    <tr>\n      <th>38</th>\n      <td>Alabama</td>\n      <td>35.6</td>\n      <td>1.442807e+12</td>\n      <td>5.750658e+06</td>\n    </tr>\n    <tr>\n      <th>39</th>\n      <td>Puerto Rico</td>\n      <td>29.5</td>\n      <td>1.147839e+11</td>\n      <td>2.136273e+06</td>\n    </tr>\n    <tr>\n      <th>40</th>\n      <td>South Carolina</td>\n      <td>31.7</td>\n      <td>8.782704e+11</td>\n      <td>4.370941e+06</td>\n    </tr>\n    <tr>\n      <th>41</th>\n      <td>Maine</td>\n      <td>30.0</td>\n      <td>9.903849e+11</td>\n      <td>5.560035e+06</td>\n    </tr>\n    <tr>\n      <th>42</th>\n      <td>Hawaii</td>\n      <td>22.7</td>\n      <td>NaN</td>\n      <td>NaN</td>\n    </tr>\n    <tr>\n      <th>43</th>\n      <td>Arizona</td>\n      <td>28.4</td>\n      <td>3.562686e+12</td>\n      <td>8.044184e+06</td>\n    </tr>\n    <tr>\n      <th>44</th>\n      <td>New Mexico</td>\n      <td>28.8</td>\n      <td>3.622933e+12</td>\n      <td>8.075167e+06</td>\n    </tr>\n    <tr>\n      <th>45</th>\n      <td>Maryland</td>\n      <td>28.9</td>\n      <td>3.039432e+11</td>\n      <td>5.850363e+06</td>\n    </tr>\n    <tr>\n      <th>46</th>\n      <td>Delaware</td>\n      <td>29.7</td>\n      <td>5.908110e+10</td>\n      <td>1.383604e+06</td>\n    </tr>\n    <tr>\n      <th>47</th>\n      <td>Pennsylvania</td>\n      <td>30.0</td>\n      <td>1.288452e+12</td>\n      <td>5.024348e+06</td>\n    </tr>\n    <tr>\n      <th>48</th>\n      <td>Kansas</td>\n      <td>34.2</td>\n      <td>2.340366e+12</td>\n      <td>6.540498e+06</td>\n    </tr>\n    <tr>\n      <th>49</th>\n      <td>Vermont</td>\n      <td>25.1</td>\n      <td>2.789313e+11</td>\n      <td>2.653732e+06</td>\n    </tr>\n    <tr>\n      <th>50</th>\n      <td>New Jersey</td>\n      <td>25.6</td>\n      <td>2.246065e+11</td>\n      <td>2.599119e+06</td>\n    </tr>\n    <tr>\n      <th>51</th>\n      <td>North Dakota</td>\n      <td>31.0</td>\n      <td>2.013152e+12</td>\n      <td>5.872756e+06</td>\n    </tr>\n    <tr>\n      <th>52</th>\n      <td>New Hampshire</td>\n      <td>26.3</td>\n      <td>2.705294e+11</td>\n      <td>2.674767e+06</td>\n    </tr>\n  </tbody>\n</table>\n</div>"
     },
     "execution_count": 32,
     "metadata": {},
     "output_type": "execute_result"
    }
   ],
   "source": [
    "df = df.rename(columns={'obesity': 'obesity_percentage', 'shape__area': 'shape_area', 'shape__length': 'shape_length'})\n",
    "df"
   ],
   "metadata": {
    "collapsed": false,
    "ExecuteTime": {
     "end_time": "2024-02-27T21:45:08.130820300Z",
     "start_time": "2024-02-27T21:45:08.076342300Z"
    }
   },
   "id": "27f333390c682ff4"
  },
  {
   "cell_type": "code",
   "execution_count": 33,
   "outputs": [
    {
     "data": {
      "text/plain": "                          name  obesity_percentage\nobjectid                                          \n1                        Texas                32.4\n2                   California                24.2\n3                     Kentucky                34.6\n4                      Georgia                30.7\n5                    Wisconsin                30.7\n6                       Oregon                30.1\n7                     Virginia                29.2\n8                    Tennessee                33.8\n9                    Louisiana                36.2\n10                    New York                25.0\n11                    Michigan                31.2\n12                       Idaho                28.6\n13                     Florida                26.8\n14                      Alaska                29.8\n15                     Montana                23.6\n16                   Minnesota                26.1\n17                    Nebraska                31.4\n18                  Washington                26.4\n19                        Ohio                29.8\n20                    Illinois                30.8\n21                    Missouri                32.4\n22                        Iowa                32.1\n23                South Dakota                30.4\n24                    Arkansas                34.5\n25                 Mississippi                35.6\n26                    Colorado                20.2\n27              North Carolina                30.1\n28                        Utah                24.5\n29                    Oklahoma                33.9\n30                     Wyoming                29.0\n31               West Virginia                35.6\n32                     Indiana                31.3\n33               Massachusetts                24.3\n34                      Nevada                26.7\n35                 Connecticut                25.3\n36        District of Columbia                22.1\n37                Rhode Island                26.0\n38                     Alabama                35.6\n39                 Puerto Rico                29.5\n40              South Carolina                31.7\n41                       Maine                30.0\n42                      Hawaii                22.7\n43                     Arizona                28.4\n44                  New Mexico                28.8\n45                    Maryland                28.9\n46                    Delaware                29.7\n47                Pennsylvania                30.0\n48                      Kansas                34.2\n49                     Vermont                25.1\n50                  New Jersey                25.6\n51                North Dakota                31.0\n52               New Hampshire                26.3",
      "text/html": "<div>\n<style scoped>\n    .dataframe tbody tr th:only-of-type {\n        vertical-align: middle;\n    }\n\n    .dataframe tbody tr th {\n        vertical-align: top;\n    }\n\n    .dataframe thead th {\n        text-align: right;\n    }\n</style>\n<table border=\"1\" class=\"dataframe\">\n  <thead>\n    <tr style=\"text-align: right;\">\n      <th></th>\n      <th>name</th>\n      <th>obesity_percentage</th>\n    </tr>\n    <tr>\n      <th>objectid</th>\n      <th></th>\n      <th></th>\n    </tr>\n  </thead>\n  <tbody>\n    <tr>\n      <th>1</th>\n      <td>Texas</td>\n      <td>32.4</td>\n    </tr>\n    <tr>\n      <th>2</th>\n      <td>California</td>\n      <td>24.2</td>\n    </tr>\n    <tr>\n      <th>3</th>\n      <td>Kentucky</td>\n      <td>34.6</td>\n    </tr>\n    <tr>\n      <th>4</th>\n      <td>Georgia</td>\n      <td>30.7</td>\n    </tr>\n    <tr>\n      <th>5</th>\n      <td>Wisconsin</td>\n      <td>30.7</td>\n    </tr>\n    <tr>\n      <th>6</th>\n      <td>Oregon</td>\n      <td>30.1</td>\n    </tr>\n    <tr>\n      <th>7</th>\n      <td>Virginia</td>\n      <td>29.2</td>\n    </tr>\n    <tr>\n      <th>8</th>\n      <td>Tennessee</td>\n      <td>33.8</td>\n    </tr>\n    <tr>\n      <th>9</th>\n      <td>Louisiana</td>\n      <td>36.2</td>\n    </tr>\n    <tr>\n      <th>10</th>\n      <td>New York</td>\n      <td>25.0</td>\n    </tr>\n    <tr>\n      <th>11</th>\n      <td>Michigan</td>\n      <td>31.2</td>\n    </tr>\n    <tr>\n      <th>12</th>\n      <td>Idaho</td>\n      <td>28.6</td>\n    </tr>\n    <tr>\n      <th>13</th>\n      <td>Florida</td>\n      <td>26.8</td>\n    </tr>\n    <tr>\n      <th>14</th>\n      <td>Alaska</td>\n      <td>29.8</td>\n    </tr>\n    <tr>\n      <th>15</th>\n      <td>Montana</td>\n      <td>23.6</td>\n    </tr>\n    <tr>\n      <th>16</th>\n      <td>Minnesota</td>\n      <td>26.1</td>\n    </tr>\n    <tr>\n      <th>17</th>\n      <td>Nebraska</td>\n      <td>31.4</td>\n    </tr>\n    <tr>\n      <th>18</th>\n      <td>Washington</td>\n      <td>26.4</td>\n    </tr>\n    <tr>\n      <th>19</th>\n      <td>Ohio</td>\n      <td>29.8</td>\n    </tr>\n    <tr>\n      <th>20</th>\n      <td>Illinois</td>\n      <td>30.8</td>\n    </tr>\n    <tr>\n      <th>21</th>\n      <td>Missouri</td>\n      <td>32.4</td>\n    </tr>\n    <tr>\n      <th>22</th>\n      <td>Iowa</td>\n      <td>32.1</td>\n    </tr>\n    <tr>\n      <th>23</th>\n      <td>South Dakota</td>\n      <td>30.4</td>\n    </tr>\n    <tr>\n      <th>24</th>\n      <td>Arkansas</td>\n      <td>34.5</td>\n    </tr>\n    <tr>\n      <th>25</th>\n      <td>Mississippi</td>\n      <td>35.6</td>\n    </tr>\n    <tr>\n      <th>26</th>\n      <td>Colorado</td>\n      <td>20.2</td>\n    </tr>\n    <tr>\n      <th>27</th>\n      <td>North Carolina</td>\n      <td>30.1</td>\n    </tr>\n    <tr>\n      <th>28</th>\n      <td>Utah</td>\n      <td>24.5</td>\n    </tr>\n    <tr>\n      <th>29</th>\n      <td>Oklahoma</td>\n      <td>33.9</td>\n    </tr>\n    <tr>\n      <th>30</th>\n      <td>Wyoming</td>\n      <td>29.0</td>\n    </tr>\n    <tr>\n      <th>31</th>\n      <td>West Virginia</td>\n      <td>35.6</td>\n    </tr>\n    <tr>\n      <th>32</th>\n      <td>Indiana</td>\n      <td>31.3</td>\n    </tr>\n    <tr>\n      <th>33</th>\n      <td>Massachusetts</td>\n      <td>24.3</td>\n    </tr>\n    <tr>\n      <th>34</th>\n      <td>Nevada</td>\n      <td>26.7</td>\n    </tr>\n    <tr>\n      <th>35</th>\n      <td>Connecticut</td>\n      <td>25.3</td>\n    </tr>\n    <tr>\n      <th>36</th>\n      <td>District of Columbia</td>\n      <td>22.1</td>\n    </tr>\n    <tr>\n      <th>37</th>\n      <td>Rhode Island</td>\n      <td>26.0</td>\n    </tr>\n    <tr>\n      <th>38</th>\n      <td>Alabama</td>\n      <td>35.6</td>\n    </tr>\n    <tr>\n      <th>39</th>\n      <td>Puerto Rico</td>\n      <td>29.5</td>\n    </tr>\n    <tr>\n      <th>40</th>\n      <td>South Carolina</td>\n      <td>31.7</td>\n    </tr>\n    <tr>\n      <th>41</th>\n      <td>Maine</td>\n      <td>30.0</td>\n    </tr>\n    <tr>\n      <th>42</th>\n      <td>Hawaii</td>\n      <td>22.7</td>\n    </tr>\n    <tr>\n      <th>43</th>\n      <td>Arizona</td>\n      <td>28.4</td>\n    </tr>\n    <tr>\n      <th>44</th>\n      <td>New Mexico</td>\n      <td>28.8</td>\n    </tr>\n    <tr>\n      <th>45</th>\n      <td>Maryland</td>\n      <td>28.9</td>\n    </tr>\n    <tr>\n      <th>46</th>\n      <td>Delaware</td>\n      <td>29.7</td>\n    </tr>\n    <tr>\n      <th>47</th>\n      <td>Pennsylvania</td>\n      <td>30.0</td>\n    </tr>\n    <tr>\n      <th>48</th>\n      <td>Kansas</td>\n      <td>34.2</td>\n    </tr>\n    <tr>\n      <th>49</th>\n      <td>Vermont</td>\n      <td>25.1</td>\n    </tr>\n    <tr>\n      <th>50</th>\n      <td>New Jersey</td>\n      <td>25.6</td>\n    </tr>\n    <tr>\n      <th>51</th>\n      <td>North Dakota</td>\n      <td>31.0</td>\n    </tr>\n    <tr>\n      <th>52</th>\n      <td>New Hampshire</td>\n      <td>26.3</td>\n    </tr>\n  </tbody>\n</table>\n</div>"
     },
     "execution_count": 33,
     "metadata": {},
     "output_type": "execute_result"
    }
   ],
   "source": [
    "df = df.drop(columns=['shape_area', 'shape_length'])\n",
    "df"
   ],
   "metadata": {
    "collapsed": false,
    "ExecuteTime": {
     "end_time": "2024-02-27T21:45:08.177635600Z",
     "start_time": "2024-02-27T21:45:08.090406200Z"
    }
   },
   "id": "cbefea33d96ef9f3"
  },
  {
   "cell_type": "code",
   "execution_count": 36,
   "outputs": [
    {
     "name": "stdout",
     "output_type": "stream",
     "text": [
      "<class 'pandas.core.frame.DataFrame'>\n",
      "Index: 52 entries, 1 to 52\n",
      "Data columns (total 2 columns):\n",
      " #   Column              Non-Null Count  Dtype  \n",
      "---  ------              --------------  -----  \n",
      " 0   name                52 non-null     object \n",
      " 1   obesity_percentage  52 non-null     float64\n",
      "dtypes: float64(1), object(1)\n",
      "memory usage: 1.2+ KB\n"
     ]
    }
   ],
   "source": [
    "df.dropna()\n",
    "df.info()"
   ],
   "metadata": {
    "collapsed": false,
    "ExecuteTime": {
     "end_time": "2024-02-27T21:47:26.285026Z",
     "start_time": "2024-02-27T21:47:26.255472900Z"
    }
   },
   "id": "d12b7866ed1907b5"
  },
  {
   "cell_type": "code",
   "execution_count": 47,
   "outputs": [
    {
     "name": "stdout",
     "output_type": "stream",
     "text": [
      "Liczba unikalnych stanów: 52\n",
      "Wszystkie procenty zliczone w jedno: 1522.8999999999999\n"
     ]
    }
   ],
   "source": [
    "uniqs = df['name'].nunique()\n",
    "print(f\"Liczba unikalnych stanów: {uniqs}\")\n",
    "    \n",
    "perc_whole = sum(df['obesity_percentage'])\n",
    "print(f\"Wszystkie procenty zliczone w jedno: {perc_whole}\")"
   ],
   "metadata": {
    "collapsed": false,
    "ExecuteTime": {
     "end_time": "2024-02-27T22:02:44.399783300Z",
     "start_time": "2024-02-27T22:02:44.395125Z"
    }
   },
   "id": "942022df9582abde"
  },
  {
   "cell_type": "code",
   "execution_count": 46,
   "outputs": [
    {
     "name": "stdout",
     "output_type": "stream",
     "text": [
      "Średnia otyłość w USA to: 29%\n"
     ]
    }
   ],
   "source": [
    "mean = perc_whole // uniqs\n",
    "\n",
    "print(f\"Średnia otyłość w USA to: {int(mean)}%\")"
   ],
   "metadata": {
    "collapsed": false,
    "ExecuteTime": {
     "end_time": "2024-02-27T22:02:43.067330200Z",
     "start_time": "2024-02-27T22:02:43.059292300Z"
    }
   },
   "id": "1f49818b2bbeb123"
  },
  {
   "cell_type": "code",
   "execution_count": 54,
   "outputs": [
    {
     "data": {
      "application/vnd.plotly.v1+json": {
       "data": [
        {
         "alignmentgroup": "True",
         "hovertemplate": "name=%{x}<br>obesity_percentage=%{marker.color}<extra></extra>",
         "legendgroup": "",
         "marker": {
          "color": [
           32.4,
           24.2,
           34.6,
           30.7,
           30.7,
           30.1,
           29.2,
           33.8,
           36.2,
           25.0,
           31.2,
           28.6,
           26.8,
           29.8,
           23.6,
           26.1,
           31.4,
           26.4,
           29.8,
           30.8,
           32.4,
           32.1,
           30.4,
           34.5,
           35.6,
           20.2,
           30.1,
           24.5,
           33.9,
           29.0,
           35.6,
           31.3,
           24.3,
           26.7,
           25.3,
           22.1,
           26.0,
           35.6,
           29.5,
           31.7,
           30.0,
           22.7,
           28.4,
           28.8,
           28.9,
           29.7,
           30.0,
           34.2,
           25.1,
           25.6,
           31.0,
           26.3
          ],
          "coloraxis": "coloraxis",
          "pattern": {
           "shape": ""
          }
         },
         "name": "",
         "offsetgroup": "",
         "orientation": "v",
         "showlegend": false,
         "textposition": "auto",
         "x": [
          "Texas",
          "California",
          "Kentucky",
          "Georgia",
          "Wisconsin",
          "Oregon",
          "Virginia",
          "Tennessee",
          "Louisiana",
          "New York",
          "Michigan",
          "Idaho",
          "Florida",
          "Alaska",
          "Montana",
          "Minnesota",
          "Nebraska",
          "Washington",
          "Ohio",
          "Illinois",
          "Missouri",
          "Iowa",
          "South Dakota",
          "Arkansas",
          "Mississippi",
          "Colorado",
          "North Carolina",
          "Utah",
          "Oklahoma",
          "Wyoming",
          "West Virginia",
          "Indiana",
          "Massachusetts",
          "Nevada",
          "Connecticut",
          "District of Columbia",
          "Rhode Island",
          "Alabama",
          "Puerto Rico",
          "South Carolina",
          "Maine",
          "Hawaii",
          "Arizona",
          "New Mexico",
          "Maryland",
          "Delaware",
          "Pennsylvania",
          "Kansas",
          "Vermont",
          "New Jersey",
          "North Dakota",
          "New Hampshire"
         ],
         "xaxis": "x",
         "y": [
          32.4,
          24.2,
          34.6,
          30.7,
          30.7,
          30.1,
          29.2,
          33.8,
          36.2,
          25.0,
          31.2,
          28.6,
          26.8,
          29.8,
          23.6,
          26.1,
          31.4,
          26.4,
          29.8,
          30.8,
          32.4,
          32.1,
          30.4,
          34.5,
          35.6,
          20.2,
          30.1,
          24.5,
          33.9,
          29.0,
          35.6,
          31.3,
          24.3,
          26.7,
          25.3,
          22.1,
          26.0,
          35.6,
          29.5,
          31.7,
          30.0,
          22.7,
          28.4,
          28.8,
          28.9,
          29.7,
          30.0,
          34.2,
          25.1,
          25.6,
          31.0,
          26.3
         ],
         "yaxis": "y",
         "type": "bar"
        }
       ],
       "layout": {
        "template": {
         "data": {
          "histogram2dcontour": [
           {
            "type": "histogram2dcontour",
            "colorbar": {
             "outlinewidth": 0,
             "ticks": ""
            },
            "colorscale": [
             [
              0.0,
              "#0d0887"
             ],
             [
              0.1111111111111111,
              "#46039f"
             ],
             [
              0.2222222222222222,
              "#7201a8"
             ],
             [
              0.3333333333333333,
              "#9c179e"
             ],
             [
              0.4444444444444444,
              "#bd3786"
             ],
             [
              0.5555555555555556,
              "#d8576b"
             ],
             [
              0.6666666666666666,
              "#ed7953"
             ],
             [
              0.7777777777777778,
              "#fb9f3a"
             ],
             [
              0.8888888888888888,
              "#fdca26"
             ],
             [
              1.0,
              "#f0f921"
             ]
            ]
           }
          ],
          "choropleth": [
           {
            "type": "choropleth",
            "colorbar": {
             "outlinewidth": 0,
             "ticks": ""
            }
           }
          ],
          "histogram2d": [
           {
            "type": "histogram2d",
            "colorbar": {
             "outlinewidth": 0,
             "ticks": ""
            },
            "colorscale": [
             [
              0.0,
              "#0d0887"
             ],
             [
              0.1111111111111111,
              "#46039f"
             ],
             [
              0.2222222222222222,
              "#7201a8"
             ],
             [
              0.3333333333333333,
              "#9c179e"
             ],
             [
              0.4444444444444444,
              "#bd3786"
             ],
             [
              0.5555555555555556,
              "#d8576b"
             ],
             [
              0.6666666666666666,
              "#ed7953"
             ],
             [
              0.7777777777777778,
              "#fb9f3a"
             ],
             [
              0.8888888888888888,
              "#fdca26"
             ],
             [
              1.0,
              "#f0f921"
             ]
            ]
           }
          ],
          "heatmap": [
           {
            "type": "heatmap",
            "colorbar": {
             "outlinewidth": 0,
             "ticks": ""
            },
            "colorscale": [
             [
              0.0,
              "#0d0887"
             ],
             [
              0.1111111111111111,
              "#46039f"
             ],
             [
              0.2222222222222222,
              "#7201a8"
             ],
             [
              0.3333333333333333,
              "#9c179e"
             ],
             [
              0.4444444444444444,
              "#bd3786"
             ],
             [
              0.5555555555555556,
              "#d8576b"
             ],
             [
              0.6666666666666666,
              "#ed7953"
             ],
             [
              0.7777777777777778,
              "#fb9f3a"
             ],
             [
              0.8888888888888888,
              "#fdca26"
             ],
             [
              1.0,
              "#f0f921"
             ]
            ]
           }
          ],
          "heatmapgl": [
           {
            "type": "heatmapgl",
            "colorbar": {
             "outlinewidth": 0,
             "ticks": ""
            },
            "colorscale": [
             [
              0.0,
              "#0d0887"
             ],
             [
              0.1111111111111111,
              "#46039f"
             ],
             [
              0.2222222222222222,
              "#7201a8"
             ],
             [
              0.3333333333333333,
              "#9c179e"
             ],
             [
              0.4444444444444444,
              "#bd3786"
             ],
             [
              0.5555555555555556,
              "#d8576b"
             ],
             [
              0.6666666666666666,
              "#ed7953"
             ],
             [
              0.7777777777777778,
              "#fb9f3a"
             ],
             [
              0.8888888888888888,
              "#fdca26"
             ],
             [
              1.0,
              "#f0f921"
             ]
            ]
           }
          ],
          "contourcarpet": [
           {
            "type": "contourcarpet",
            "colorbar": {
             "outlinewidth": 0,
             "ticks": ""
            }
           }
          ],
          "contour": [
           {
            "type": "contour",
            "colorbar": {
             "outlinewidth": 0,
             "ticks": ""
            },
            "colorscale": [
             [
              0.0,
              "#0d0887"
             ],
             [
              0.1111111111111111,
              "#46039f"
             ],
             [
              0.2222222222222222,
              "#7201a8"
             ],
             [
              0.3333333333333333,
              "#9c179e"
             ],
             [
              0.4444444444444444,
              "#bd3786"
             ],
             [
              0.5555555555555556,
              "#d8576b"
             ],
             [
              0.6666666666666666,
              "#ed7953"
             ],
             [
              0.7777777777777778,
              "#fb9f3a"
             ],
             [
              0.8888888888888888,
              "#fdca26"
             ],
             [
              1.0,
              "#f0f921"
             ]
            ]
           }
          ],
          "surface": [
           {
            "type": "surface",
            "colorbar": {
             "outlinewidth": 0,
             "ticks": ""
            },
            "colorscale": [
             [
              0.0,
              "#0d0887"
             ],
             [
              0.1111111111111111,
              "#46039f"
             ],
             [
              0.2222222222222222,
              "#7201a8"
             ],
             [
              0.3333333333333333,
              "#9c179e"
             ],
             [
              0.4444444444444444,
              "#bd3786"
             ],
             [
              0.5555555555555556,
              "#d8576b"
             ],
             [
              0.6666666666666666,
              "#ed7953"
             ],
             [
              0.7777777777777778,
              "#fb9f3a"
             ],
             [
              0.8888888888888888,
              "#fdca26"
             ],
             [
              1.0,
              "#f0f921"
             ]
            ]
           }
          ],
          "mesh3d": [
           {
            "type": "mesh3d",
            "colorbar": {
             "outlinewidth": 0,
             "ticks": ""
            }
           }
          ],
          "scatter": [
           {
            "marker": {
             "line": {
              "color": "#283442"
             }
            },
            "type": "scatter"
           }
          ],
          "parcoords": [
           {
            "type": "parcoords",
            "line": {
             "colorbar": {
              "outlinewidth": 0,
              "ticks": ""
             }
            }
           }
          ],
          "scatterpolargl": [
           {
            "type": "scatterpolargl",
            "marker": {
             "colorbar": {
              "outlinewidth": 0,
              "ticks": ""
             }
            }
           }
          ],
          "bar": [
           {
            "error_x": {
             "color": "#f2f5fa"
            },
            "error_y": {
             "color": "#f2f5fa"
            },
            "marker": {
             "line": {
              "color": "rgb(17,17,17)",
              "width": 0.5
             },
             "pattern": {
              "fillmode": "overlay",
              "size": 10,
              "solidity": 0.2
             }
            },
            "type": "bar"
           }
          ],
          "scattergeo": [
           {
            "type": "scattergeo",
            "marker": {
             "colorbar": {
              "outlinewidth": 0,
              "ticks": ""
             }
            }
           }
          ],
          "scatterpolar": [
           {
            "type": "scatterpolar",
            "marker": {
             "colorbar": {
              "outlinewidth": 0,
              "ticks": ""
             }
            }
           }
          ],
          "histogram": [
           {
            "marker": {
             "pattern": {
              "fillmode": "overlay",
              "size": 10,
              "solidity": 0.2
             }
            },
            "type": "histogram"
           }
          ],
          "scattergl": [
           {
            "marker": {
             "line": {
              "color": "#283442"
             }
            },
            "type": "scattergl"
           }
          ],
          "scatter3d": [
           {
            "type": "scatter3d",
            "line": {
             "colorbar": {
              "outlinewidth": 0,
              "ticks": ""
             }
            },
            "marker": {
             "colorbar": {
              "outlinewidth": 0,
              "ticks": ""
             }
            }
           }
          ],
          "scattermapbox": [
           {
            "type": "scattermapbox",
            "marker": {
             "colorbar": {
              "outlinewidth": 0,
              "ticks": ""
             }
            }
           }
          ],
          "scatterternary": [
           {
            "type": "scatterternary",
            "marker": {
             "colorbar": {
              "outlinewidth": 0,
              "ticks": ""
             }
            }
           }
          ],
          "scattercarpet": [
           {
            "type": "scattercarpet",
            "marker": {
             "colorbar": {
              "outlinewidth": 0,
              "ticks": ""
             }
            }
           }
          ],
          "carpet": [
           {
            "aaxis": {
             "endlinecolor": "#A2B1C6",
             "gridcolor": "#506784",
             "linecolor": "#506784",
             "minorgridcolor": "#506784",
             "startlinecolor": "#A2B1C6"
            },
            "baxis": {
             "endlinecolor": "#A2B1C6",
             "gridcolor": "#506784",
             "linecolor": "#506784",
             "minorgridcolor": "#506784",
             "startlinecolor": "#A2B1C6"
            },
            "type": "carpet"
           }
          ],
          "table": [
           {
            "cells": {
             "fill": {
              "color": "#506784"
             },
             "line": {
              "color": "rgb(17,17,17)"
             }
            },
            "header": {
             "fill": {
              "color": "#2a3f5f"
             },
             "line": {
              "color": "rgb(17,17,17)"
             }
            },
            "type": "table"
           }
          ],
          "barpolar": [
           {
            "marker": {
             "line": {
              "color": "rgb(17,17,17)",
              "width": 0.5
             },
             "pattern": {
              "fillmode": "overlay",
              "size": 10,
              "solidity": 0.2
             }
            },
            "type": "barpolar"
           }
          ],
          "pie": [
           {
            "automargin": true,
            "type": "pie"
           }
          ]
         },
         "layout": {
          "autotypenumbers": "strict",
          "colorway": [
           "#636efa",
           "#EF553B",
           "#00cc96",
           "#ab63fa",
           "#FFA15A",
           "#19d3f3",
           "#FF6692",
           "#B6E880",
           "#FF97FF",
           "#FECB52"
          ],
          "font": {
           "color": "#f2f5fa"
          },
          "hovermode": "closest",
          "hoverlabel": {
           "align": "left"
          },
          "paper_bgcolor": "rgb(17,17,17)",
          "plot_bgcolor": "rgb(17,17,17)",
          "polar": {
           "bgcolor": "rgb(17,17,17)",
           "angularaxis": {
            "gridcolor": "#506784",
            "linecolor": "#506784",
            "ticks": ""
           },
           "radialaxis": {
            "gridcolor": "#506784",
            "linecolor": "#506784",
            "ticks": ""
           }
          },
          "ternary": {
           "bgcolor": "rgb(17,17,17)",
           "aaxis": {
            "gridcolor": "#506784",
            "linecolor": "#506784",
            "ticks": ""
           },
           "baxis": {
            "gridcolor": "#506784",
            "linecolor": "#506784",
            "ticks": ""
           },
           "caxis": {
            "gridcolor": "#506784",
            "linecolor": "#506784",
            "ticks": ""
           }
          },
          "coloraxis": {
           "colorbar": {
            "outlinewidth": 0,
            "ticks": ""
           }
          },
          "colorscale": {
           "sequential": [
            [
             0.0,
             "#0d0887"
            ],
            [
             0.1111111111111111,
             "#46039f"
            ],
            [
             0.2222222222222222,
             "#7201a8"
            ],
            [
             0.3333333333333333,
             "#9c179e"
            ],
            [
             0.4444444444444444,
             "#bd3786"
            ],
            [
             0.5555555555555556,
             "#d8576b"
            ],
            [
             0.6666666666666666,
             "#ed7953"
            ],
            [
             0.7777777777777778,
             "#fb9f3a"
            ],
            [
             0.8888888888888888,
             "#fdca26"
            ],
            [
             1.0,
             "#f0f921"
            ]
           ],
           "sequentialminus": [
            [
             0.0,
             "#0d0887"
            ],
            [
             0.1111111111111111,
             "#46039f"
            ],
            [
             0.2222222222222222,
             "#7201a8"
            ],
            [
             0.3333333333333333,
             "#9c179e"
            ],
            [
             0.4444444444444444,
             "#bd3786"
            ],
            [
             0.5555555555555556,
             "#d8576b"
            ],
            [
             0.6666666666666666,
             "#ed7953"
            ],
            [
             0.7777777777777778,
             "#fb9f3a"
            ],
            [
             0.8888888888888888,
             "#fdca26"
            ],
            [
             1.0,
             "#f0f921"
            ]
           ],
           "diverging": [
            [
             0,
             "#8e0152"
            ],
            [
             0.1,
             "#c51b7d"
            ],
            [
             0.2,
             "#de77ae"
            ],
            [
             0.3,
             "#f1b6da"
            ],
            [
             0.4,
             "#fde0ef"
            ],
            [
             0.5,
             "#f7f7f7"
            ],
            [
             0.6,
             "#e6f5d0"
            ],
            [
             0.7,
             "#b8e186"
            ],
            [
             0.8,
             "#7fbc41"
            ],
            [
             0.9,
             "#4d9221"
            ],
            [
             1,
             "#276419"
            ]
           ]
          },
          "xaxis": {
           "gridcolor": "#283442",
           "linecolor": "#506784",
           "ticks": "",
           "title": {
            "standoff": 15
           },
           "zerolinecolor": "#283442",
           "automargin": true,
           "zerolinewidth": 2
          },
          "yaxis": {
           "gridcolor": "#283442",
           "linecolor": "#506784",
           "ticks": "",
           "title": {
            "standoff": 15
           },
           "zerolinecolor": "#283442",
           "automargin": true,
           "zerolinewidth": 2
          },
          "scene": {
           "xaxis": {
            "backgroundcolor": "rgb(17,17,17)",
            "gridcolor": "#506784",
            "linecolor": "#506784",
            "showbackground": true,
            "ticks": "",
            "zerolinecolor": "#C8D4E3",
            "gridwidth": 2
           },
           "yaxis": {
            "backgroundcolor": "rgb(17,17,17)",
            "gridcolor": "#506784",
            "linecolor": "#506784",
            "showbackground": true,
            "ticks": "",
            "zerolinecolor": "#C8D4E3",
            "gridwidth": 2
           },
           "zaxis": {
            "backgroundcolor": "rgb(17,17,17)",
            "gridcolor": "#506784",
            "linecolor": "#506784",
            "showbackground": true,
            "ticks": "",
            "zerolinecolor": "#C8D4E3",
            "gridwidth": 2
           }
          },
          "shapedefaults": {
           "line": {
            "color": "#f2f5fa"
           }
          },
          "annotationdefaults": {
           "arrowcolor": "#f2f5fa",
           "arrowhead": 0,
           "arrowwidth": 1
          },
          "geo": {
           "bgcolor": "rgb(17,17,17)",
           "landcolor": "rgb(17,17,17)",
           "subunitcolor": "#506784",
           "showland": true,
           "showlakes": true,
           "lakecolor": "rgb(17,17,17)"
          },
          "title": {
           "x": 0.05
          },
          "updatemenudefaults": {
           "bgcolor": "#506784",
           "borderwidth": 0
          },
          "sliderdefaults": {
           "bgcolor": "#C8D4E3",
           "borderwidth": 1,
           "bordercolor": "rgb(17,17,17)",
           "tickwidth": 0
          },
          "mapbox": {
           "style": "dark"
          }
         }
        },
        "xaxis": {
         "anchor": "y",
         "domain": [
          0.0,
          1.0
         ],
         "title": {
          "text": "name"
         }
        },
        "yaxis": {
         "anchor": "x",
         "domain": [
          0.0,
          1.0
         ],
         "title": {
          "text": "obesity_percentage"
         }
        },
        "coloraxis": {
         "colorbar": {
          "title": {
           "text": "obesity_percentage"
          }
         },
         "colorscale": [
          [
           0.0,
           "#0d0887"
          ],
          [
           0.1111111111111111,
           "#46039f"
          ],
          [
           0.2222222222222222,
           "#7201a8"
          ],
          [
           0.3333333333333333,
           "#9c179e"
          ],
          [
           0.4444444444444444,
           "#bd3786"
          ],
          [
           0.5555555555555556,
           "#d8576b"
          ],
          [
           0.6666666666666666,
           "#ed7953"
          ],
          [
           0.7777777777777778,
           "#fb9f3a"
          ],
          [
           0.8888888888888888,
           "#fdca26"
          ],
          [
           1.0,
           "#f0f921"
          ]
         ]
        },
        "legend": {
         "tracegroupgap": 0
        },
        "title": {
         "text": "Procent populacji osób otyłych w poszczególnych stanach USA"
        },
        "barmode": "relative"
       },
       "config": {
        "plotlyServerURL": "https://plot.ly"
       }
      },
      "text/html": "<div>                            <div id=\"21cc50b8-c46a-43b9-9f2e-5ec657b7cf5c\" class=\"plotly-graph-div\" style=\"height:525px; width:100%;\"></div>            <script type=\"text/javascript\">                require([\"plotly\"], function(Plotly) {                    window.PLOTLYENV=window.PLOTLYENV || {};                                    if (document.getElementById(\"21cc50b8-c46a-43b9-9f2e-5ec657b7cf5c\")) {                    Plotly.newPlot(                        \"21cc50b8-c46a-43b9-9f2e-5ec657b7cf5c\",                        [{\"alignmentgroup\":\"True\",\"hovertemplate\":\"name=%{x}<br>obesity_percentage=%{marker.color}<extra></extra>\",\"legendgroup\":\"\",\"marker\":{\"color\":[32.4,24.2,34.6,30.7,30.7,30.1,29.2,33.8,36.2,25.0,31.2,28.6,26.8,29.8,23.6,26.1,31.4,26.4,29.8,30.8,32.4,32.1,30.4,34.5,35.6,20.2,30.1,24.5,33.9,29.0,35.6,31.3,24.3,26.7,25.3,22.1,26.0,35.6,29.5,31.7,30.0,22.7,28.4,28.8,28.9,29.7,30.0,34.2,25.1,25.6,31.0,26.3],\"coloraxis\":\"coloraxis\",\"pattern\":{\"shape\":\"\"}},\"name\":\"\",\"offsetgroup\":\"\",\"orientation\":\"v\",\"showlegend\":false,\"textposition\":\"auto\",\"x\":[\"Texas\",\"California\",\"Kentucky\",\"Georgia\",\"Wisconsin\",\"Oregon\",\"Virginia\",\"Tennessee\",\"Louisiana\",\"New York\",\"Michigan\",\"Idaho\",\"Florida\",\"Alaska\",\"Montana\",\"Minnesota\",\"Nebraska\",\"Washington\",\"Ohio\",\"Illinois\",\"Missouri\",\"Iowa\",\"South Dakota\",\"Arkansas\",\"Mississippi\",\"Colorado\",\"North Carolina\",\"Utah\",\"Oklahoma\",\"Wyoming\",\"West Virginia\",\"Indiana\",\"Massachusetts\",\"Nevada\",\"Connecticut\",\"District of Columbia\",\"Rhode Island\",\"Alabama\",\"Puerto Rico\",\"South Carolina\",\"Maine\",\"Hawaii\",\"Arizona\",\"New Mexico\",\"Maryland\",\"Delaware\",\"Pennsylvania\",\"Kansas\",\"Vermont\",\"New Jersey\",\"North Dakota\",\"New Hampshire\"],\"xaxis\":\"x\",\"y\":[32.4,24.2,34.6,30.7,30.7,30.1,29.2,33.8,36.2,25.0,31.2,28.6,26.8,29.8,23.6,26.1,31.4,26.4,29.8,30.8,32.4,32.1,30.4,34.5,35.6,20.2,30.1,24.5,33.9,29.0,35.6,31.3,24.3,26.7,25.3,22.1,26.0,35.6,29.5,31.7,30.0,22.7,28.4,28.8,28.9,29.7,30.0,34.2,25.1,25.6,31.0,26.3],\"yaxis\":\"y\",\"type\":\"bar\"}],                        {\"template\":{\"data\":{\"histogram2dcontour\":[{\"type\":\"histogram2dcontour\",\"colorbar\":{\"outlinewidth\":0,\"ticks\":\"\"},\"colorscale\":[[0.0,\"#0d0887\"],[0.1111111111111111,\"#46039f\"],[0.2222222222222222,\"#7201a8\"],[0.3333333333333333,\"#9c179e\"],[0.4444444444444444,\"#bd3786\"],[0.5555555555555556,\"#d8576b\"],[0.6666666666666666,\"#ed7953\"],[0.7777777777777778,\"#fb9f3a\"],[0.8888888888888888,\"#fdca26\"],[1.0,\"#f0f921\"]]}],\"choropleth\":[{\"type\":\"choropleth\",\"colorbar\":{\"outlinewidth\":0,\"ticks\":\"\"}}],\"histogram2d\":[{\"type\":\"histogram2d\",\"colorbar\":{\"outlinewidth\":0,\"ticks\":\"\"},\"colorscale\":[[0.0,\"#0d0887\"],[0.1111111111111111,\"#46039f\"],[0.2222222222222222,\"#7201a8\"],[0.3333333333333333,\"#9c179e\"],[0.4444444444444444,\"#bd3786\"],[0.5555555555555556,\"#d8576b\"],[0.6666666666666666,\"#ed7953\"],[0.7777777777777778,\"#fb9f3a\"],[0.8888888888888888,\"#fdca26\"],[1.0,\"#f0f921\"]]}],\"heatmap\":[{\"type\":\"heatmap\",\"colorbar\":{\"outlinewidth\":0,\"ticks\":\"\"},\"colorscale\":[[0.0,\"#0d0887\"],[0.1111111111111111,\"#46039f\"],[0.2222222222222222,\"#7201a8\"],[0.3333333333333333,\"#9c179e\"],[0.4444444444444444,\"#bd3786\"],[0.5555555555555556,\"#d8576b\"],[0.6666666666666666,\"#ed7953\"],[0.7777777777777778,\"#fb9f3a\"],[0.8888888888888888,\"#fdca26\"],[1.0,\"#f0f921\"]]}],\"heatmapgl\":[{\"type\":\"heatmapgl\",\"colorbar\":{\"outlinewidth\":0,\"ticks\":\"\"},\"colorscale\":[[0.0,\"#0d0887\"],[0.1111111111111111,\"#46039f\"],[0.2222222222222222,\"#7201a8\"],[0.3333333333333333,\"#9c179e\"],[0.4444444444444444,\"#bd3786\"],[0.5555555555555556,\"#d8576b\"],[0.6666666666666666,\"#ed7953\"],[0.7777777777777778,\"#fb9f3a\"],[0.8888888888888888,\"#fdca26\"],[1.0,\"#f0f921\"]]}],\"contourcarpet\":[{\"type\":\"contourcarpet\",\"colorbar\":{\"outlinewidth\":0,\"ticks\":\"\"}}],\"contour\":[{\"type\":\"contour\",\"colorbar\":{\"outlinewidth\":0,\"ticks\":\"\"},\"colorscale\":[[0.0,\"#0d0887\"],[0.1111111111111111,\"#46039f\"],[0.2222222222222222,\"#7201a8\"],[0.3333333333333333,\"#9c179e\"],[0.4444444444444444,\"#bd3786\"],[0.5555555555555556,\"#d8576b\"],[0.6666666666666666,\"#ed7953\"],[0.7777777777777778,\"#fb9f3a\"],[0.8888888888888888,\"#fdca26\"],[1.0,\"#f0f921\"]]}],\"surface\":[{\"type\":\"surface\",\"colorbar\":{\"outlinewidth\":0,\"ticks\":\"\"},\"colorscale\":[[0.0,\"#0d0887\"],[0.1111111111111111,\"#46039f\"],[0.2222222222222222,\"#7201a8\"],[0.3333333333333333,\"#9c179e\"],[0.4444444444444444,\"#bd3786\"],[0.5555555555555556,\"#d8576b\"],[0.6666666666666666,\"#ed7953\"],[0.7777777777777778,\"#fb9f3a\"],[0.8888888888888888,\"#fdca26\"],[1.0,\"#f0f921\"]]}],\"mesh3d\":[{\"type\":\"mesh3d\",\"colorbar\":{\"outlinewidth\":0,\"ticks\":\"\"}}],\"scatter\":[{\"marker\":{\"line\":{\"color\":\"#283442\"}},\"type\":\"scatter\"}],\"parcoords\":[{\"type\":\"parcoords\",\"line\":{\"colorbar\":{\"outlinewidth\":0,\"ticks\":\"\"}}}],\"scatterpolargl\":[{\"type\":\"scatterpolargl\",\"marker\":{\"colorbar\":{\"outlinewidth\":0,\"ticks\":\"\"}}}],\"bar\":[{\"error_x\":{\"color\":\"#f2f5fa\"},\"error_y\":{\"color\":\"#f2f5fa\"},\"marker\":{\"line\":{\"color\":\"rgb(17,17,17)\",\"width\":0.5},\"pattern\":{\"fillmode\":\"overlay\",\"size\":10,\"solidity\":0.2}},\"type\":\"bar\"}],\"scattergeo\":[{\"type\":\"scattergeo\",\"marker\":{\"colorbar\":{\"outlinewidth\":0,\"ticks\":\"\"}}}],\"scatterpolar\":[{\"type\":\"scatterpolar\",\"marker\":{\"colorbar\":{\"outlinewidth\":0,\"ticks\":\"\"}}}],\"histogram\":[{\"marker\":{\"pattern\":{\"fillmode\":\"overlay\",\"size\":10,\"solidity\":0.2}},\"type\":\"histogram\"}],\"scattergl\":[{\"marker\":{\"line\":{\"color\":\"#283442\"}},\"type\":\"scattergl\"}],\"scatter3d\":[{\"type\":\"scatter3d\",\"line\":{\"colorbar\":{\"outlinewidth\":0,\"ticks\":\"\"}},\"marker\":{\"colorbar\":{\"outlinewidth\":0,\"ticks\":\"\"}}}],\"scattermapbox\":[{\"type\":\"scattermapbox\",\"marker\":{\"colorbar\":{\"outlinewidth\":0,\"ticks\":\"\"}}}],\"scatterternary\":[{\"type\":\"scatterternary\",\"marker\":{\"colorbar\":{\"outlinewidth\":0,\"ticks\":\"\"}}}],\"scattercarpet\":[{\"type\":\"scattercarpet\",\"marker\":{\"colorbar\":{\"outlinewidth\":0,\"ticks\":\"\"}}}],\"carpet\":[{\"aaxis\":{\"endlinecolor\":\"#A2B1C6\",\"gridcolor\":\"#506784\",\"linecolor\":\"#506784\",\"minorgridcolor\":\"#506784\",\"startlinecolor\":\"#A2B1C6\"},\"baxis\":{\"endlinecolor\":\"#A2B1C6\",\"gridcolor\":\"#506784\",\"linecolor\":\"#506784\",\"minorgridcolor\":\"#506784\",\"startlinecolor\":\"#A2B1C6\"},\"type\":\"carpet\"}],\"table\":[{\"cells\":{\"fill\":{\"color\":\"#506784\"},\"line\":{\"color\":\"rgb(17,17,17)\"}},\"header\":{\"fill\":{\"color\":\"#2a3f5f\"},\"line\":{\"color\":\"rgb(17,17,17)\"}},\"type\":\"table\"}],\"barpolar\":[{\"marker\":{\"line\":{\"color\":\"rgb(17,17,17)\",\"width\":0.5},\"pattern\":{\"fillmode\":\"overlay\",\"size\":10,\"solidity\":0.2}},\"type\":\"barpolar\"}],\"pie\":[{\"automargin\":true,\"type\":\"pie\"}]},\"layout\":{\"autotypenumbers\":\"strict\",\"colorway\":[\"#636efa\",\"#EF553B\",\"#00cc96\",\"#ab63fa\",\"#FFA15A\",\"#19d3f3\",\"#FF6692\",\"#B6E880\",\"#FF97FF\",\"#FECB52\"],\"font\":{\"color\":\"#f2f5fa\"},\"hovermode\":\"closest\",\"hoverlabel\":{\"align\":\"left\"},\"paper_bgcolor\":\"rgb(17,17,17)\",\"plot_bgcolor\":\"rgb(17,17,17)\",\"polar\":{\"bgcolor\":\"rgb(17,17,17)\",\"angularaxis\":{\"gridcolor\":\"#506784\",\"linecolor\":\"#506784\",\"ticks\":\"\"},\"radialaxis\":{\"gridcolor\":\"#506784\",\"linecolor\":\"#506784\",\"ticks\":\"\"}},\"ternary\":{\"bgcolor\":\"rgb(17,17,17)\",\"aaxis\":{\"gridcolor\":\"#506784\",\"linecolor\":\"#506784\",\"ticks\":\"\"},\"baxis\":{\"gridcolor\":\"#506784\",\"linecolor\":\"#506784\",\"ticks\":\"\"},\"caxis\":{\"gridcolor\":\"#506784\",\"linecolor\":\"#506784\",\"ticks\":\"\"}},\"coloraxis\":{\"colorbar\":{\"outlinewidth\":0,\"ticks\":\"\"}},\"colorscale\":{\"sequential\":[[0.0,\"#0d0887\"],[0.1111111111111111,\"#46039f\"],[0.2222222222222222,\"#7201a8\"],[0.3333333333333333,\"#9c179e\"],[0.4444444444444444,\"#bd3786\"],[0.5555555555555556,\"#d8576b\"],[0.6666666666666666,\"#ed7953\"],[0.7777777777777778,\"#fb9f3a\"],[0.8888888888888888,\"#fdca26\"],[1.0,\"#f0f921\"]],\"sequentialminus\":[[0.0,\"#0d0887\"],[0.1111111111111111,\"#46039f\"],[0.2222222222222222,\"#7201a8\"],[0.3333333333333333,\"#9c179e\"],[0.4444444444444444,\"#bd3786\"],[0.5555555555555556,\"#d8576b\"],[0.6666666666666666,\"#ed7953\"],[0.7777777777777778,\"#fb9f3a\"],[0.8888888888888888,\"#fdca26\"],[1.0,\"#f0f921\"]],\"diverging\":[[0,\"#8e0152\"],[0.1,\"#c51b7d\"],[0.2,\"#de77ae\"],[0.3,\"#f1b6da\"],[0.4,\"#fde0ef\"],[0.5,\"#f7f7f7\"],[0.6,\"#e6f5d0\"],[0.7,\"#b8e186\"],[0.8,\"#7fbc41\"],[0.9,\"#4d9221\"],[1,\"#276419\"]]},\"xaxis\":{\"gridcolor\":\"#283442\",\"linecolor\":\"#506784\",\"ticks\":\"\",\"title\":{\"standoff\":15},\"zerolinecolor\":\"#283442\",\"automargin\":true,\"zerolinewidth\":2},\"yaxis\":{\"gridcolor\":\"#283442\",\"linecolor\":\"#506784\",\"ticks\":\"\",\"title\":{\"standoff\":15},\"zerolinecolor\":\"#283442\",\"automargin\":true,\"zerolinewidth\":2},\"scene\":{\"xaxis\":{\"backgroundcolor\":\"rgb(17,17,17)\",\"gridcolor\":\"#506784\",\"linecolor\":\"#506784\",\"showbackground\":true,\"ticks\":\"\",\"zerolinecolor\":\"#C8D4E3\",\"gridwidth\":2},\"yaxis\":{\"backgroundcolor\":\"rgb(17,17,17)\",\"gridcolor\":\"#506784\",\"linecolor\":\"#506784\",\"showbackground\":true,\"ticks\":\"\",\"zerolinecolor\":\"#C8D4E3\",\"gridwidth\":2},\"zaxis\":{\"backgroundcolor\":\"rgb(17,17,17)\",\"gridcolor\":\"#506784\",\"linecolor\":\"#506784\",\"showbackground\":true,\"ticks\":\"\",\"zerolinecolor\":\"#C8D4E3\",\"gridwidth\":2}},\"shapedefaults\":{\"line\":{\"color\":\"#f2f5fa\"}},\"annotationdefaults\":{\"arrowcolor\":\"#f2f5fa\",\"arrowhead\":0,\"arrowwidth\":1},\"geo\":{\"bgcolor\":\"rgb(17,17,17)\",\"landcolor\":\"rgb(17,17,17)\",\"subunitcolor\":\"#506784\",\"showland\":true,\"showlakes\":true,\"lakecolor\":\"rgb(17,17,17)\"},\"title\":{\"x\":0.05},\"updatemenudefaults\":{\"bgcolor\":\"#506784\",\"borderwidth\":0},\"sliderdefaults\":{\"bgcolor\":\"#C8D4E3\",\"borderwidth\":1,\"bordercolor\":\"rgb(17,17,17)\",\"tickwidth\":0},\"mapbox\":{\"style\":\"dark\"}}},\"xaxis\":{\"anchor\":\"y\",\"domain\":[0.0,1.0],\"title\":{\"text\":\"name\"}},\"yaxis\":{\"anchor\":\"x\",\"domain\":[0.0,1.0],\"title\":{\"text\":\"obesity_percentage\"}},\"coloraxis\":{\"colorbar\":{\"title\":{\"text\":\"obesity_percentage\"}},\"colorscale\":[[0.0,\"#0d0887\"],[0.1111111111111111,\"#46039f\"],[0.2222222222222222,\"#7201a8\"],[0.3333333333333333,\"#9c179e\"],[0.4444444444444444,\"#bd3786\"],[0.5555555555555556,\"#d8576b\"],[0.6666666666666666,\"#ed7953\"],[0.7777777777777778,\"#fb9f3a\"],[0.8888888888888888,\"#fdca26\"],[1.0,\"#f0f921\"]]},\"legend\":{\"tracegroupgap\":0},\"title\":{\"text\":\"Procent populacji os\\u00f3b oty\\u0142ych w poszczeg\\u00f3lnych stanach USA\"},\"barmode\":\"relative\"},                        {\"responsive\": true}                    ).then(function(){\n                            \nvar gd = document.getElementById('21cc50b8-c46a-43b9-9f2e-5ec657b7cf5c');\nvar x = new MutationObserver(function (mutations, observer) {{\n        var display = window.getComputedStyle(gd).display;\n        if (!display || display === 'none') {{\n            console.log([gd, 'removed!']);\n            Plotly.purge(gd);\n            observer.disconnect();\n        }}\n}});\n\n// Listen for the removal of the full notebook cells\nvar notebookContainer = gd.closest('#notebook-container');\nif (notebookContainer) {{\n    x.observe(notebookContainer, {childList: true});\n}}\n\n// Listen for the clearing of the current output cell\nvar outputEl = gd.closest('.output');\nif (outputEl) {{\n    x.observe(outputEl, {childList: true});\n}}\n\n                        })                };                });            </script>        </div>"
     },
     "metadata": {},
     "output_type": "display_data"
    }
   ],
   "source": [
    "px.bar(data_frame=df, x='name', y='obesity_percentage', color='obesity_percentage', title='Procent populacji osób otyłych w poszczególnych stanach USA')"
   ],
   "metadata": {
    "collapsed": false,
    "ExecuteTime": {
     "end_time": "2024-02-27T22:09:40.183511400Z",
     "start_time": "2024-02-27T22:09:40.147940800Z"
    }
   },
   "id": "7decfb165240c664"
  },
  {
   "cell_type": "code",
   "execution_count": 63,
   "outputs": [
    {
     "data": {
      "application/vnd.plotly.v1+json": {
       "data": [
        {
         "domain": {
          "x": [
           0.0,
           1.0
          ],
          "y": [
           0.0,
           1.0
          ]
         },
         "hovertemplate": "name=%{label}<br>obesity_percentage=%{value}<extra></extra>",
         "labels": [
          "Texas",
          "California",
          "Kentucky",
          "Georgia",
          "Wisconsin",
          "Oregon",
          "Virginia",
          "Tennessee",
          "Louisiana",
          "New York",
          "Michigan",
          "Idaho",
          "Florida",
          "Alaska",
          "Montana",
          "Minnesota",
          "Nebraska",
          "Washington",
          "Ohio",
          "Illinois",
          "Missouri",
          "Iowa",
          "South Dakota",
          "Arkansas",
          "Mississippi",
          "Colorado",
          "North Carolina",
          "Utah",
          "Oklahoma",
          "Wyoming",
          "West Virginia",
          "Indiana",
          "Massachusetts",
          "Nevada",
          "Connecticut",
          "District of Columbia",
          "Rhode Island",
          "Alabama",
          "Puerto Rico",
          "South Carolina",
          "Maine",
          "Hawaii",
          "Arizona",
          "New Mexico",
          "Maryland",
          "Delaware",
          "Pennsylvania",
          "Kansas",
          "Vermont",
          "New Jersey",
          "North Dakota",
          "New Hampshire"
         ],
         "legendgroup": "",
         "name": "",
         "showlegend": true,
         "values": [
          32.4,
          24.2,
          34.6,
          30.7,
          30.7,
          30.1,
          29.2,
          33.8,
          36.2,
          25.0,
          31.2,
          28.6,
          26.8,
          29.8,
          23.6,
          26.1,
          31.4,
          26.4,
          29.8,
          30.8,
          32.4,
          32.1,
          30.4,
          34.5,
          35.6,
          20.2,
          30.1,
          24.5,
          33.9,
          29.0,
          35.6,
          31.3,
          24.3,
          26.7,
          25.3,
          22.1,
          26.0,
          35.6,
          29.5,
          31.7,
          30.0,
          22.7,
          28.4,
          28.8,
          28.9,
          29.7,
          30.0,
          34.2,
          25.1,
          25.6,
          31.0,
          26.3
         ],
         "type": "pie"
        }
       ],
       "layout": {
        "template": {
         "data": {
          "histogram2dcontour": [
           {
            "type": "histogram2dcontour",
            "colorbar": {
             "outlinewidth": 0,
             "ticks": ""
            },
            "colorscale": [
             [
              0.0,
              "#0d0887"
             ],
             [
              0.1111111111111111,
              "#46039f"
             ],
             [
              0.2222222222222222,
              "#7201a8"
             ],
             [
              0.3333333333333333,
              "#9c179e"
             ],
             [
              0.4444444444444444,
              "#bd3786"
             ],
             [
              0.5555555555555556,
              "#d8576b"
             ],
             [
              0.6666666666666666,
              "#ed7953"
             ],
             [
              0.7777777777777778,
              "#fb9f3a"
             ],
             [
              0.8888888888888888,
              "#fdca26"
             ],
             [
              1.0,
              "#f0f921"
             ]
            ]
           }
          ],
          "choropleth": [
           {
            "type": "choropleth",
            "colorbar": {
             "outlinewidth": 0,
             "ticks": ""
            }
           }
          ],
          "histogram2d": [
           {
            "type": "histogram2d",
            "colorbar": {
             "outlinewidth": 0,
             "ticks": ""
            },
            "colorscale": [
             [
              0.0,
              "#0d0887"
             ],
             [
              0.1111111111111111,
              "#46039f"
             ],
             [
              0.2222222222222222,
              "#7201a8"
             ],
             [
              0.3333333333333333,
              "#9c179e"
             ],
             [
              0.4444444444444444,
              "#bd3786"
             ],
             [
              0.5555555555555556,
              "#d8576b"
             ],
             [
              0.6666666666666666,
              "#ed7953"
             ],
             [
              0.7777777777777778,
              "#fb9f3a"
             ],
             [
              0.8888888888888888,
              "#fdca26"
             ],
             [
              1.0,
              "#f0f921"
             ]
            ]
           }
          ],
          "heatmap": [
           {
            "type": "heatmap",
            "colorbar": {
             "outlinewidth": 0,
             "ticks": ""
            },
            "colorscale": [
             [
              0.0,
              "#0d0887"
             ],
             [
              0.1111111111111111,
              "#46039f"
             ],
             [
              0.2222222222222222,
              "#7201a8"
             ],
             [
              0.3333333333333333,
              "#9c179e"
             ],
             [
              0.4444444444444444,
              "#bd3786"
             ],
             [
              0.5555555555555556,
              "#d8576b"
             ],
             [
              0.6666666666666666,
              "#ed7953"
             ],
             [
              0.7777777777777778,
              "#fb9f3a"
             ],
             [
              0.8888888888888888,
              "#fdca26"
             ],
             [
              1.0,
              "#f0f921"
             ]
            ]
           }
          ],
          "heatmapgl": [
           {
            "type": "heatmapgl",
            "colorbar": {
             "outlinewidth": 0,
             "ticks": ""
            },
            "colorscale": [
             [
              0.0,
              "#0d0887"
             ],
             [
              0.1111111111111111,
              "#46039f"
             ],
             [
              0.2222222222222222,
              "#7201a8"
             ],
             [
              0.3333333333333333,
              "#9c179e"
             ],
             [
              0.4444444444444444,
              "#bd3786"
             ],
             [
              0.5555555555555556,
              "#d8576b"
             ],
             [
              0.6666666666666666,
              "#ed7953"
             ],
             [
              0.7777777777777778,
              "#fb9f3a"
             ],
             [
              0.8888888888888888,
              "#fdca26"
             ],
             [
              1.0,
              "#f0f921"
             ]
            ]
           }
          ],
          "contourcarpet": [
           {
            "type": "contourcarpet",
            "colorbar": {
             "outlinewidth": 0,
             "ticks": ""
            }
           }
          ],
          "contour": [
           {
            "type": "contour",
            "colorbar": {
             "outlinewidth": 0,
             "ticks": ""
            },
            "colorscale": [
             [
              0.0,
              "#0d0887"
             ],
             [
              0.1111111111111111,
              "#46039f"
             ],
             [
              0.2222222222222222,
              "#7201a8"
             ],
             [
              0.3333333333333333,
              "#9c179e"
             ],
             [
              0.4444444444444444,
              "#bd3786"
             ],
             [
              0.5555555555555556,
              "#d8576b"
             ],
             [
              0.6666666666666666,
              "#ed7953"
             ],
             [
              0.7777777777777778,
              "#fb9f3a"
             ],
             [
              0.8888888888888888,
              "#fdca26"
             ],
             [
              1.0,
              "#f0f921"
             ]
            ]
           }
          ],
          "surface": [
           {
            "type": "surface",
            "colorbar": {
             "outlinewidth": 0,
             "ticks": ""
            },
            "colorscale": [
             [
              0.0,
              "#0d0887"
             ],
             [
              0.1111111111111111,
              "#46039f"
             ],
             [
              0.2222222222222222,
              "#7201a8"
             ],
             [
              0.3333333333333333,
              "#9c179e"
             ],
             [
              0.4444444444444444,
              "#bd3786"
             ],
             [
              0.5555555555555556,
              "#d8576b"
             ],
             [
              0.6666666666666666,
              "#ed7953"
             ],
             [
              0.7777777777777778,
              "#fb9f3a"
             ],
             [
              0.8888888888888888,
              "#fdca26"
             ],
             [
              1.0,
              "#f0f921"
             ]
            ]
           }
          ],
          "mesh3d": [
           {
            "type": "mesh3d",
            "colorbar": {
             "outlinewidth": 0,
             "ticks": ""
            }
           }
          ],
          "scatter": [
           {
            "marker": {
             "line": {
              "color": "#283442"
             }
            },
            "type": "scatter"
           }
          ],
          "parcoords": [
           {
            "type": "parcoords",
            "line": {
             "colorbar": {
              "outlinewidth": 0,
              "ticks": ""
             }
            }
           }
          ],
          "scatterpolargl": [
           {
            "type": "scatterpolargl",
            "marker": {
             "colorbar": {
              "outlinewidth": 0,
              "ticks": ""
             }
            }
           }
          ],
          "bar": [
           {
            "error_x": {
             "color": "#f2f5fa"
            },
            "error_y": {
             "color": "#f2f5fa"
            },
            "marker": {
             "line": {
              "color": "rgb(17,17,17)",
              "width": 0.5
             },
             "pattern": {
              "fillmode": "overlay",
              "size": 10,
              "solidity": 0.2
             }
            },
            "type": "bar"
           }
          ],
          "scattergeo": [
           {
            "type": "scattergeo",
            "marker": {
             "colorbar": {
              "outlinewidth": 0,
              "ticks": ""
             }
            }
           }
          ],
          "scatterpolar": [
           {
            "type": "scatterpolar",
            "marker": {
             "colorbar": {
              "outlinewidth": 0,
              "ticks": ""
             }
            }
           }
          ],
          "histogram": [
           {
            "marker": {
             "pattern": {
              "fillmode": "overlay",
              "size": 10,
              "solidity": 0.2
             }
            },
            "type": "histogram"
           }
          ],
          "scattergl": [
           {
            "marker": {
             "line": {
              "color": "#283442"
             }
            },
            "type": "scattergl"
           }
          ],
          "scatter3d": [
           {
            "type": "scatter3d",
            "line": {
             "colorbar": {
              "outlinewidth": 0,
              "ticks": ""
             }
            },
            "marker": {
             "colorbar": {
              "outlinewidth": 0,
              "ticks": ""
             }
            }
           }
          ],
          "scattermapbox": [
           {
            "type": "scattermapbox",
            "marker": {
             "colorbar": {
              "outlinewidth": 0,
              "ticks": ""
             }
            }
           }
          ],
          "scatterternary": [
           {
            "type": "scatterternary",
            "marker": {
             "colorbar": {
              "outlinewidth": 0,
              "ticks": ""
             }
            }
           }
          ],
          "scattercarpet": [
           {
            "type": "scattercarpet",
            "marker": {
             "colorbar": {
              "outlinewidth": 0,
              "ticks": ""
             }
            }
           }
          ],
          "carpet": [
           {
            "aaxis": {
             "endlinecolor": "#A2B1C6",
             "gridcolor": "#506784",
             "linecolor": "#506784",
             "minorgridcolor": "#506784",
             "startlinecolor": "#A2B1C6"
            },
            "baxis": {
             "endlinecolor": "#A2B1C6",
             "gridcolor": "#506784",
             "linecolor": "#506784",
             "minorgridcolor": "#506784",
             "startlinecolor": "#A2B1C6"
            },
            "type": "carpet"
           }
          ],
          "table": [
           {
            "cells": {
             "fill": {
              "color": "#506784"
             },
             "line": {
              "color": "rgb(17,17,17)"
             }
            },
            "header": {
             "fill": {
              "color": "#2a3f5f"
             },
             "line": {
              "color": "rgb(17,17,17)"
             }
            },
            "type": "table"
           }
          ],
          "barpolar": [
           {
            "marker": {
             "line": {
              "color": "rgb(17,17,17)",
              "width": 0.5
             },
             "pattern": {
              "fillmode": "overlay",
              "size": 10,
              "solidity": 0.2
             }
            },
            "type": "barpolar"
           }
          ],
          "pie": [
           {
            "automargin": true,
            "type": "pie"
           }
          ]
         },
         "layout": {
          "autotypenumbers": "strict",
          "colorway": [
           "#636efa",
           "#EF553B",
           "#00cc96",
           "#ab63fa",
           "#FFA15A",
           "#19d3f3",
           "#FF6692",
           "#B6E880",
           "#FF97FF",
           "#FECB52"
          ],
          "font": {
           "color": "#f2f5fa"
          },
          "hovermode": "closest",
          "hoverlabel": {
           "align": "left"
          },
          "paper_bgcolor": "rgb(17,17,17)",
          "plot_bgcolor": "rgb(17,17,17)",
          "polar": {
           "bgcolor": "rgb(17,17,17)",
           "angularaxis": {
            "gridcolor": "#506784",
            "linecolor": "#506784",
            "ticks": ""
           },
           "radialaxis": {
            "gridcolor": "#506784",
            "linecolor": "#506784",
            "ticks": ""
           }
          },
          "ternary": {
           "bgcolor": "rgb(17,17,17)",
           "aaxis": {
            "gridcolor": "#506784",
            "linecolor": "#506784",
            "ticks": ""
           },
           "baxis": {
            "gridcolor": "#506784",
            "linecolor": "#506784",
            "ticks": ""
           },
           "caxis": {
            "gridcolor": "#506784",
            "linecolor": "#506784",
            "ticks": ""
           }
          },
          "coloraxis": {
           "colorbar": {
            "outlinewidth": 0,
            "ticks": ""
           }
          },
          "colorscale": {
           "sequential": [
            [
             0.0,
             "#0d0887"
            ],
            [
             0.1111111111111111,
             "#46039f"
            ],
            [
             0.2222222222222222,
             "#7201a8"
            ],
            [
             0.3333333333333333,
             "#9c179e"
            ],
            [
             0.4444444444444444,
             "#bd3786"
            ],
            [
             0.5555555555555556,
             "#d8576b"
            ],
            [
             0.6666666666666666,
             "#ed7953"
            ],
            [
             0.7777777777777778,
             "#fb9f3a"
            ],
            [
             0.8888888888888888,
             "#fdca26"
            ],
            [
             1.0,
             "#f0f921"
            ]
           ],
           "sequentialminus": [
            [
             0.0,
             "#0d0887"
            ],
            [
             0.1111111111111111,
             "#46039f"
            ],
            [
             0.2222222222222222,
             "#7201a8"
            ],
            [
             0.3333333333333333,
             "#9c179e"
            ],
            [
             0.4444444444444444,
             "#bd3786"
            ],
            [
             0.5555555555555556,
             "#d8576b"
            ],
            [
             0.6666666666666666,
             "#ed7953"
            ],
            [
             0.7777777777777778,
             "#fb9f3a"
            ],
            [
             0.8888888888888888,
             "#fdca26"
            ],
            [
             1.0,
             "#f0f921"
            ]
           ],
           "diverging": [
            [
             0,
             "#8e0152"
            ],
            [
             0.1,
             "#c51b7d"
            ],
            [
             0.2,
             "#de77ae"
            ],
            [
             0.3,
             "#f1b6da"
            ],
            [
             0.4,
             "#fde0ef"
            ],
            [
             0.5,
             "#f7f7f7"
            ],
            [
             0.6,
             "#e6f5d0"
            ],
            [
             0.7,
             "#b8e186"
            ],
            [
             0.8,
             "#7fbc41"
            ],
            [
             0.9,
             "#4d9221"
            ],
            [
             1,
             "#276419"
            ]
           ]
          },
          "xaxis": {
           "gridcolor": "#283442",
           "linecolor": "#506784",
           "ticks": "",
           "title": {
            "standoff": 15
           },
           "zerolinecolor": "#283442",
           "automargin": true,
           "zerolinewidth": 2
          },
          "yaxis": {
           "gridcolor": "#283442",
           "linecolor": "#506784",
           "ticks": "",
           "title": {
            "standoff": 15
           },
           "zerolinecolor": "#283442",
           "automargin": true,
           "zerolinewidth": 2
          },
          "scene": {
           "xaxis": {
            "backgroundcolor": "rgb(17,17,17)",
            "gridcolor": "#506784",
            "linecolor": "#506784",
            "showbackground": true,
            "ticks": "",
            "zerolinecolor": "#C8D4E3",
            "gridwidth": 2
           },
           "yaxis": {
            "backgroundcolor": "rgb(17,17,17)",
            "gridcolor": "#506784",
            "linecolor": "#506784",
            "showbackground": true,
            "ticks": "",
            "zerolinecolor": "#C8D4E3",
            "gridwidth": 2
           },
           "zaxis": {
            "backgroundcolor": "rgb(17,17,17)",
            "gridcolor": "#506784",
            "linecolor": "#506784",
            "showbackground": true,
            "ticks": "",
            "zerolinecolor": "#C8D4E3",
            "gridwidth": 2
           }
          },
          "shapedefaults": {
           "line": {
            "color": "#f2f5fa"
           }
          },
          "annotationdefaults": {
           "arrowcolor": "#f2f5fa",
           "arrowhead": 0,
           "arrowwidth": 1
          },
          "geo": {
           "bgcolor": "rgb(17,17,17)",
           "landcolor": "rgb(17,17,17)",
           "subunitcolor": "#506784",
           "showland": true,
           "showlakes": true,
           "lakecolor": "rgb(17,17,17)"
          },
          "title": {
           "x": 0.05
          },
          "updatemenudefaults": {
           "bgcolor": "#506784",
           "borderwidth": 0
          },
          "sliderdefaults": {
           "bgcolor": "#C8D4E3",
           "borderwidth": 1,
           "bordercolor": "rgb(17,17,17)",
           "tickwidth": 0
          },
          "mapbox": {
           "style": "dark"
          }
         }
        },
        "legend": {
         "tracegroupgap": 0
        },
        "title": {
         "text": "Procent osób otyłych w poszczególnych stanach USA względem całości"
        },
        "height": 1200,
        "width": 1200
       },
       "config": {
        "plotlyServerURL": "https://plot.ly"
       }
      },
      "text/html": "<div>                            <div id=\"902bff2a-d93b-4cfe-a843-2d7f915986d7\" class=\"plotly-graph-div\" style=\"height:1200px; width:1200px;\"></div>            <script type=\"text/javascript\">                require([\"plotly\"], function(Plotly) {                    window.PLOTLYENV=window.PLOTLYENV || {};                                    if (document.getElementById(\"902bff2a-d93b-4cfe-a843-2d7f915986d7\")) {                    Plotly.newPlot(                        \"902bff2a-d93b-4cfe-a843-2d7f915986d7\",                        [{\"domain\":{\"x\":[0.0,1.0],\"y\":[0.0,1.0]},\"hovertemplate\":\"name=%{label}<br>obesity_percentage=%{value}<extra></extra>\",\"labels\":[\"Texas\",\"California\",\"Kentucky\",\"Georgia\",\"Wisconsin\",\"Oregon\",\"Virginia\",\"Tennessee\",\"Louisiana\",\"New York\",\"Michigan\",\"Idaho\",\"Florida\",\"Alaska\",\"Montana\",\"Minnesota\",\"Nebraska\",\"Washington\",\"Ohio\",\"Illinois\",\"Missouri\",\"Iowa\",\"South Dakota\",\"Arkansas\",\"Mississippi\",\"Colorado\",\"North Carolina\",\"Utah\",\"Oklahoma\",\"Wyoming\",\"West Virginia\",\"Indiana\",\"Massachusetts\",\"Nevada\",\"Connecticut\",\"District of Columbia\",\"Rhode Island\",\"Alabama\",\"Puerto Rico\",\"South Carolina\",\"Maine\",\"Hawaii\",\"Arizona\",\"New Mexico\",\"Maryland\",\"Delaware\",\"Pennsylvania\",\"Kansas\",\"Vermont\",\"New Jersey\",\"North Dakota\",\"New Hampshire\"],\"legendgroup\":\"\",\"name\":\"\",\"showlegend\":true,\"values\":[32.4,24.2,34.6,30.7,30.7,30.1,29.2,33.8,36.2,25.0,31.2,28.6,26.8,29.8,23.6,26.1,31.4,26.4,29.8,30.8,32.4,32.1,30.4,34.5,35.6,20.2,30.1,24.5,33.9,29.0,35.6,31.3,24.3,26.7,25.3,22.1,26.0,35.6,29.5,31.7,30.0,22.7,28.4,28.8,28.9,29.7,30.0,34.2,25.1,25.6,31.0,26.3],\"type\":\"pie\"}],                        {\"template\":{\"data\":{\"histogram2dcontour\":[{\"type\":\"histogram2dcontour\",\"colorbar\":{\"outlinewidth\":0,\"ticks\":\"\"},\"colorscale\":[[0.0,\"#0d0887\"],[0.1111111111111111,\"#46039f\"],[0.2222222222222222,\"#7201a8\"],[0.3333333333333333,\"#9c179e\"],[0.4444444444444444,\"#bd3786\"],[0.5555555555555556,\"#d8576b\"],[0.6666666666666666,\"#ed7953\"],[0.7777777777777778,\"#fb9f3a\"],[0.8888888888888888,\"#fdca26\"],[1.0,\"#f0f921\"]]}],\"choropleth\":[{\"type\":\"choropleth\",\"colorbar\":{\"outlinewidth\":0,\"ticks\":\"\"}}],\"histogram2d\":[{\"type\":\"histogram2d\",\"colorbar\":{\"outlinewidth\":0,\"ticks\":\"\"},\"colorscale\":[[0.0,\"#0d0887\"],[0.1111111111111111,\"#46039f\"],[0.2222222222222222,\"#7201a8\"],[0.3333333333333333,\"#9c179e\"],[0.4444444444444444,\"#bd3786\"],[0.5555555555555556,\"#d8576b\"],[0.6666666666666666,\"#ed7953\"],[0.7777777777777778,\"#fb9f3a\"],[0.8888888888888888,\"#fdca26\"],[1.0,\"#f0f921\"]]}],\"heatmap\":[{\"type\":\"heatmap\",\"colorbar\":{\"outlinewidth\":0,\"ticks\":\"\"},\"colorscale\":[[0.0,\"#0d0887\"],[0.1111111111111111,\"#46039f\"],[0.2222222222222222,\"#7201a8\"],[0.3333333333333333,\"#9c179e\"],[0.4444444444444444,\"#bd3786\"],[0.5555555555555556,\"#d8576b\"],[0.6666666666666666,\"#ed7953\"],[0.7777777777777778,\"#fb9f3a\"],[0.8888888888888888,\"#fdca26\"],[1.0,\"#f0f921\"]]}],\"heatmapgl\":[{\"type\":\"heatmapgl\",\"colorbar\":{\"outlinewidth\":0,\"ticks\":\"\"},\"colorscale\":[[0.0,\"#0d0887\"],[0.1111111111111111,\"#46039f\"],[0.2222222222222222,\"#7201a8\"],[0.3333333333333333,\"#9c179e\"],[0.4444444444444444,\"#bd3786\"],[0.5555555555555556,\"#d8576b\"],[0.6666666666666666,\"#ed7953\"],[0.7777777777777778,\"#fb9f3a\"],[0.8888888888888888,\"#fdca26\"],[1.0,\"#f0f921\"]]}],\"contourcarpet\":[{\"type\":\"contourcarpet\",\"colorbar\":{\"outlinewidth\":0,\"ticks\":\"\"}}],\"contour\":[{\"type\":\"contour\",\"colorbar\":{\"outlinewidth\":0,\"ticks\":\"\"},\"colorscale\":[[0.0,\"#0d0887\"],[0.1111111111111111,\"#46039f\"],[0.2222222222222222,\"#7201a8\"],[0.3333333333333333,\"#9c179e\"],[0.4444444444444444,\"#bd3786\"],[0.5555555555555556,\"#d8576b\"],[0.6666666666666666,\"#ed7953\"],[0.7777777777777778,\"#fb9f3a\"],[0.8888888888888888,\"#fdca26\"],[1.0,\"#f0f921\"]]}],\"surface\":[{\"type\":\"surface\",\"colorbar\":{\"outlinewidth\":0,\"ticks\":\"\"},\"colorscale\":[[0.0,\"#0d0887\"],[0.1111111111111111,\"#46039f\"],[0.2222222222222222,\"#7201a8\"],[0.3333333333333333,\"#9c179e\"],[0.4444444444444444,\"#bd3786\"],[0.5555555555555556,\"#d8576b\"],[0.6666666666666666,\"#ed7953\"],[0.7777777777777778,\"#fb9f3a\"],[0.8888888888888888,\"#fdca26\"],[1.0,\"#f0f921\"]]}],\"mesh3d\":[{\"type\":\"mesh3d\",\"colorbar\":{\"outlinewidth\":0,\"ticks\":\"\"}}],\"scatter\":[{\"marker\":{\"line\":{\"color\":\"#283442\"}},\"type\":\"scatter\"}],\"parcoords\":[{\"type\":\"parcoords\",\"line\":{\"colorbar\":{\"outlinewidth\":0,\"ticks\":\"\"}}}],\"scatterpolargl\":[{\"type\":\"scatterpolargl\",\"marker\":{\"colorbar\":{\"outlinewidth\":0,\"ticks\":\"\"}}}],\"bar\":[{\"error_x\":{\"color\":\"#f2f5fa\"},\"error_y\":{\"color\":\"#f2f5fa\"},\"marker\":{\"line\":{\"color\":\"rgb(17,17,17)\",\"width\":0.5},\"pattern\":{\"fillmode\":\"overlay\",\"size\":10,\"solidity\":0.2}},\"type\":\"bar\"}],\"scattergeo\":[{\"type\":\"scattergeo\",\"marker\":{\"colorbar\":{\"outlinewidth\":0,\"ticks\":\"\"}}}],\"scatterpolar\":[{\"type\":\"scatterpolar\",\"marker\":{\"colorbar\":{\"outlinewidth\":0,\"ticks\":\"\"}}}],\"histogram\":[{\"marker\":{\"pattern\":{\"fillmode\":\"overlay\",\"size\":10,\"solidity\":0.2}},\"type\":\"histogram\"}],\"scattergl\":[{\"marker\":{\"line\":{\"color\":\"#283442\"}},\"type\":\"scattergl\"}],\"scatter3d\":[{\"type\":\"scatter3d\",\"line\":{\"colorbar\":{\"outlinewidth\":0,\"ticks\":\"\"}},\"marker\":{\"colorbar\":{\"outlinewidth\":0,\"ticks\":\"\"}}}],\"scattermapbox\":[{\"type\":\"scattermapbox\",\"marker\":{\"colorbar\":{\"outlinewidth\":0,\"ticks\":\"\"}}}],\"scatterternary\":[{\"type\":\"scatterternary\",\"marker\":{\"colorbar\":{\"outlinewidth\":0,\"ticks\":\"\"}}}],\"scattercarpet\":[{\"type\":\"scattercarpet\",\"marker\":{\"colorbar\":{\"outlinewidth\":0,\"ticks\":\"\"}}}],\"carpet\":[{\"aaxis\":{\"endlinecolor\":\"#A2B1C6\",\"gridcolor\":\"#506784\",\"linecolor\":\"#506784\",\"minorgridcolor\":\"#506784\",\"startlinecolor\":\"#A2B1C6\"},\"baxis\":{\"endlinecolor\":\"#A2B1C6\",\"gridcolor\":\"#506784\",\"linecolor\":\"#506784\",\"minorgridcolor\":\"#506784\",\"startlinecolor\":\"#A2B1C6\"},\"type\":\"carpet\"}],\"table\":[{\"cells\":{\"fill\":{\"color\":\"#506784\"},\"line\":{\"color\":\"rgb(17,17,17)\"}},\"header\":{\"fill\":{\"color\":\"#2a3f5f\"},\"line\":{\"color\":\"rgb(17,17,17)\"}},\"type\":\"table\"}],\"barpolar\":[{\"marker\":{\"line\":{\"color\":\"rgb(17,17,17)\",\"width\":0.5},\"pattern\":{\"fillmode\":\"overlay\",\"size\":10,\"solidity\":0.2}},\"type\":\"barpolar\"}],\"pie\":[{\"automargin\":true,\"type\":\"pie\"}]},\"layout\":{\"autotypenumbers\":\"strict\",\"colorway\":[\"#636efa\",\"#EF553B\",\"#00cc96\",\"#ab63fa\",\"#FFA15A\",\"#19d3f3\",\"#FF6692\",\"#B6E880\",\"#FF97FF\",\"#FECB52\"],\"font\":{\"color\":\"#f2f5fa\"},\"hovermode\":\"closest\",\"hoverlabel\":{\"align\":\"left\"},\"paper_bgcolor\":\"rgb(17,17,17)\",\"plot_bgcolor\":\"rgb(17,17,17)\",\"polar\":{\"bgcolor\":\"rgb(17,17,17)\",\"angularaxis\":{\"gridcolor\":\"#506784\",\"linecolor\":\"#506784\",\"ticks\":\"\"},\"radialaxis\":{\"gridcolor\":\"#506784\",\"linecolor\":\"#506784\",\"ticks\":\"\"}},\"ternary\":{\"bgcolor\":\"rgb(17,17,17)\",\"aaxis\":{\"gridcolor\":\"#506784\",\"linecolor\":\"#506784\",\"ticks\":\"\"},\"baxis\":{\"gridcolor\":\"#506784\",\"linecolor\":\"#506784\",\"ticks\":\"\"},\"caxis\":{\"gridcolor\":\"#506784\",\"linecolor\":\"#506784\",\"ticks\":\"\"}},\"coloraxis\":{\"colorbar\":{\"outlinewidth\":0,\"ticks\":\"\"}},\"colorscale\":{\"sequential\":[[0.0,\"#0d0887\"],[0.1111111111111111,\"#46039f\"],[0.2222222222222222,\"#7201a8\"],[0.3333333333333333,\"#9c179e\"],[0.4444444444444444,\"#bd3786\"],[0.5555555555555556,\"#d8576b\"],[0.6666666666666666,\"#ed7953\"],[0.7777777777777778,\"#fb9f3a\"],[0.8888888888888888,\"#fdca26\"],[1.0,\"#f0f921\"]],\"sequentialminus\":[[0.0,\"#0d0887\"],[0.1111111111111111,\"#46039f\"],[0.2222222222222222,\"#7201a8\"],[0.3333333333333333,\"#9c179e\"],[0.4444444444444444,\"#bd3786\"],[0.5555555555555556,\"#d8576b\"],[0.6666666666666666,\"#ed7953\"],[0.7777777777777778,\"#fb9f3a\"],[0.8888888888888888,\"#fdca26\"],[1.0,\"#f0f921\"]],\"diverging\":[[0,\"#8e0152\"],[0.1,\"#c51b7d\"],[0.2,\"#de77ae\"],[0.3,\"#f1b6da\"],[0.4,\"#fde0ef\"],[0.5,\"#f7f7f7\"],[0.6,\"#e6f5d0\"],[0.7,\"#b8e186\"],[0.8,\"#7fbc41\"],[0.9,\"#4d9221\"],[1,\"#276419\"]]},\"xaxis\":{\"gridcolor\":\"#283442\",\"linecolor\":\"#506784\",\"ticks\":\"\",\"title\":{\"standoff\":15},\"zerolinecolor\":\"#283442\",\"automargin\":true,\"zerolinewidth\":2},\"yaxis\":{\"gridcolor\":\"#283442\",\"linecolor\":\"#506784\",\"ticks\":\"\",\"title\":{\"standoff\":15},\"zerolinecolor\":\"#283442\",\"automargin\":true,\"zerolinewidth\":2},\"scene\":{\"xaxis\":{\"backgroundcolor\":\"rgb(17,17,17)\",\"gridcolor\":\"#506784\",\"linecolor\":\"#506784\",\"showbackground\":true,\"ticks\":\"\",\"zerolinecolor\":\"#C8D4E3\",\"gridwidth\":2},\"yaxis\":{\"backgroundcolor\":\"rgb(17,17,17)\",\"gridcolor\":\"#506784\",\"linecolor\":\"#506784\",\"showbackground\":true,\"ticks\":\"\",\"zerolinecolor\":\"#C8D4E3\",\"gridwidth\":2},\"zaxis\":{\"backgroundcolor\":\"rgb(17,17,17)\",\"gridcolor\":\"#506784\",\"linecolor\":\"#506784\",\"showbackground\":true,\"ticks\":\"\",\"zerolinecolor\":\"#C8D4E3\",\"gridwidth\":2}},\"shapedefaults\":{\"line\":{\"color\":\"#f2f5fa\"}},\"annotationdefaults\":{\"arrowcolor\":\"#f2f5fa\",\"arrowhead\":0,\"arrowwidth\":1},\"geo\":{\"bgcolor\":\"rgb(17,17,17)\",\"landcolor\":\"rgb(17,17,17)\",\"subunitcolor\":\"#506784\",\"showland\":true,\"showlakes\":true,\"lakecolor\":\"rgb(17,17,17)\"},\"title\":{\"x\":0.05},\"updatemenudefaults\":{\"bgcolor\":\"#506784\",\"borderwidth\":0},\"sliderdefaults\":{\"bgcolor\":\"#C8D4E3\",\"borderwidth\":1,\"bordercolor\":\"rgb(17,17,17)\",\"tickwidth\":0},\"mapbox\":{\"style\":\"dark\"}}},\"legend\":{\"tracegroupgap\":0},\"title\":{\"text\":\"Procent os\\u00f3b oty\\u0142ych w poszczeg\\u00f3lnych stanach USA wzgl\\u0119dem ca\\u0142o\\u015bci\"},\"height\":1200,\"width\":1200},                        {\"responsive\": true}                    ).then(function(){\n                            \nvar gd = document.getElementById('902bff2a-d93b-4cfe-a843-2d7f915986d7');\nvar x = new MutationObserver(function (mutations, observer) {{\n        var display = window.getComputedStyle(gd).display;\n        if (!display || display === 'none') {{\n            console.log([gd, 'removed!']);\n            Plotly.purge(gd);\n            observer.disconnect();\n        }}\n}});\n\n// Listen for the removal of the full notebook cells\nvar notebookContainer = gd.closest('#notebook-container');\nif (notebookContainer) {{\n    x.observe(notebookContainer, {childList: true});\n}}\n\n// Listen for the clearing of the current output cell\nvar outputEl = gd.closest('.output');\nif (outputEl) {{\n    x.observe(outputEl, {childList: true});\n}}\n\n                        })                };                });            </script>        </div>"
     },
     "metadata": {},
     "output_type": "display_data"
    }
   ],
   "source": [
    "px.pie(data_frame=df, values='obesity_percentage', names='name', title='Procent osób otyłych w poszczególnych stanach USA względem całości', width=1200, height=1200)"
   ],
   "metadata": {
    "collapsed": false,
    "ExecuteTime": {
     "end_time": "2024-02-27T22:11:47.939068800Z",
     "start_time": "2024-02-27T22:11:47.908042900Z"
    }
   },
   "id": "a19b90514f6e3cc0"
  },
  {
   "cell_type": "code",
   "execution_count": null,
   "outputs": [],
   "source": [],
   "metadata": {
    "collapsed": false
   },
   "id": "6f1ce88e9c53ed50"
  }
 ],
 "metadata": {
  "kernelspec": {
   "display_name": "Python 3",
   "language": "python",
   "name": "python3"
  },
  "language_info": {
   "codemirror_mode": {
    "name": "ipython",
    "version": 2
   },
   "file_extension": ".py",
   "mimetype": "text/x-python",
   "name": "python",
   "nbconvert_exporter": "python",
   "pygments_lexer": "ipython2",
   "version": "2.7.6"
  }
 },
 "nbformat": 4,
 "nbformat_minor": 5
}
