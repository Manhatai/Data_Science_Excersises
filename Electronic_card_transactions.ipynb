{
 "cells": [
  {
   "cell_type": "code",
   "execution_count": 1,
   "id": "initial_id",
   "metadata": {
    "collapsed": true,
    "ExecuteTime": {
     "end_time": "2024-02-11T15:56:29.680646300Z",
     "start_time": "2024-02-11T15:56:29.676634600Z"
    }
   },
   "outputs": [],
   "source": [
    "import numpy as np\n",
    "import pandas as pd\n",
    "import matplotlib.pyplot as plt\n",
    "import seaborn as sns"
   ]
  },
  {
   "cell_type": "code",
   "execution_count": 4,
   "outputs": [
    {
     "data": {
      "text/plain": "      Series_reference   Period  Data_value Suppressed STATUS    UNITS  \\\n0           ECTA.S19A1  2001.03      2462.5        NaN      F  Dollars   \n1           ECTA.S19A1  2002.03     17177.2        NaN      F  Dollars   \n2           ECTA.S19A1  2003.03     22530.5        NaN      F  Dollars   \n3           ECTA.S19A1  2004.03     28005.1        NaN      F  Dollars   \n4           ECTA.S19A1  2005.03     30629.6        NaN      F  Dollars   \n...                ...      ...         ...        ...    ...      ...   \n20119       ECTQ.S4AXP  2022.12        32.7        NaN      F  Percent   \n20120       ECTQ.S4AXP  2023.03        31.9        NaN      F  Percent   \n20121       ECTQ.S4AXP  2023.06        33.0        NaN      F  Percent   \n20122       ECTQ.S4AXP  2023.09        33.2        NaN      F  Percent   \n20123       ECTQ.S4AXP  2023.12        32.7        NaN      F  Percent   \n\n       Magnitude                                        Subject  \\\n0              6  Electronic Card Transactions (ANZSIC06) - ECT   \n1              6  Electronic Card Transactions (ANZSIC06) - ECT   \n2              6  Electronic Card Transactions (ANZSIC06) - ECT   \n3              6  Electronic Card Transactions (ANZSIC06) - ECT   \n4              6  Electronic Card Transactions (ANZSIC06) - ECT   \n...          ...                                            ...   \n20119          0  Electronic Card Transactions (ANZSIC06) - ECT   \n20120          0  Electronic Card Transactions (ANZSIC06) - ECT   \n20121          0  Electronic Card Transactions (ANZSIC06) - ECT   \n20122          0  Electronic Card Transactions (ANZSIC06) - ECT   \n20123          0  Electronic Card Transactions (ANZSIC06) - ECT   \n\n                                                   Group Series_title_1  \\\n0      Total values - Electronic card transactions A/...         Actual   \n1      Total values - Electronic card transactions A/...         Actual   \n2      Total values - Electronic card transactions A/...         Actual   \n3      Total values - Electronic card transactions A/...         Actual   \n4      Total values - Electronic card transactions A/...         Actual   \n...                                                  ...            ...   \n20119  Electronic card transactions by mean and propo...         Actual   \n20120  Electronic card transactions by mean and propo...         Actual   \n20121  Electronic card transactions by mean and propo...         Actual   \n20122  Electronic card transactions by mean and propo...         Actual   \n20123  Electronic card transactions by mean and propo...         Actual   \n\n                                          Series_title_2  Series_title_3  \\\n0                                   RTS total industries             NaN   \n1                                   RTS total industries             NaN   \n2                                   RTS total industries             NaN   \n3                                   RTS total industries             NaN   \n4                                   RTS total industries             NaN   \n...                                                  ...             ...   \n20119  Debit card usage as a proportion of total ECT ...  Proportion (%)   \n20120  Debit card usage as a proportion of total ECT ...  Proportion (%)   \n20121  Debit card usage as a proportion of total ECT ...  Proportion (%)   \n20122  Debit card usage as a proportion of total ECT ...  Proportion (%)   \n20123  Debit card usage as a proportion of total ECT ...  Proportion (%)   \n\n       Series_title_4  Series_title_5  \n0                 NaN             NaN  \n1                 NaN             NaN  \n2                 NaN             NaN  \n3                 NaN             NaN  \n4                 NaN             NaN  \n...               ...             ...  \n20119             NaN             NaN  \n20120             NaN             NaN  \n20121             NaN             NaN  \n20122             NaN             NaN  \n20123             NaN             NaN  \n\n[20124 rows x 14 columns]",
      "text/html": "<div>\n<style scoped>\n    .dataframe tbody tr th:only-of-type {\n        vertical-align: middle;\n    }\n\n    .dataframe tbody tr th {\n        vertical-align: top;\n    }\n\n    .dataframe thead th {\n        text-align: right;\n    }\n</style>\n<table border=\"1\" class=\"dataframe\">\n  <thead>\n    <tr style=\"text-align: right;\">\n      <th></th>\n      <th>Series_reference</th>\n      <th>Period</th>\n      <th>Data_value</th>\n      <th>Suppressed</th>\n      <th>STATUS</th>\n      <th>UNITS</th>\n      <th>Magnitude</th>\n      <th>Subject</th>\n      <th>Group</th>\n      <th>Series_title_1</th>\n      <th>Series_title_2</th>\n      <th>Series_title_3</th>\n      <th>Series_title_4</th>\n      <th>Series_title_5</th>\n    </tr>\n  </thead>\n  <tbody>\n    <tr>\n      <th>0</th>\n      <td>ECTA.S19A1</td>\n      <td>2001.03</td>\n      <td>2462.5</td>\n      <td>NaN</td>\n      <td>F</td>\n      <td>Dollars</td>\n      <td>6</td>\n      <td>Electronic Card Transactions (ANZSIC06) - ECT</td>\n      <td>Total values - Electronic card transactions A/...</td>\n      <td>Actual</td>\n      <td>RTS total industries</td>\n      <td>NaN</td>\n      <td>NaN</td>\n      <td>NaN</td>\n    </tr>\n    <tr>\n      <th>1</th>\n      <td>ECTA.S19A1</td>\n      <td>2002.03</td>\n      <td>17177.2</td>\n      <td>NaN</td>\n      <td>F</td>\n      <td>Dollars</td>\n      <td>6</td>\n      <td>Electronic Card Transactions (ANZSIC06) - ECT</td>\n      <td>Total values - Electronic card transactions A/...</td>\n      <td>Actual</td>\n      <td>RTS total industries</td>\n      <td>NaN</td>\n      <td>NaN</td>\n      <td>NaN</td>\n    </tr>\n    <tr>\n      <th>2</th>\n      <td>ECTA.S19A1</td>\n      <td>2003.03</td>\n      <td>22530.5</td>\n      <td>NaN</td>\n      <td>F</td>\n      <td>Dollars</td>\n      <td>6</td>\n      <td>Electronic Card Transactions (ANZSIC06) - ECT</td>\n      <td>Total values - Electronic card transactions A/...</td>\n      <td>Actual</td>\n      <td>RTS total industries</td>\n      <td>NaN</td>\n      <td>NaN</td>\n      <td>NaN</td>\n    </tr>\n    <tr>\n      <th>3</th>\n      <td>ECTA.S19A1</td>\n      <td>2004.03</td>\n      <td>28005.1</td>\n      <td>NaN</td>\n      <td>F</td>\n      <td>Dollars</td>\n      <td>6</td>\n      <td>Electronic Card Transactions (ANZSIC06) - ECT</td>\n      <td>Total values - Electronic card transactions A/...</td>\n      <td>Actual</td>\n      <td>RTS total industries</td>\n      <td>NaN</td>\n      <td>NaN</td>\n      <td>NaN</td>\n    </tr>\n    <tr>\n      <th>4</th>\n      <td>ECTA.S19A1</td>\n      <td>2005.03</td>\n      <td>30629.6</td>\n      <td>NaN</td>\n      <td>F</td>\n      <td>Dollars</td>\n      <td>6</td>\n      <td>Electronic Card Transactions (ANZSIC06) - ECT</td>\n      <td>Total values - Electronic card transactions A/...</td>\n      <td>Actual</td>\n      <td>RTS total industries</td>\n      <td>NaN</td>\n      <td>NaN</td>\n      <td>NaN</td>\n    </tr>\n    <tr>\n      <th>...</th>\n      <td>...</td>\n      <td>...</td>\n      <td>...</td>\n      <td>...</td>\n      <td>...</td>\n      <td>...</td>\n      <td>...</td>\n      <td>...</td>\n      <td>...</td>\n      <td>...</td>\n      <td>...</td>\n      <td>...</td>\n      <td>...</td>\n      <td>...</td>\n    </tr>\n    <tr>\n      <th>20119</th>\n      <td>ECTQ.S4AXP</td>\n      <td>2022.12</td>\n      <td>32.7</td>\n      <td>NaN</td>\n      <td>F</td>\n      <td>Percent</td>\n      <td>0</td>\n      <td>Electronic Card Transactions (ANZSIC06) - ECT</td>\n      <td>Electronic card transactions by mean and propo...</td>\n      <td>Actual</td>\n      <td>Debit card usage as a proportion of total ECT ...</td>\n      <td>Proportion (%)</td>\n      <td>NaN</td>\n      <td>NaN</td>\n    </tr>\n    <tr>\n      <th>20120</th>\n      <td>ECTQ.S4AXP</td>\n      <td>2023.03</td>\n      <td>31.9</td>\n      <td>NaN</td>\n      <td>F</td>\n      <td>Percent</td>\n      <td>0</td>\n      <td>Electronic Card Transactions (ANZSIC06) - ECT</td>\n      <td>Electronic card transactions by mean and propo...</td>\n      <td>Actual</td>\n      <td>Debit card usage as a proportion of total ECT ...</td>\n      <td>Proportion (%)</td>\n      <td>NaN</td>\n      <td>NaN</td>\n    </tr>\n    <tr>\n      <th>20121</th>\n      <td>ECTQ.S4AXP</td>\n      <td>2023.06</td>\n      <td>33.0</td>\n      <td>NaN</td>\n      <td>F</td>\n      <td>Percent</td>\n      <td>0</td>\n      <td>Electronic Card Transactions (ANZSIC06) - ECT</td>\n      <td>Electronic card transactions by mean and propo...</td>\n      <td>Actual</td>\n      <td>Debit card usage as a proportion of total ECT ...</td>\n      <td>Proportion (%)</td>\n      <td>NaN</td>\n      <td>NaN</td>\n    </tr>\n    <tr>\n      <th>20122</th>\n      <td>ECTQ.S4AXP</td>\n      <td>2023.09</td>\n      <td>33.2</td>\n      <td>NaN</td>\n      <td>F</td>\n      <td>Percent</td>\n      <td>0</td>\n      <td>Electronic Card Transactions (ANZSIC06) - ECT</td>\n      <td>Electronic card transactions by mean and propo...</td>\n      <td>Actual</td>\n      <td>Debit card usage as a proportion of total ECT ...</td>\n      <td>Proportion (%)</td>\n      <td>NaN</td>\n      <td>NaN</td>\n    </tr>\n    <tr>\n      <th>20123</th>\n      <td>ECTQ.S4AXP</td>\n      <td>2023.12</td>\n      <td>32.7</td>\n      <td>NaN</td>\n      <td>F</td>\n      <td>Percent</td>\n      <td>0</td>\n      <td>Electronic Card Transactions (ANZSIC06) - ECT</td>\n      <td>Electronic card transactions by mean and propo...</td>\n      <td>Actual</td>\n      <td>Debit card usage as a proportion of total ECT ...</td>\n      <td>Proportion (%)</td>\n      <td>NaN</td>\n      <td>NaN</td>\n    </tr>\n  </tbody>\n</table>\n<p>20124 rows × 14 columns</p>\n</div>"
     },
     "execution_count": 4,
     "metadata": {},
     "output_type": "execute_result"
    }
   ],
   "source": [
    "df_original = pd.read_csv('ect.csv')\n",
    "df_original"
   ],
   "metadata": {
    "collapsed": false,
    "ExecuteTime": {
     "end_time": "2024-02-11T15:58:39.059826Z",
     "start_time": "2024-02-11T15:58:39.011889900Z"
    }
   },
   "id": "d14218ca2bbf450e"
  },
  {
   "cell_type": "code",
   "execution_count": 9,
   "outputs": [
    {
     "name": "stdout",
     "output_type": "stream",
     "text": [
      "<class 'pandas.core.frame.DataFrame'>\n",
      "RangeIndex: 20124 entries, 0 to 20123\n",
      "Data columns (total 14 columns):\n",
      " #   Column            Non-Null Count  Dtype  \n",
      "---  ------            --------------  -----  \n",
      " 0   Series_reference  20124 non-null  object \n",
      " 1   Period            20124 non-null  float64\n",
      " 2   Data_value        18135 non-null  float64\n",
      " 3   Suppressed        868 non-null    object \n",
      " 4   STATUS            20124 non-null  object \n",
      " 5   UNITS             20124 non-null  object \n",
      " 6   Magnitude         20124 non-null  int64  \n",
      " 7   Subject           20124 non-null  object \n",
      " 8   Group             20124 non-null  object \n",
      " 9   Series_title_1    20124 non-null  object \n",
      " 10  Series_title_2    20124 non-null  object \n",
      " 11  Series_title_3    3950 non-null   object \n",
      " 12  Series_title_4    0 non-null      float64\n",
      " 13  Series_title_5    0 non-null      float64\n",
      "dtypes: float64(4), int64(1), object(9)\n",
      "memory usage: 2.1+ MB\n"
     ]
    }
   ],
   "source": [
    "df = df_original.copy()\n",
    "df.info()"
   ],
   "metadata": {
    "collapsed": false,
    "ExecuteTime": {
     "end_time": "2024-02-11T16:01:55.396027Z",
     "start_time": "2024-02-11T16:01:55.381958700Z"
    }
   },
   "id": "886aa5fd0b8abee8"
  },
  {
   "cell_type": "code",
   "execution_count": 10,
   "outputs": [
    {
     "data": {
      "text/plain": "                   Period  Data_value Suppressed STATUS    UNITS  Magnitude  \\\nSeries_reference                                                              \nECTA.S19A1        2001.03      2462.5        NaN      F  Dollars          6   \nECTA.S19A1        2002.03     17177.2        NaN      F  Dollars          6   \nECTA.S19A1        2003.03     22530.5        NaN      F  Dollars          6   \nECTA.S19A1        2004.03     28005.1        NaN      F  Dollars          6   \nECTA.S19A1        2005.03     30629.6        NaN      F  Dollars          6   \n...                   ...         ...        ...    ...      ...        ...   \nECTQ.S4AXP        2022.12        32.7        NaN      F  Percent          0   \nECTQ.S4AXP        2023.03        31.9        NaN      F  Percent          0   \nECTQ.S4AXP        2023.06        33.0        NaN      F  Percent          0   \nECTQ.S4AXP        2023.09        33.2        NaN      F  Percent          0   \nECTQ.S4AXP        2023.12        32.7        NaN      F  Percent          0   \n\n                                                        Subject  \\\nSeries_reference                                                  \nECTA.S19A1        Electronic Card Transactions (ANZSIC06) - ECT   \nECTA.S19A1        Electronic Card Transactions (ANZSIC06) - ECT   \nECTA.S19A1        Electronic Card Transactions (ANZSIC06) - ECT   \nECTA.S19A1        Electronic Card Transactions (ANZSIC06) - ECT   \nECTA.S19A1        Electronic Card Transactions (ANZSIC06) - ECT   \n...                                                         ...   \nECTQ.S4AXP        Electronic Card Transactions (ANZSIC06) - ECT   \nECTQ.S4AXP        Electronic Card Transactions (ANZSIC06) - ECT   \nECTQ.S4AXP        Electronic Card Transactions (ANZSIC06) - ECT   \nECTQ.S4AXP        Electronic Card Transactions (ANZSIC06) - ECT   \nECTQ.S4AXP        Electronic Card Transactions (ANZSIC06) - ECT   \n\n                                                              Group  \\\nSeries_reference                                                      \nECTA.S19A1        Total values - Electronic card transactions A/...   \nECTA.S19A1        Total values - Electronic card transactions A/...   \nECTA.S19A1        Total values - Electronic card transactions A/...   \nECTA.S19A1        Total values - Electronic card transactions A/...   \nECTA.S19A1        Total values - Electronic card transactions A/...   \n...                                                             ...   \nECTQ.S4AXP        Electronic card transactions by mean and propo...   \nECTQ.S4AXP        Electronic card transactions by mean and propo...   \nECTQ.S4AXP        Electronic card transactions by mean and propo...   \nECTQ.S4AXP        Electronic card transactions by mean and propo...   \nECTQ.S4AXP        Electronic card transactions by mean and propo...   \n\n                 Series_title_1  \\\nSeries_reference                  \nECTA.S19A1               Actual   \nECTA.S19A1               Actual   \nECTA.S19A1               Actual   \nECTA.S19A1               Actual   \nECTA.S19A1               Actual   \n...                         ...   \nECTQ.S4AXP               Actual   \nECTQ.S4AXP               Actual   \nECTQ.S4AXP               Actual   \nECTQ.S4AXP               Actual   \nECTQ.S4AXP               Actual   \n\n                                                     Series_title_2  \\\nSeries_reference                                                      \nECTA.S19A1                                     RTS total industries   \nECTA.S19A1                                     RTS total industries   \nECTA.S19A1                                     RTS total industries   \nECTA.S19A1                                     RTS total industries   \nECTA.S19A1                                     RTS total industries   \n...                                                             ...   \nECTQ.S4AXP        Debit card usage as a proportion of total ECT ...   \nECTQ.S4AXP        Debit card usage as a proportion of total ECT ...   \nECTQ.S4AXP        Debit card usage as a proportion of total ECT ...   \nECTQ.S4AXP        Debit card usage as a proportion of total ECT ...   \nECTQ.S4AXP        Debit card usage as a proportion of total ECT ...   \n\n                  Series_title_3  Series_title_4  Series_title_5  \nSeries_reference                                                  \nECTA.S19A1                   NaN             NaN             NaN  \nECTA.S19A1                   NaN             NaN             NaN  \nECTA.S19A1                   NaN             NaN             NaN  \nECTA.S19A1                   NaN             NaN             NaN  \nECTA.S19A1                   NaN             NaN             NaN  \n...                          ...             ...             ...  \nECTQ.S4AXP        Proportion (%)             NaN             NaN  \nECTQ.S4AXP        Proportion (%)             NaN             NaN  \nECTQ.S4AXP        Proportion (%)             NaN             NaN  \nECTQ.S4AXP        Proportion (%)             NaN             NaN  \nECTQ.S4AXP        Proportion (%)             NaN             NaN  \n\n[20124 rows x 13 columns]",
      "text/html": "<div>\n<style scoped>\n    .dataframe tbody tr th:only-of-type {\n        vertical-align: middle;\n    }\n\n    .dataframe tbody tr th {\n        vertical-align: top;\n    }\n\n    .dataframe thead th {\n        text-align: right;\n    }\n</style>\n<table border=\"1\" class=\"dataframe\">\n  <thead>\n    <tr style=\"text-align: right;\">\n      <th></th>\n      <th>Period</th>\n      <th>Data_value</th>\n      <th>Suppressed</th>\n      <th>STATUS</th>\n      <th>UNITS</th>\n      <th>Magnitude</th>\n      <th>Subject</th>\n      <th>Group</th>\n      <th>Series_title_1</th>\n      <th>Series_title_2</th>\n      <th>Series_title_3</th>\n      <th>Series_title_4</th>\n      <th>Series_title_5</th>\n    </tr>\n    <tr>\n      <th>Series_reference</th>\n      <th></th>\n      <th></th>\n      <th></th>\n      <th></th>\n      <th></th>\n      <th></th>\n      <th></th>\n      <th></th>\n      <th></th>\n      <th></th>\n      <th></th>\n      <th></th>\n      <th></th>\n    </tr>\n  </thead>\n  <tbody>\n    <tr>\n      <th>ECTA.S19A1</th>\n      <td>2001.03</td>\n      <td>2462.5</td>\n      <td>NaN</td>\n      <td>F</td>\n      <td>Dollars</td>\n      <td>6</td>\n      <td>Electronic Card Transactions (ANZSIC06) - ECT</td>\n      <td>Total values - Electronic card transactions A/...</td>\n      <td>Actual</td>\n      <td>RTS total industries</td>\n      <td>NaN</td>\n      <td>NaN</td>\n      <td>NaN</td>\n    </tr>\n    <tr>\n      <th>ECTA.S19A1</th>\n      <td>2002.03</td>\n      <td>17177.2</td>\n      <td>NaN</td>\n      <td>F</td>\n      <td>Dollars</td>\n      <td>6</td>\n      <td>Electronic Card Transactions (ANZSIC06) - ECT</td>\n      <td>Total values - Electronic card transactions A/...</td>\n      <td>Actual</td>\n      <td>RTS total industries</td>\n      <td>NaN</td>\n      <td>NaN</td>\n      <td>NaN</td>\n    </tr>\n    <tr>\n      <th>ECTA.S19A1</th>\n      <td>2003.03</td>\n      <td>22530.5</td>\n      <td>NaN</td>\n      <td>F</td>\n      <td>Dollars</td>\n      <td>6</td>\n      <td>Electronic Card Transactions (ANZSIC06) - ECT</td>\n      <td>Total values - Electronic card transactions A/...</td>\n      <td>Actual</td>\n      <td>RTS total industries</td>\n      <td>NaN</td>\n      <td>NaN</td>\n      <td>NaN</td>\n    </tr>\n    <tr>\n      <th>ECTA.S19A1</th>\n      <td>2004.03</td>\n      <td>28005.1</td>\n      <td>NaN</td>\n      <td>F</td>\n      <td>Dollars</td>\n      <td>6</td>\n      <td>Electronic Card Transactions (ANZSIC06) - ECT</td>\n      <td>Total values - Electronic card transactions A/...</td>\n      <td>Actual</td>\n      <td>RTS total industries</td>\n      <td>NaN</td>\n      <td>NaN</td>\n      <td>NaN</td>\n    </tr>\n    <tr>\n      <th>ECTA.S19A1</th>\n      <td>2005.03</td>\n      <td>30629.6</td>\n      <td>NaN</td>\n      <td>F</td>\n      <td>Dollars</td>\n      <td>6</td>\n      <td>Electronic Card Transactions (ANZSIC06) - ECT</td>\n      <td>Total values - Electronic card transactions A/...</td>\n      <td>Actual</td>\n      <td>RTS total industries</td>\n      <td>NaN</td>\n      <td>NaN</td>\n      <td>NaN</td>\n    </tr>\n    <tr>\n      <th>...</th>\n      <td>...</td>\n      <td>...</td>\n      <td>...</td>\n      <td>...</td>\n      <td>...</td>\n      <td>...</td>\n      <td>...</td>\n      <td>...</td>\n      <td>...</td>\n      <td>...</td>\n      <td>...</td>\n      <td>...</td>\n      <td>...</td>\n    </tr>\n    <tr>\n      <th>ECTQ.S4AXP</th>\n      <td>2022.12</td>\n      <td>32.7</td>\n      <td>NaN</td>\n      <td>F</td>\n      <td>Percent</td>\n      <td>0</td>\n      <td>Electronic Card Transactions (ANZSIC06) - ECT</td>\n      <td>Electronic card transactions by mean and propo...</td>\n      <td>Actual</td>\n      <td>Debit card usage as a proportion of total ECT ...</td>\n      <td>Proportion (%)</td>\n      <td>NaN</td>\n      <td>NaN</td>\n    </tr>\n    <tr>\n      <th>ECTQ.S4AXP</th>\n      <td>2023.03</td>\n      <td>31.9</td>\n      <td>NaN</td>\n      <td>F</td>\n      <td>Percent</td>\n      <td>0</td>\n      <td>Electronic Card Transactions (ANZSIC06) - ECT</td>\n      <td>Electronic card transactions by mean and propo...</td>\n      <td>Actual</td>\n      <td>Debit card usage as a proportion of total ECT ...</td>\n      <td>Proportion (%)</td>\n      <td>NaN</td>\n      <td>NaN</td>\n    </tr>\n    <tr>\n      <th>ECTQ.S4AXP</th>\n      <td>2023.06</td>\n      <td>33.0</td>\n      <td>NaN</td>\n      <td>F</td>\n      <td>Percent</td>\n      <td>0</td>\n      <td>Electronic Card Transactions (ANZSIC06) - ECT</td>\n      <td>Electronic card transactions by mean and propo...</td>\n      <td>Actual</td>\n      <td>Debit card usage as a proportion of total ECT ...</td>\n      <td>Proportion (%)</td>\n      <td>NaN</td>\n      <td>NaN</td>\n    </tr>\n    <tr>\n      <th>ECTQ.S4AXP</th>\n      <td>2023.09</td>\n      <td>33.2</td>\n      <td>NaN</td>\n      <td>F</td>\n      <td>Percent</td>\n      <td>0</td>\n      <td>Electronic Card Transactions (ANZSIC06) - ECT</td>\n      <td>Electronic card transactions by mean and propo...</td>\n      <td>Actual</td>\n      <td>Debit card usage as a proportion of total ECT ...</td>\n      <td>Proportion (%)</td>\n      <td>NaN</td>\n      <td>NaN</td>\n    </tr>\n    <tr>\n      <th>ECTQ.S4AXP</th>\n      <td>2023.12</td>\n      <td>32.7</td>\n      <td>NaN</td>\n      <td>F</td>\n      <td>Percent</td>\n      <td>0</td>\n      <td>Electronic Card Transactions (ANZSIC06) - ECT</td>\n      <td>Electronic card transactions by mean and propo...</td>\n      <td>Actual</td>\n      <td>Debit card usage as a proportion of total ECT ...</td>\n      <td>Proportion (%)</td>\n      <td>NaN</td>\n      <td>NaN</td>\n    </tr>\n  </tbody>\n</table>\n<p>20124 rows × 13 columns</p>\n</div>"
     },
     "execution_count": 10,
     "metadata": {},
     "output_type": "execute_result"
    }
   ],
   "source": [
    "df = df.set_index('Series_reference')\n",
    "df"
   ],
   "metadata": {
    "collapsed": false,
    "ExecuteTime": {
     "end_time": "2024-02-11T16:05:35.637278800Z",
     "start_time": "2024-02-11T16:05:35.621859700Z"
    }
   },
   "id": "92bb8fa9f9e3d401"
  },
  {
   "cell_type": "code",
   "execution_count": 19,
   "outputs": [
    {
     "data": {
      "text/plain": "Series_reference\nECTA.S19A1    False\nECTA.S19A1    False\nECTA.S19A1    False\nECTA.S19A1    False\nECTA.S19A1    False\n              ...  \nECTQ.S4AXP    False\nECTQ.S4AXP    False\nECTQ.S4AXP    False\nECTQ.S4AXP    False\nECTQ.S4AXP    False\nName: Suppressed, Length: 20124, dtype: bool"
     },
     "execution_count": 19,
     "metadata": {},
     "output_type": "execute_result"
    }
   ],
   "source": [
    "suppressed_trans = df['Suppressed'] == 'Y'\n",
    "suppressed_trans"
   ],
   "metadata": {
    "collapsed": false,
    "ExecuteTime": {
     "end_time": "2024-02-11T17:10:51.335519600Z",
     "start_time": "2024-02-11T17:10:51.321516Z"
    }
   },
   "id": "b43000931461f964"
  },
  {
   "cell_type": "code",
   "execution_count": 24,
   "outputs": [
    {
     "data": {
      "text/plain": "Suppressed\nY    868\nName: count, dtype: int64"
     },
     "execution_count": 24,
     "metadata": {},
     "output_type": "execute_result"
    }
   ],
   "source": [
    "df.Suppressed.value_counts()"
   ],
   "metadata": {
    "collapsed": false,
    "ExecuteTime": {
     "end_time": "2024-02-11T17:20:28.040141600Z",
     "start_time": "2024-02-11T17:20:28.006507100Z"
    }
   },
   "id": "a450568b98e1875d"
  },
  {
   "cell_type": "code",
   "execution_count": 26,
   "outputs": [
    {
     "data": {
      "text/plain": "                   Period  Data_value Suppressed STATUS    UNITS  Magnitude  \\\nSeries_reference                                                              \nECTA.S19A1        2001.03      2462.5        NaN      F  Dollars          6   \nECTA.S19A1        2002.03     17177.2        NaN      F  Dollars          6   \nECTA.S19A1        2003.03     22530.5        NaN      F  Dollars          6   \nECTA.S19A1        2004.03     28005.1        NaN      F  Dollars          6   \nECTA.S19A1        2005.03     30629.6        NaN      F  Dollars          6   \n...                   ...         ...        ...    ...      ...        ...   \nECTQ.S4AXP        2022.12        32.7        NaN      F  Percent          0   \nECTQ.S4AXP        2023.03        31.9        NaN      F  Percent          0   \nECTQ.S4AXP        2023.06        33.0        NaN      F  Percent          0   \nECTQ.S4AXP        2023.09        33.2        NaN      F  Percent          0   \nECTQ.S4AXP        2023.12        32.7        NaN      F  Percent          0   \n\n                                                        Subject  \\\nSeries_reference                                                  \nECTA.S19A1        Electronic Card Transactions (ANZSIC06) - ECT   \nECTA.S19A1        Electronic Card Transactions (ANZSIC06) - ECT   \nECTA.S19A1        Electronic Card Transactions (ANZSIC06) - ECT   \nECTA.S19A1        Electronic Card Transactions (ANZSIC06) - ECT   \nECTA.S19A1        Electronic Card Transactions (ANZSIC06) - ECT   \n...                                                         ...   \nECTQ.S4AXP        Electronic Card Transactions (ANZSIC06) - ECT   \nECTQ.S4AXP        Electronic Card Transactions (ANZSIC06) - ECT   \nECTQ.S4AXP        Electronic Card Transactions (ANZSIC06) - ECT   \nECTQ.S4AXP        Electronic Card Transactions (ANZSIC06) - ECT   \nECTQ.S4AXP        Electronic Card Transactions (ANZSIC06) - ECT   \n\n                                                              Group  \\\nSeries_reference                                                      \nECTA.S19A1        Total values - Electronic card transactions A/...   \nECTA.S19A1        Total values - Electronic card transactions A/...   \nECTA.S19A1        Total values - Electronic card transactions A/...   \nECTA.S19A1        Total values - Electronic card transactions A/...   \nECTA.S19A1        Total values - Electronic card transactions A/...   \n...                                                             ...   \nECTQ.S4AXP        Electronic card transactions by mean and propo...   \nECTQ.S4AXP        Electronic card transactions by mean and propo...   \nECTQ.S4AXP        Electronic card transactions by mean and propo...   \nECTQ.S4AXP        Electronic card transactions by mean and propo...   \nECTQ.S4AXP        Electronic card transactions by mean and propo...   \n\n                 Series_title_1  \\\nSeries_reference                  \nECTA.S19A1               Actual   \nECTA.S19A1               Actual   \nECTA.S19A1               Actual   \nECTA.S19A1               Actual   \nECTA.S19A1               Actual   \n...                         ...   \nECTQ.S4AXP               Actual   \nECTQ.S4AXP               Actual   \nECTQ.S4AXP               Actual   \nECTQ.S4AXP               Actual   \nECTQ.S4AXP               Actual   \n\n                                                     Series_title_2  \\\nSeries_reference                                                      \nECTA.S19A1                                     RTS total industries   \nECTA.S19A1                                     RTS total industries   \nECTA.S19A1                                     RTS total industries   \nECTA.S19A1                                     RTS total industries   \nECTA.S19A1                                     RTS total industries   \n...                                                             ...   \nECTQ.S4AXP        Debit card usage as a proportion of total ECT ...   \nECTQ.S4AXP        Debit card usage as a proportion of total ECT ...   \nECTQ.S4AXP        Debit card usage as a proportion of total ECT ...   \nECTQ.S4AXP        Debit card usage as a proportion of total ECT ...   \nECTQ.S4AXP        Debit card usage as a proportion of total ECT ...   \n\n                  Series_title_3  Series_title_4  Series_title_5  \nSeries_reference                                                  \nECTA.S19A1                   NaN             NaN             NaN  \nECTA.S19A1                   NaN             NaN             NaN  \nECTA.S19A1                   NaN             NaN             NaN  \nECTA.S19A1                   NaN             NaN             NaN  \nECTA.S19A1                   NaN             NaN             NaN  \n...                          ...             ...             ...  \nECTQ.S4AXP        Proportion (%)             NaN             NaN  \nECTQ.S4AXP        Proportion (%)             NaN             NaN  \nECTQ.S4AXP        Proportion (%)             NaN             NaN  \nECTQ.S4AXP        Proportion (%)             NaN             NaN  \nECTQ.S4AXP        Proportion (%)             NaN             NaN  \n\n[19256 rows x 13 columns]",
      "text/html": "<div>\n<style scoped>\n    .dataframe tbody tr th:only-of-type {\n        vertical-align: middle;\n    }\n\n    .dataframe tbody tr th {\n        vertical-align: top;\n    }\n\n    .dataframe thead th {\n        text-align: right;\n    }\n</style>\n<table border=\"1\" class=\"dataframe\">\n  <thead>\n    <tr style=\"text-align: right;\">\n      <th></th>\n      <th>Period</th>\n      <th>Data_value</th>\n      <th>Suppressed</th>\n      <th>STATUS</th>\n      <th>UNITS</th>\n      <th>Magnitude</th>\n      <th>Subject</th>\n      <th>Group</th>\n      <th>Series_title_1</th>\n      <th>Series_title_2</th>\n      <th>Series_title_3</th>\n      <th>Series_title_4</th>\n      <th>Series_title_5</th>\n    </tr>\n    <tr>\n      <th>Series_reference</th>\n      <th></th>\n      <th></th>\n      <th></th>\n      <th></th>\n      <th></th>\n      <th></th>\n      <th></th>\n      <th></th>\n      <th></th>\n      <th></th>\n      <th></th>\n      <th></th>\n      <th></th>\n    </tr>\n  </thead>\n  <tbody>\n    <tr>\n      <th>ECTA.S19A1</th>\n      <td>2001.03</td>\n      <td>2462.5</td>\n      <td>NaN</td>\n      <td>F</td>\n      <td>Dollars</td>\n      <td>6</td>\n      <td>Electronic Card Transactions (ANZSIC06) - ECT</td>\n      <td>Total values - Electronic card transactions A/...</td>\n      <td>Actual</td>\n      <td>RTS total industries</td>\n      <td>NaN</td>\n      <td>NaN</td>\n      <td>NaN</td>\n    </tr>\n    <tr>\n      <th>ECTA.S19A1</th>\n      <td>2002.03</td>\n      <td>17177.2</td>\n      <td>NaN</td>\n      <td>F</td>\n      <td>Dollars</td>\n      <td>6</td>\n      <td>Electronic Card Transactions (ANZSIC06) - ECT</td>\n      <td>Total values - Electronic card transactions A/...</td>\n      <td>Actual</td>\n      <td>RTS total industries</td>\n      <td>NaN</td>\n      <td>NaN</td>\n      <td>NaN</td>\n    </tr>\n    <tr>\n      <th>ECTA.S19A1</th>\n      <td>2003.03</td>\n      <td>22530.5</td>\n      <td>NaN</td>\n      <td>F</td>\n      <td>Dollars</td>\n      <td>6</td>\n      <td>Electronic Card Transactions (ANZSIC06) - ECT</td>\n      <td>Total values - Electronic card transactions A/...</td>\n      <td>Actual</td>\n      <td>RTS total industries</td>\n      <td>NaN</td>\n      <td>NaN</td>\n      <td>NaN</td>\n    </tr>\n    <tr>\n      <th>ECTA.S19A1</th>\n      <td>2004.03</td>\n      <td>28005.1</td>\n      <td>NaN</td>\n      <td>F</td>\n      <td>Dollars</td>\n      <td>6</td>\n      <td>Electronic Card Transactions (ANZSIC06) - ECT</td>\n      <td>Total values - Electronic card transactions A/...</td>\n      <td>Actual</td>\n      <td>RTS total industries</td>\n      <td>NaN</td>\n      <td>NaN</td>\n      <td>NaN</td>\n    </tr>\n    <tr>\n      <th>ECTA.S19A1</th>\n      <td>2005.03</td>\n      <td>30629.6</td>\n      <td>NaN</td>\n      <td>F</td>\n      <td>Dollars</td>\n      <td>6</td>\n      <td>Electronic Card Transactions (ANZSIC06) - ECT</td>\n      <td>Total values - Electronic card transactions A/...</td>\n      <td>Actual</td>\n      <td>RTS total industries</td>\n      <td>NaN</td>\n      <td>NaN</td>\n      <td>NaN</td>\n    </tr>\n    <tr>\n      <th>...</th>\n      <td>...</td>\n      <td>...</td>\n      <td>...</td>\n      <td>...</td>\n      <td>...</td>\n      <td>...</td>\n      <td>...</td>\n      <td>...</td>\n      <td>...</td>\n      <td>...</td>\n      <td>...</td>\n      <td>...</td>\n      <td>...</td>\n    </tr>\n    <tr>\n      <th>ECTQ.S4AXP</th>\n      <td>2022.12</td>\n      <td>32.7</td>\n      <td>NaN</td>\n      <td>F</td>\n      <td>Percent</td>\n      <td>0</td>\n      <td>Electronic Card Transactions (ANZSIC06) - ECT</td>\n      <td>Electronic card transactions by mean and propo...</td>\n      <td>Actual</td>\n      <td>Debit card usage as a proportion of total ECT ...</td>\n      <td>Proportion (%)</td>\n      <td>NaN</td>\n      <td>NaN</td>\n    </tr>\n    <tr>\n      <th>ECTQ.S4AXP</th>\n      <td>2023.03</td>\n      <td>31.9</td>\n      <td>NaN</td>\n      <td>F</td>\n      <td>Percent</td>\n      <td>0</td>\n      <td>Electronic Card Transactions (ANZSIC06) - ECT</td>\n      <td>Electronic card transactions by mean and propo...</td>\n      <td>Actual</td>\n      <td>Debit card usage as a proportion of total ECT ...</td>\n      <td>Proportion (%)</td>\n      <td>NaN</td>\n      <td>NaN</td>\n    </tr>\n    <tr>\n      <th>ECTQ.S4AXP</th>\n      <td>2023.06</td>\n      <td>33.0</td>\n      <td>NaN</td>\n      <td>F</td>\n      <td>Percent</td>\n      <td>0</td>\n      <td>Electronic Card Transactions (ANZSIC06) - ECT</td>\n      <td>Electronic card transactions by mean and propo...</td>\n      <td>Actual</td>\n      <td>Debit card usage as a proportion of total ECT ...</td>\n      <td>Proportion (%)</td>\n      <td>NaN</td>\n      <td>NaN</td>\n    </tr>\n    <tr>\n      <th>ECTQ.S4AXP</th>\n      <td>2023.09</td>\n      <td>33.2</td>\n      <td>NaN</td>\n      <td>F</td>\n      <td>Percent</td>\n      <td>0</td>\n      <td>Electronic Card Transactions (ANZSIC06) - ECT</td>\n      <td>Electronic card transactions by mean and propo...</td>\n      <td>Actual</td>\n      <td>Debit card usage as a proportion of total ECT ...</td>\n      <td>Proportion (%)</td>\n      <td>NaN</td>\n      <td>NaN</td>\n    </tr>\n    <tr>\n      <th>ECTQ.S4AXP</th>\n      <td>2023.12</td>\n      <td>32.7</td>\n      <td>NaN</td>\n      <td>F</td>\n      <td>Percent</td>\n      <td>0</td>\n      <td>Electronic Card Transactions (ANZSIC06) - ECT</td>\n      <td>Electronic card transactions by mean and propo...</td>\n      <td>Actual</td>\n      <td>Debit card usage as a proportion of total ECT ...</td>\n      <td>Proportion (%)</td>\n      <td>NaN</td>\n      <td>NaN</td>\n    </tr>\n  </tbody>\n</table>\n<p>19256 rows × 13 columns</p>\n</div>"
     },
     "execution_count": 26,
     "metadata": {},
     "output_type": "execute_result"
    }
   ],
   "source": [
    "df = df[df.Suppressed != 'Y']\n",
    "df"
   ],
   "metadata": {
    "collapsed": false,
    "ExecuteTime": {
     "end_time": "2024-02-11T17:20:47.344156800Z",
     "start_time": "2024-02-11T17:20:47.273182900Z"
    }
   },
   "id": "a77570f64ac999b9"
  },
  {
   "cell_type": "code",
   "execution_count": 27,
   "outputs": [
    {
     "data": {
      "text/plain": "                   Period  Data_value STATUS    UNITS  Magnitude  \\\nSeries_reference                                                   \nECTA.S19A1        2001.03      2462.5      F  Dollars          6   \nECTA.S19A1        2002.03     17177.2      F  Dollars          6   \nECTA.S19A1        2003.03     22530.5      F  Dollars          6   \nECTA.S19A1        2004.03     28005.1      F  Dollars          6   \nECTA.S19A1        2005.03     30629.6      F  Dollars          6   \n...                   ...         ...    ...      ...        ...   \nECTQ.S4AXP        2022.12        32.7      F  Percent          0   \nECTQ.S4AXP        2023.03        31.9      F  Percent          0   \nECTQ.S4AXP        2023.06        33.0      F  Percent          0   \nECTQ.S4AXP        2023.09        33.2      F  Percent          0   \nECTQ.S4AXP        2023.12        32.7      F  Percent          0   \n\n                                                        Subject  \\\nSeries_reference                                                  \nECTA.S19A1        Electronic Card Transactions (ANZSIC06) - ECT   \nECTA.S19A1        Electronic Card Transactions (ANZSIC06) - ECT   \nECTA.S19A1        Electronic Card Transactions (ANZSIC06) - ECT   \nECTA.S19A1        Electronic Card Transactions (ANZSIC06) - ECT   \nECTA.S19A1        Electronic Card Transactions (ANZSIC06) - ECT   \n...                                                         ...   \nECTQ.S4AXP        Electronic Card Transactions (ANZSIC06) - ECT   \nECTQ.S4AXP        Electronic Card Transactions (ANZSIC06) - ECT   \nECTQ.S4AXP        Electronic Card Transactions (ANZSIC06) - ECT   \nECTQ.S4AXP        Electronic Card Transactions (ANZSIC06) - ECT   \nECTQ.S4AXP        Electronic Card Transactions (ANZSIC06) - ECT   \n\n                                                              Group  \\\nSeries_reference                                                      \nECTA.S19A1        Total values - Electronic card transactions A/...   \nECTA.S19A1        Total values - Electronic card transactions A/...   \nECTA.S19A1        Total values - Electronic card transactions A/...   \nECTA.S19A1        Total values - Electronic card transactions A/...   \nECTA.S19A1        Total values - Electronic card transactions A/...   \n...                                                             ...   \nECTQ.S4AXP        Electronic card transactions by mean and propo...   \nECTQ.S4AXP        Electronic card transactions by mean and propo...   \nECTQ.S4AXP        Electronic card transactions by mean and propo...   \nECTQ.S4AXP        Electronic card transactions by mean and propo...   \nECTQ.S4AXP        Electronic card transactions by mean and propo...   \n\n                 Series_title_1  \\\nSeries_reference                  \nECTA.S19A1               Actual   \nECTA.S19A1               Actual   \nECTA.S19A1               Actual   \nECTA.S19A1               Actual   \nECTA.S19A1               Actual   \n...                         ...   \nECTQ.S4AXP               Actual   \nECTQ.S4AXP               Actual   \nECTQ.S4AXP               Actual   \nECTQ.S4AXP               Actual   \nECTQ.S4AXP               Actual   \n\n                                                     Series_title_2  \\\nSeries_reference                                                      \nECTA.S19A1                                     RTS total industries   \nECTA.S19A1                                     RTS total industries   \nECTA.S19A1                                     RTS total industries   \nECTA.S19A1                                     RTS total industries   \nECTA.S19A1                                     RTS total industries   \n...                                                             ...   \nECTQ.S4AXP        Debit card usage as a proportion of total ECT ...   \nECTQ.S4AXP        Debit card usage as a proportion of total ECT ...   \nECTQ.S4AXP        Debit card usage as a proportion of total ECT ...   \nECTQ.S4AXP        Debit card usage as a proportion of total ECT ...   \nECTQ.S4AXP        Debit card usage as a proportion of total ECT ...   \n\n                  Series_title_3  Series_title_4  Series_title_5  \nSeries_reference                                                  \nECTA.S19A1                   NaN             NaN             NaN  \nECTA.S19A1                   NaN             NaN             NaN  \nECTA.S19A1                   NaN             NaN             NaN  \nECTA.S19A1                   NaN             NaN             NaN  \nECTA.S19A1                   NaN             NaN             NaN  \n...                          ...             ...             ...  \nECTQ.S4AXP        Proportion (%)             NaN             NaN  \nECTQ.S4AXP        Proportion (%)             NaN             NaN  \nECTQ.S4AXP        Proportion (%)             NaN             NaN  \nECTQ.S4AXP        Proportion (%)             NaN             NaN  \nECTQ.S4AXP        Proportion (%)             NaN             NaN  \n\n[19256 rows x 12 columns]",
      "text/html": "<div>\n<style scoped>\n    .dataframe tbody tr th:only-of-type {\n        vertical-align: middle;\n    }\n\n    .dataframe tbody tr th {\n        vertical-align: top;\n    }\n\n    .dataframe thead th {\n        text-align: right;\n    }\n</style>\n<table border=\"1\" class=\"dataframe\">\n  <thead>\n    <tr style=\"text-align: right;\">\n      <th></th>\n      <th>Period</th>\n      <th>Data_value</th>\n      <th>STATUS</th>\n      <th>UNITS</th>\n      <th>Magnitude</th>\n      <th>Subject</th>\n      <th>Group</th>\n      <th>Series_title_1</th>\n      <th>Series_title_2</th>\n      <th>Series_title_3</th>\n      <th>Series_title_4</th>\n      <th>Series_title_5</th>\n    </tr>\n    <tr>\n      <th>Series_reference</th>\n      <th></th>\n      <th></th>\n      <th></th>\n      <th></th>\n      <th></th>\n      <th></th>\n      <th></th>\n      <th></th>\n      <th></th>\n      <th></th>\n      <th></th>\n      <th></th>\n    </tr>\n  </thead>\n  <tbody>\n    <tr>\n      <th>ECTA.S19A1</th>\n      <td>2001.03</td>\n      <td>2462.5</td>\n      <td>F</td>\n      <td>Dollars</td>\n      <td>6</td>\n      <td>Electronic Card Transactions (ANZSIC06) - ECT</td>\n      <td>Total values - Electronic card transactions A/...</td>\n      <td>Actual</td>\n      <td>RTS total industries</td>\n      <td>NaN</td>\n      <td>NaN</td>\n      <td>NaN</td>\n    </tr>\n    <tr>\n      <th>ECTA.S19A1</th>\n      <td>2002.03</td>\n      <td>17177.2</td>\n      <td>F</td>\n      <td>Dollars</td>\n      <td>6</td>\n      <td>Electronic Card Transactions (ANZSIC06) - ECT</td>\n      <td>Total values - Electronic card transactions A/...</td>\n      <td>Actual</td>\n      <td>RTS total industries</td>\n      <td>NaN</td>\n      <td>NaN</td>\n      <td>NaN</td>\n    </tr>\n    <tr>\n      <th>ECTA.S19A1</th>\n      <td>2003.03</td>\n      <td>22530.5</td>\n      <td>F</td>\n      <td>Dollars</td>\n      <td>6</td>\n      <td>Electronic Card Transactions (ANZSIC06) - ECT</td>\n      <td>Total values - Electronic card transactions A/...</td>\n      <td>Actual</td>\n      <td>RTS total industries</td>\n      <td>NaN</td>\n      <td>NaN</td>\n      <td>NaN</td>\n    </tr>\n    <tr>\n      <th>ECTA.S19A1</th>\n      <td>2004.03</td>\n      <td>28005.1</td>\n      <td>F</td>\n      <td>Dollars</td>\n      <td>6</td>\n      <td>Electronic Card Transactions (ANZSIC06) - ECT</td>\n      <td>Total values - Electronic card transactions A/...</td>\n      <td>Actual</td>\n      <td>RTS total industries</td>\n      <td>NaN</td>\n      <td>NaN</td>\n      <td>NaN</td>\n    </tr>\n    <tr>\n      <th>ECTA.S19A1</th>\n      <td>2005.03</td>\n      <td>30629.6</td>\n      <td>F</td>\n      <td>Dollars</td>\n      <td>6</td>\n      <td>Electronic Card Transactions (ANZSIC06) - ECT</td>\n      <td>Total values - Electronic card transactions A/...</td>\n      <td>Actual</td>\n      <td>RTS total industries</td>\n      <td>NaN</td>\n      <td>NaN</td>\n      <td>NaN</td>\n    </tr>\n    <tr>\n      <th>...</th>\n      <td>...</td>\n      <td>...</td>\n      <td>...</td>\n      <td>...</td>\n      <td>...</td>\n      <td>...</td>\n      <td>...</td>\n      <td>...</td>\n      <td>...</td>\n      <td>...</td>\n      <td>...</td>\n      <td>...</td>\n    </tr>\n    <tr>\n      <th>ECTQ.S4AXP</th>\n      <td>2022.12</td>\n      <td>32.7</td>\n      <td>F</td>\n      <td>Percent</td>\n      <td>0</td>\n      <td>Electronic Card Transactions (ANZSIC06) - ECT</td>\n      <td>Electronic card transactions by mean and propo...</td>\n      <td>Actual</td>\n      <td>Debit card usage as a proportion of total ECT ...</td>\n      <td>Proportion (%)</td>\n      <td>NaN</td>\n      <td>NaN</td>\n    </tr>\n    <tr>\n      <th>ECTQ.S4AXP</th>\n      <td>2023.03</td>\n      <td>31.9</td>\n      <td>F</td>\n      <td>Percent</td>\n      <td>0</td>\n      <td>Electronic Card Transactions (ANZSIC06) - ECT</td>\n      <td>Electronic card transactions by mean and propo...</td>\n      <td>Actual</td>\n      <td>Debit card usage as a proportion of total ECT ...</td>\n      <td>Proportion (%)</td>\n      <td>NaN</td>\n      <td>NaN</td>\n    </tr>\n    <tr>\n      <th>ECTQ.S4AXP</th>\n      <td>2023.06</td>\n      <td>33.0</td>\n      <td>F</td>\n      <td>Percent</td>\n      <td>0</td>\n      <td>Electronic Card Transactions (ANZSIC06) - ECT</td>\n      <td>Electronic card transactions by mean and propo...</td>\n      <td>Actual</td>\n      <td>Debit card usage as a proportion of total ECT ...</td>\n      <td>Proportion (%)</td>\n      <td>NaN</td>\n      <td>NaN</td>\n    </tr>\n    <tr>\n      <th>ECTQ.S4AXP</th>\n      <td>2023.09</td>\n      <td>33.2</td>\n      <td>F</td>\n      <td>Percent</td>\n      <td>0</td>\n      <td>Electronic Card Transactions (ANZSIC06) - ECT</td>\n      <td>Electronic card transactions by mean and propo...</td>\n      <td>Actual</td>\n      <td>Debit card usage as a proportion of total ECT ...</td>\n      <td>Proportion (%)</td>\n      <td>NaN</td>\n      <td>NaN</td>\n    </tr>\n    <tr>\n      <th>ECTQ.S4AXP</th>\n      <td>2023.12</td>\n      <td>32.7</td>\n      <td>F</td>\n      <td>Percent</td>\n      <td>0</td>\n      <td>Electronic Card Transactions (ANZSIC06) - ECT</td>\n      <td>Electronic card transactions by mean and propo...</td>\n      <td>Actual</td>\n      <td>Debit card usage as a proportion of total ECT ...</td>\n      <td>Proportion (%)</td>\n      <td>NaN</td>\n      <td>NaN</td>\n    </tr>\n  </tbody>\n</table>\n<p>19256 rows × 12 columns</p>\n</div>"
     },
     "execution_count": 27,
     "metadata": {},
     "output_type": "execute_result"
    }
   ],
   "source": [
    "df = df.drop(columns=['Suppressed'])\n",
    "df"
   ],
   "metadata": {
    "collapsed": false,
    "ExecuteTime": {
     "end_time": "2024-02-11T17:21:27.802979600Z",
     "start_time": "2024-02-11T17:21:27.769696700Z"
    }
   },
   "id": "885cc1799c690dea"
  },
  {
   "cell_type": "code",
   "execution_count": 29,
   "outputs": [
    {
     "data": {
      "text/plain": "                   period  data_value status    units  magnitude  \\\nSeries_reference                                                   \nECTA.S19A1        2001.03      2462.5      F  Dollars          6   \nECTA.S19A1        2002.03     17177.2      F  Dollars          6   \nECTA.S19A1        2003.03     22530.5      F  Dollars          6   \nECTA.S19A1        2004.03     28005.1      F  Dollars          6   \nECTA.S19A1        2005.03     30629.6      F  Dollars          6   \n...                   ...         ...    ...      ...        ...   \nECTQ.S4AXP        2022.12        32.7      F  Percent          0   \nECTQ.S4AXP        2023.03        31.9      F  Percent          0   \nECTQ.S4AXP        2023.06        33.0      F  Percent          0   \nECTQ.S4AXP        2023.09        33.2      F  Percent          0   \nECTQ.S4AXP        2023.12        32.7      F  Percent          0   \n\n                                                        subject  \\\nSeries_reference                                                  \nECTA.S19A1        Electronic Card Transactions (ANZSIC06) - ECT   \nECTA.S19A1        Electronic Card Transactions (ANZSIC06) - ECT   \nECTA.S19A1        Electronic Card Transactions (ANZSIC06) - ECT   \nECTA.S19A1        Electronic Card Transactions (ANZSIC06) - ECT   \nECTA.S19A1        Electronic Card Transactions (ANZSIC06) - ECT   \n...                                                         ...   \nECTQ.S4AXP        Electronic Card Transactions (ANZSIC06) - ECT   \nECTQ.S4AXP        Electronic Card Transactions (ANZSIC06) - ECT   \nECTQ.S4AXP        Electronic Card Transactions (ANZSIC06) - ECT   \nECTQ.S4AXP        Electronic Card Transactions (ANZSIC06) - ECT   \nECTQ.S4AXP        Electronic Card Transactions (ANZSIC06) - ECT   \n\n                                                              group  \\\nSeries_reference                                                      \nECTA.S19A1        Total values - Electronic card transactions A/...   \nECTA.S19A1        Total values - Electronic card transactions A/...   \nECTA.S19A1        Total values - Electronic card transactions A/...   \nECTA.S19A1        Total values - Electronic card transactions A/...   \nECTA.S19A1        Total values - Electronic card transactions A/...   \n...                                                             ...   \nECTQ.S4AXP        Electronic card transactions by mean and propo...   \nECTQ.S4AXP        Electronic card transactions by mean and propo...   \nECTQ.S4AXP        Electronic card transactions by mean and propo...   \nECTQ.S4AXP        Electronic card transactions by mean and propo...   \nECTQ.S4AXP        Electronic card transactions by mean and propo...   \n\n                 series_title_1  \\\nSeries_reference                  \nECTA.S19A1               Actual   \nECTA.S19A1               Actual   \nECTA.S19A1               Actual   \nECTA.S19A1               Actual   \nECTA.S19A1               Actual   \n...                         ...   \nECTQ.S4AXP               Actual   \nECTQ.S4AXP               Actual   \nECTQ.S4AXP               Actual   \nECTQ.S4AXP               Actual   \nECTQ.S4AXP               Actual   \n\n                                                     series_title_2  \\\nSeries_reference                                                      \nECTA.S19A1                                     RTS total industries   \nECTA.S19A1                                     RTS total industries   \nECTA.S19A1                                     RTS total industries   \nECTA.S19A1                                     RTS total industries   \nECTA.S19A1                                     RTS total industries   \n...                                                             ...   \nECTQ.S4AXP        Debit card usage as a proportion of total ECT ...   \nECTQ.S4AXP        Debit card usage as a proportion of total ECT ...   \nECTQ.S4AXP        Debit card usage as a proportion of total ECT ...   \nECTQ.S4AXP        Debit card usage as a proportion of total ECT ...   \nECTQ.S4AXP        Debit card usage as a proportion of total ECT ...   \n\n                  series_title_3  series_title_4  series_title_5  \nSeries_reference                                                  \nECTA.S19A1                   NaN             NaN             NaN  \nECTA.S19A1                   NaN             NaN             NaN  \nECTA.S19A1                   NaN             NaN             NaN  \nECTA.S19A1                   NaN             NaN             NaN  \nECTA.S19A1                   NaN             NaN             NaN  \n...                          ...             ...             ...  \nECTQ.S4AXP        Proportion (%)             NaN             NaN  \nECTQ.S4AXP        Proportion (%)             NaN             NaN  \nECTQ.S4AXP        Proportion (%)             NaN             NaN  \nECTQ.S4AXP        Proportion (%)             NaN             NaN  \nECTQ.S4AXP        Proportion (%)             NaN             NaN  \n\n[19256 rows x 12 columns]",
      "text/html": "<div>\n<style scoped>\n    .dataframe tbody tr th:only-of-type {\n        vertical-align: middle;\n    }\n\n    .dataframe tbody tr th {\n        vertical-align: top;\n    }\n\n    .dataframe thead th {\n        text-align: right;\n    }\n</style>\n<table border=\"1\" class=\"dataframe\">\n  <thead>\n    <tr style=\"text-align: right;\">\n      <th></th>\n      <th>period</th>\n      <th>data_value</th>\n      <th>status</th>\n      <th>units</th>\n      <th>magnitude</th>\n      <th>subject</th>\n      <th>group</th>\n      <th>series_title_1</th>\n      <th>series_title_2</th>\n      <th>series_title_3</th>\n      <th>series_title_4</th>\n      <th>series_title_5</th>\n    </tr>\n    <tr>\n      <th>Series_reference</th>\n      <th></th>\n      <th></th>\n      <th></th>\n      <th></th>\n      <th></th>\n      <th></th>\n      <th></th>\n      <th></th>\n      <th></th>\n      <th></th>\n      <th></th>\n      <th></th>\n    </tr>\n  </thead>\n  <tbody>\n    <tr>\n      <th>ECTA.S19A1</th>\n      <td>2001.03</td>\n      <td>2462.5</td>\n      <td>F</td>\n      <td>Dollars</td>\n      <td>6</td>\n      <td>Electronic Card Transactions (ANZSIC06) - ECT</td>\n      <td>Total values - Electronic card transactions A/...</td>\n      <td>Actual</td>\n      <td>RTS total industries</td>\n      <td>NaN</td>\n      <td>NaN</td>\n      <td>NaN</td>\n    </tr>\n    <tr>\n      <th>ECTA.S19A1</th>\n      <td>2002.03</td>\n      <td>17177.2</td>\n      <td>F</td>\n      <td>Dollars</td>\n      <td>6</td>\n      <td>Electronic Card Transactions (ANZSIC06) - ECT</td>\n      <td>Total values - Electronic card transactions A/...</td>\n      <td>Actual</td>\n      <td>RTS total industries</td>\n      <td>NaN</td>\n      <td>NaN</td>\n      <td>NaN</td>\n    </tr>\n    <tr>\n      <th>ECTA.S19A1</th>\n      <td>2003.03</td>\n      <td>22530.5</td>\n      <td>F</td>\n      <td>Dollars</td>\n      <td>6</td>\n      <td>Electronic Card Transactions (ANZSIC06) - ECT</td>\n      <td>Total values - Electronic card transactions A/...</td>\n      <td>Actual</td>\n      <td>RTS total industries</td>\n      <td>NaN</td>\n      <td>NaN</td>\n      <td>NaN</td>\n    </tr>\n    <tr>\n      <th>ECTA.S19A1</th>\n      <td>2004.03</td>\n      <td>28005.1</td>\n      <td>F</td>\n      <td>Dollars</td>\n      <td>6</td>\n      <td>Electronic Card Transactions (ANZSIC06) - ECT</td>\n      <td>Total values - Electronic card transactions A/...</td>\n      <td>Actual</td>\n      <td>RTS total industries</td>\n      <td>NaN</td>\n      <td>NaN</td>\n      <td>NaN</td>\n    </tr>\n    <tr>\n      <th>ECTA.S19A1</th>\n      <td>2005.03</td>\n      <td>30629.6</td>\n      <td>F</td>\n      <td>Dollars</td>\n      <td>6</td>\n      <td>Electronic Card Transactions (ANZSIC06) - ECT</td>\n      <td>Total values - Electronic card transactions A/...</td>\n      <td>Actual</td>\n      <td>RTS total industries</td>\n      <td>NaN</td>\n      <td>NaN</td>\n      <td>NaN</td>\n    </tr>\n    <tr>\n      <th>...</th>\n      <td>...</td>\n      <td>...</td>\n      <td>...</td>\n      <td>...</td>\n      <td>...</td>\n      <td>...</td>\n      <td>...</td>\n      <td>...</td>\n      <td>...</td>\n      <td>...</td>\n      <td>...</td>\n      <td>...</td>\n    </tr>\n    <tr>\n      <th>ECTQ.S4AXP</th>\n      <td>2022.12</td>\n      <td>32.7</td>\n      <td>F</td>\n      <td>Percent</td>\n      <td>0</td>\n      <td>Electronic Card Transactions (ANZSIC06) - ECT</td>\n      <td>Electronic card transactions by mean and propo...</td>\n      <td>Actual</td>\n      <td>Debit card usage as a proportion of total ECT ...</td>\n      <td>Proportion (%)</td>\n      <td>NaN</td>\n      <td>NaN</td>\n    </tr>\n    <tr>\n      <th>ECTQ.S4AXP</th>\n      <td>2023.03</td>\n      <td>31.9</td>\n      <td>F</td>\n      <td>Percent</td>\n      <td>0</td>\n      <td>Electronic Card Transactions (ANZSIC06) - ECT</td>\n      <td>Electronic card transactions by mean and propo...</td>\n      <td>Actual</td>\n      <td>Debit card usage as a proportion of total ECT ...</td>\n      <td>Proportion (%)</td>\n      <td>NaN</td>\n      <td>NaN</td>\n    </tr>\n    <tr>\n      <th>ECTQ.S4AXP</th>\n      <td>2023.06</td>\n      <td>33.0</td>\n      <td>F</td>\n      <td>Percent</td>\n      <td>0</td>\n      <td>Electronic Card Transactions (ANZSIC06) - ECT</td>\n      <td>Electronic card transactions by mean and propo...</td>\n      <td>Actual</td>\n      <td>Debit card usage as a proportion of total ECT ...</td>\n      <td>Proportion (%)</td>\n      <td>NaN</td>\n      <td>NaN</td>\n    </tr>\n    <tr>\n      <th>ECTQ.S4AXP</th>\n      <td>2023.09</td>\n      <td>33.2</td>\n      <td>F</td>\n      <td>Percent</td>\n      <td>0</td>\n      <td>Electronic Card Transactions (ANZSIC06) - ECT</td>\n      <td>Electronic card transactions by mean and propo...</td>\n      <td>Actual</td>\n      <td>Debit card usage as a proportion of total ECT ...</td>\n      <td>Proportion (%)</td>\n      <td>NaN</td>\n      <td>NaN</td>\n    </tr>\n    <tr>\n      <th>ECTQ.S4AXP</th>\n      <td>2023.12</td>\n      <td>32.7</td>\n      <td>F</td>\n      <td>Percent</td>\n      <td>0</td>\n      <td>Electronic Card Transactions (ANZSIC06) - ECT</td>\n      <td>Electronic card transactions by mean and propo...</td>\n      <td>Actual</td>\n      <td>Debit card usage as a proportion of total ECT ...</td>\n      <td>Proportion (%)</td>\n      <td>NaN</td>\n      <td>NaN</td>\n    </tr>\n  </tbody>\n</table>\n<p>19256 rows × 12 columns</p>\n</div>"
     },
     "execution_count": 29,
     "metadata": {},
     "output_type": "execute_result"
    }
   ],
   "source": [
    "df.columns = [col.lower().replace(' ', '_') for col in df.columns]\n",
    "df"
   ],
   "metadata": {
    "collapsed": false,
    "ExecuteTime": {
     "end_time": "2024-02-11T17:25:11.922700400Z",
     "start_time": "2024-02-11T17:25:11.893643200Z"
    }
   },
   "id": "f8faf874485a0c44"
  },
  {
   "cell_type": "code",
   "execution_count": 30,
   "outputs": [
    {
     "data": {
      "text/plain": "                  count          mean           std      min      25%  \\\nperiod          19256.0  2.011828e+03  6.367885e+00  2000.01  2006.12   \ndata_value      18135.0  1.656121e+07  8.924288e+07   -51.30   177.35   \nmagnitude       19256.0  4.135127e+00  2.777029e+00     0.00     0.00   \nseries_title_4      0.0           NaN           NaN      NaN      NaN   \nseries_title_5      0.0           NaN           NaN      NaN      NaN   \n\n                    50%      75%           max  \nperiod          2012.03  2017.08  2.023120e+03  \ndata_value      1217.10  4457.80  1.912408e+09  \nmagnitude          6.00     6.00  6.000000e+00  \nseries_title_4      NaN      NaN           NaN  \nseries_title_5      NaN      NaN           NaN  ",
      "text/html": "<div>\n<style scoped>\n    .dataframe tbody tr th:only-of-type {\n        vertical-align: middle;\n    }\n\n    .dataframe tbody tr th {\n        vertical-align: top;\n    }\n\n    .dataframe thead th {\n        text-align: right;\n    }\n</style>\n<table border=\"1\" class=\"dataframe\">\n  <thead>\n    <tr style=\"text-align: right;\">\n      <th></th>\n      <th>count</th>\n      <th>mean</th>\n      <th>std</th>\n      <th>min</th>\n      <th>25%</th>\n      <th>50%</th>\n      <th>75%</th>\n      <th>max</th>\n    </tr>\n  </thead>\n  <tbody>\n    <tr>\n      <th>period</th>\n      <td>19256.0</td>\n      <td>2.011828e+03</td>\n      <td>6.367885e+00</td>\n      <td>2000.01</td>\n      <td>2006.12</td>\n      <td>2012.03</td>\n      <td>2017.08</td>\n      <td>2.023120e+03</td>\n    </tr>\n    <tr>\n      <th>data_value</th>\n      <td>18135.0</td>\n      <td>1.656121e+07</td>\n      <td>8.924288e+07</td>\n      <td>-51.30</td>\n      <td>177.35</td>\n      <td>1217.10</td>\n      <td>4457.80</td>\n      <td>1.912408e+09</td>\n    </tr>\n    <tr>\n      <th>magnitude</th>\n      <td>19256.0</td>\n      <td>4.135127e+00</td>\n      <td>2.777029e+00</td>\n      <td>0.00</td>\n      <td>0.00</td>\n      <td>6.00</td>\n      <td>6.00</td>\n      <td>6.000000e+00</td>\n    </tr>\n    <tr>\n      <th>series_title_4</th>\n      <td>0.0</td>\n      <td>NaN</td>\n      <td>NaN</td>\n      <td>NaN</td>\n      <td>NaN</td>\n      <td>NaN</td>\n      <td>NaN</td>\n      <td>NaN</td>\n    </tr>\n    <tr>\n      <th>series_title_5</th>\n      <td>0.0</td>\n      <td>NaN</td>\n      <td>NaN</td>\n      <td>NaN</td>\n      <td>NaN</td>\n      <td>NaN</td>\n      <td>NaN</td>\n      <td>NaN</td>\n    </tr>\n  </tbody>\n</table>\n</div>"
     },
     "execution_count": 30,
     "metadata": {},
     "output_type": "execute_result"
    }
   ],
   "source": [
    "df.describe().T"
   ],
   "metadata": {
    "collapsed": false,
    "ExecuteTime": {
     "end_time": "2024-02-11T17:25:23.432054900Z",
     "start_time": "2024-02-11T17:25:23.390540900Z"
    }
   },
   "id": "bfe38edb6491d1c9"
  },
  {
   "cell_type": "code",
   "execution_count": 31,
   "outputs": [
    {
     "name": "stdout",
     "output_type": "stream",
     "text": [
      "<class 'pandas.core.frame.DataFrame'>\n",
      "Index: 19256 entries, ECTA.S19A1 to ECTQ.S4AXP\n",
      "Data columns (total 12 columns):\n",
      " #   Column          Non-Null Count  Dtype  \n",
      "---  ------          --------------  -----  \n",
      " 0   period          19256 non-null  float64\n",
      " 1   data_value      18135 non-null  float64\n",
      " 2   status          19256 non-null  object \n",
      " 3   units           19256 non-null  object \n",
      " 4   magnitude       19256 non-null  int64  \n",
      " 5   subject         19256 non-null  object \n",
      " 6   group           19256 non-null  object \n",
      " 7   series_title_1  19256 non-null  object \n",
      " 8   series_title_2  19256 non-null  object \n",
      " 9   series_title_3  3950 non-null   object \n",
      " 10  series_title_4  0 non-null      float64\n",
      " 11  series_title_5  0 non-null      float64\n",
      "dtypes: float64(4), int64(1), object(7)\n",
      "memory usage: 1.9+ MB\n"
     ]
    }
   ],
   "source": [
    "df.info()"
   ],
   "metadata": {
    "collapsed": false,
    "ExecuteTime": {
     "end_time": "2024-02-11T17:25:31.268979400Z",
     "start_time": "2024-02-11T17:25:31.246066100Z"
    }
   },
   "id": "493859f8899e4e51"
  },
  {
   "cell_type": "code",
   "execution_count": 33,
   "outputs": [
    {
     "data": {
      "text/plain": "                   period  data_value status    units  magnitude  \\\nSeries_reference                                                   \nECTA.S19A1        2001.03      2462.5      F  Dollars          6   \nECTA.S19A1        2002.03     17177.2      F  Dollars          6   \nECTA.S19A1        2003.03     22530.5      F  Dollars          6   \nECTA.S19A1        2004.03     28005.1      F  Dollars          6   \nECTA.S19A1        2005.03     30629.6      F  Dollars          6   \nECTA.S19A1        2006.03     33317.4      F  Dollars          6   \nECTA.S19A1        2007.03     36422.0      F  Dollars          6   \nECTA.S19A1        2008.03     39198.0      F  Dollars          6   \nECTA.S19A1        2009.03     40629.4      F  Dollars          6   \nECTA.S19A1        2010.03     41815.4      F  Dollars          6   \n\n                                                        subject  \\\nSeries_reference                                                  \nECTA.S19A1        Electronic Card Transactions (ANZSIC06) - ECT   \nECTA.S19A1        Electronic Card Transactions (ANZSIC06) - ECT   \nECTA.S19A1        Electronic Card Transactions (ANZSIC06) - ECT   \nECTA.S19A1        Electronic Card Transactions (ANZSIC06) - ECT   \nECTA.S19A1        Electronic Card Transactions (ANZSIC06) - ECT   \nECTA.S19A1        Electronic Card Transactions (ANZSIC06) - ECT   \nECTA.S19A1        Electronic Card Transactions (ANZSIC06) - ECT   \nECTA.S19A1        Electronic Card Transactions (ANZSIC06) - ECT   \nECTA.S19A1        Electronic Card Transactions (ANZSIC06) - ECT   \nECTA.S19A1        Electronic Card Transactions (ANZSIC06) - ECT   \n\n                                                              group  \\\nSeries_reference                                                      \nECTA.S19A1        Total values - Electronic card transactions A/...   \nECTA.S19A1        Total values - Electronic card transactions A/...   \nECTA.S19A1        Total values - Electronic card transactions A/...   \nECTA.S19A1        Total values - Electronic card transactions A/...   \nECTA.S19A1        Total values - Electronic card transactions A/...   \nECTA.S19A1        Total values - Electronic card transactions A/...   \nECTA.S19A1        Total values - Electronic card transactions A/...   \nECTA.S19A1        Total values - Electronic card transactions A/...   \nECTA.S19A1        Total values - Electronic card transactions A/...   \nECTA.S19A1        Total values - Electronic card transactions A/...   \n\n                 series_title_1        series_title_2 series_title_3  \\\nSeries_reference                                                       \nECTA.S19A1               Actual  RTS total industries            NaN   \nECTA.S19A1               Actual  RTS total industries            NaN   \nECTA.S19A1               Actual  RTS total industries            NaN   \nECTA.S19A1               Actual  RTS total industries            NaN   \nECTA.S19A1               Actual  RTS total industries            NaN   \nECTA.S19A1               Actual  RTS total industries            NaN   \nECTA.S19A1               Actual  RTS total industries            NaN   \nECTA.S19A1               Actual  RTS total industries            NaN   \nECTA.S19A1               Actual  RTS total industries            NaN   \nECTA.S19A1               Actual  RTS total industries            NaN   \n\n                  series_title_4  series_title_5  \nSeries_reference                                  \nECTA.S19A1                   NaN             NaN  \nECTA.S19A1                   NaN             NaN  \nECTA.S19A1                   NaN             NaN  \nECTA.S19A1                   NaN             NaN  \nECTA.S19A1                   NaN             NaN  \nECTA.S19A1                   NaN             NaN  \nECTA.S19A1                   NaN             NaN  \nECTA.S19A1                   NaN             NaN  \nECTA.S19A1                   NaN             NaN  \nECTA.S19A1                   NaN             NaN  ",
      "text/html": "<div>\n<style scoped>\n    .dataframe tbody tr th:only-of-type {\n        vertical-align: middle;\n    }\n\n    .dataframe tbody tr th {\n        vertical-align: top;\n    }\n\n    .dataframe thead th {\n        text-align: right;\n    }\n</style>\n<table border=\"1\" class=\"dataframe\">\n  <thead>\n    <tr style=\"text-align: right;\">\n      <th></th>\n      <th>period</th>\n      <th>data_value</th>\n      <th>status</th>\n      <th>units</th>\n      <th>magnitude</th>\n      <th>subject</th>\n      <th>group</th>\n      <th>series_title_1</th>\n      <th>series_title_2</th>\n      <th>series_title_3</th>\n      <th>series_title_4</th>\n      <th>series_title_5</th>\n    </tr>\n    <tr>\n      <th>Series_reference</th>\n      <th></th>\n      <th></th>\n      <th></th>\n      <th></th>\n      <th></th>\n      <th></th>\n      <th></th>\n      <th></th>\n      <th></th>\n      <th></th>\n      <th></th>\n      <th></th>\n    </tr>\n  </thead>\n  <tbody>\n    <tr>\n      <th>ECTA.S19A1</th>\n      <td>2001.03</td>\n      <td>2462.5</td>\n      <td>F</td>\n      <td>Dollars</td>\n      <td>6</td>\n      <td>Electronic Card Transactions (ANZSIC06) - ECT</td>\n      <td>Total values - Electronic card transactions A/...</td>\n      <td>Actual</td>\n      <td>RTS total industries</td>\n      <td>NaN</td>\n      <td>NaN</td>\n      <td>NaN</td>\n    </tr>\n    <tr>\n      <th>ECTA.S19A1</th>\n      <td>2002.03</td>\n      <td>17177.2</td>\n      <td>F</td>\n      <td>Dollars</td>\n      <td>6</td>\n      <td>Electronic Card Transactions (ANZSIC06) - ECT</td>\n      <td>Total values - Electronic card transactions A/...</td>\n      <td>Actual</td>\n      <td>RTS total industries</td>\n      <td>NaN</td>\n      <td>NaN</td>\n      <td>NaN</td>\n    </tr>\n    <tr>\n      <th>ECTA.S19A1</th>\n      <td>2003.03</td>\n      <td>22530.5</td>\n      <td>F</td>\n      <td>Dollars</td>\n      <td>6</td>\n      <td>Electronic Card Transactions (ANZSIC06) - ECT</td>\n      <td>Total values - Electronic card transactions A/...</td>\n      <td>Actual</td>\n      <td>RTS total industries</td>\n      <td>NaN</td>\n      <td>NaN</td>\n      <td>NaN</td>\n    </tr>\n    <tr>\n      <th>ECTA.S19A1</th>\n      <td>2004.03</td>\n      <td>28005.1</td>\n      <td>F</td>\n      <td>Dollars</td>\n      <td>6</td>\n      <td>Electronic Card Transactions (ANZSIC06) - ECT</td>\n      <td>Total values - Electronic card transactions A/...</td>\n      <td>Actual</td>\n      <td>RTS total industries</td>\n      <td>NaN</td>\n      <td>NaN</td>\n      <td>NaN</td>\n    </tr>\n    <tr>\n      <th>ECTA.S19A1</th>\n      <td>2005.03</td>\n      <td>30629.6</td>\n      <td>F</td>\n      <td>Dollars</td>\n      <td>6</td>\n      <td>Electronic Card Transactions (ANZSIC06) - ECT</td>\n      <td>Total values - Electronic card transactions A/...</td>\n      <td>Actual</td>\n      <td>RTS total industries</td>\n      <td>NaN</td>\n      <td>NaN</td>\n      <td>NaN</td>\n    </tr>\n    <tr>\n      <th>ECTA.S19A1</th>\n      <td>2006.03</td>\n      <td>33317.4</td>\n      <td>F</td>\n      <td>Dollars</td>\n      <td>6</td>\n      <td>Electronic Card Transactions (ANZSIC06) - ECT</td>\n      <td>Total values - Electronic card transactions A/...</td>\n      <td>Actual</td>\n      <td>RTS total industries</td>\n      <td>NaN</td>\n      <td>NaN</td>\n      <td>NaN</td>\n    </tr>\n    <tr>\n      <th>ECTA.S19A1</th>\n      <td>2007.03</td>\n      <td>36422.0</td>\n      <td>F</td>\n      <td>Dollars</td>\n      <td>6</td>\n      <td>Electronic Card Transactions (ANZSIC06) - ECT</td>\n      <td>Total values - Electronic card transactions A/...</td>\n      <td>Actual</td>\n      <td>RTS total industries</td>\n      <td>NaN</td>\n      <td>NaN</td>\n      <td>NaN</td>\n    </tr>\n    <tr>\n      <th>ECTA.S19A1</th>\n      <td>2008.03</td>\n      <td>39198.0</td>\n      <td>F</td>\n      <td>Dollars</td>\n      <td>6</td>\n      <td>Electronic Card Transactions (ANZSIC06) - ECT</td>\n      <td>Total values - Electronic card transactions A/...</td>\n      <td>Actual</td>\n      <td>RTS total industries</td>\n      <td>NaN</td>\n      <td>NaN</td>\n      <td>NaN</td>\n    </tr>\n    <tr>\n      <th>ECTA.S19A1</th>\n      <td>2009.03</td>\n      <td>40629.4</td>\n      <td>F</td>\n      <td>Dollars</td>\n      <td>6</td>\n      <td>Electronic Card Transactions (ANZSIC06) - ECT</td>\n      <td>Total values - Electronic card transactions A/...</td>\n      <td>Actual</td>\n      <td>RTS total industries</td>\n      <td>NaN</td>\n      <td>NaN</td>\n      <td>NaN</td>\n    </tr>\n    <tr>\n      <th>ECTA.S19A1</th>\n      <td>2010.03</td>\n      <td>41815.4</td>\n      <td>F</td>\n      <td>Dollars</td>\n      <td>6</td>\n      <td>Electronic Card Transactions (ANZSIC06) - ECT</td>\n      <td>Total values - Electronic card transactions A/...</td>\n      <td>Actual</td>\n      <td>RTS total industries</td>\n      <td>NaN</td>\n      <td>NaN</td>\n      <td>NaN</td>\n    </tr>\n  </tbody>\n</table>\n</div>"
     },
     "execution_count": 33,
     "metadata": {},
     "output_type": "execute_result"
    }
   ],
   "source": [
    "df.head(10)"
   ],
   "metadata": {
    "collapsed": false,
    "ExecuteTime": {
     "end_time": "2024-02-11T17:43:11.625040600Z",
     "start_time": "2024-02-11T17:43:11.584850700Z"
    }
   },
   "id": "e945fa9cf92c76b0"
  },
  {
   "cell_type": "code",
   "execution_count": null,
   "outputs": [],
   "source": [],
   "metadata": {
    "collapsed": false
   },
   "id": "35e64539ff2642c2"
  }
 ],
 "metadata": {
  "kernelspec": {
   "display_name": "Python 3",
   "language": "python",
   "name": "python3"
  },
  "language_info": {
   "codemirror_mode": {
    "name": "ipython",
    "version": 2
   },
   "file_extension": ".py",
   "mimetype": "text/x-python",
   "name": "python",
   "nbconvert_exporter": "python",
   "pygments_lexer": "ipython2",
   "version": "2.7.6"
  }
 },
 "nbformat": 4,
 "nbformat_minor": 5
}
